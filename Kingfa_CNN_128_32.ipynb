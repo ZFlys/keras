{
 "cells": [
  {
   "cell_type": "code",
   "execution_count": 1,
   "metadata": {
    "ExecuteTime": {
     "end_time": "2018-12-06T03:08:40.939668Z",
     "start_time": "2018-12-06T03:08:39.640594Z"
    }
   },
   "outputs": [],
   "source": [
    "import os\n",
    "import numpy as np\n",
    "import pandas as pd\n",
    "import pywt\n",
    "import matplotlib.pyplot as plt"
   ]
  },
  {
   "cell_type": "code",
   "execution_count": 2,
   "metadata": {
    "ExecuteTime": {
     "end_time": "2018-12-06T03:08:44.132851Z",
     "start_time": "2018-12-06T03:08:44.128851Z"
    }
   },
   "outputs": [],
   "source": [
    "kingfa_datasets_path = \"./kingfadatasets/\""
   ]
  },
  {
   "cell_type": "code",
   "execution_count": 3,
   "metadata": {
    "ExecuteTime": {
     "end_time": "2018-12-06T03:08:45.399923Z",
     "start_time": "2018-12-06T03:08:45.392923Z"
    }
   },
   "outputs": [],
   "source": [
    "def wpt1D(data, wavelet='db1', mode='symmetric', maxlevel=5):\n",
    "    wp = pywt.WaveletPacket(data=data, wavelet=wavelet, mode=mode, maxlevel=maxlevel)\n",
    "    paths = [node.path for node in wp.get_level(5)]  # 列出所有树节点路径\n",
    "    df_wpt = pd.DataFrame()  # 合并所有四级子节点\n",
    "    for a in paths:\n",
    "        df_wpt[a] = wp[a].data\n",
    "    return df_wpt.values"
   ]
  },
  {
   "cell_type": "code",
   "execution_count": 4,
   "metadata": {
    "ExecuteTime": {
     "end_time": "2018-12-06T03:08:56.744572Z",
     "start_time": "2018-12-06T03:08:51.575277Z"
    }
   },
   "outputs": [],
   "source": [
    "X = np.array(pd.read_csv(kingfa_datasets_path+\"data.csv\", index_col=0))"
   ]
  },
  {
   "cell_type": "code",
   "execution_count": 5,
   "metadata": {
    "ExecuteTime": {
     "end_time": "2018-12-06T03:09:32.615624Z",
     "start_time": "2018-12-06T03:08:56.746572Z"
    }
   },
   "outputs": [],
   "source": [
    "X = np.apply_along_axis(wpt1D, 1, X)"
   ]
  },
  {
   "cell_type": "code",
   "execution_count": 6,
   "metadata": {
    "ExecuteTime": {
     "end_time": "2018-12-06T03:09:32.626625Z",
     "start_time": "2018-12-06T03:09:32.617624Z"
    }
   },
   "outputs": [],
   "source": [
    "y = np.array(pd.read_csv(kingfa_datasets_path+\"target.csv\", index_col=0))"
   ]
  },
  {
   "cell_type": "code",
   "execution_count": 7,
   "metadata": {
    "ExecuteTime": {
     "end_time": "2018-12-06T03:09:32.644626Z",
     "start_time": "2018-12-06T03:09:32.629625Z"
    }
   },
   "outputs": [
    {
     "name": "stdout",
     "output_type": "stream",
     "text": [
      "(3000, 128, 32)\n",
      "(3000, 1)\n"
     ]
    }
   ],
   "source": [
    "print(X.shape)\n",
    "print(y.shape)"
   ]
  },
  {
   "cell_type": "code",
   "execution_count": 8,
   "metadata": {
    "ExecuteTime": {
     "end_time": "2018-12-06T03:09:36.864867Z",
     "start_time": "2018-12-06T03:09:32.646626Z"
    }
   },
   "outputs": [
    {
     "name": "stderr",
     "output_type": "stream",
     "text": [
      "Using TensorFlow backend.\n"
     ]
    }
   ],
   "source": [
    "import keras\n",
    "from sklearn.model_selection import train_test_split\n",
    "from keras.models import Sequential\n",
    "from keras.layers import Dense, Activation, Conv2D, MaxPooling2D, Flatten\n",
    "from keras.optimizers import Adam"
   ]
  },
  {
   "cell_type": "code",
   "execution_count": 9,
   "metadata": {
    "ExecuteTime": {
     "end_time": "2018-12-06T03:09:41.529134Z",
     "start_time": "2018-12-06T03:09:41.479131Z"
    }
   },
   "outputs": [],
   "source": [
    "X_train, X_test, y_train, y_test = train_test_split(X, y, test_size=0.15, random_state=1024)"
   ]
  },
  {
   "cell_type": "code",
   "execution_count": 10,
   "metadata": {
    "ExecuteTime": {
     "end_time": "2018-12-06T03:10:06.653571Z",
     "start_time": "2018-12-06T03:10:06.646570Z"
    }
   },
   "outputs": [],
   "source": [
    "X_train = X_train.reshape(-1, 128, 32, 1)\n",
    "X_test = X_test.reshape(-1, 128, 32, 1)\n",
    "y_train = keras.utils.to_categorical(y_train, 3)\n",
    "y_test = keras.utils.to_categorical(y_test, 3)"
   ]
  },
  {
   "cell_type": "code",
   "execution_count": 11,
   "metadata": {
    "ExecuteTime": {
     "end_time": "2018-12-06T03:10:07.665629Z",
     "start_time": "2018-12-06T03:10:07.622626Z"
    }
   },
   "outputs": [],
   "source": [
    "model = Sequential()"
   ]
  },
  {
   "cell_type": "code",
   "execution_count": 12,
   "metadata": {
    "ExecuteTime": {
     "end_time": "2018-12-06T03:10:08.989704Z",
     "start_time": "2018-12-06T03:10:08.935701Z"
    }
   },
   "outputs": [],
   "source": [
    "model.add(Conv2D(filters=16, kernel_size=(7, 5), input_shape=(128, 32, 1)))\n",
    "model.add(Activation('sigmoid'))\n",
    "model.add(MaxPooling2D(pool_size=(2,2), padding='same'))"
   ]
  },
  {
   "cell_type": "code",
   "execution_count": 13,
   "metadata": {
    "ExecuteTime": {
     "end_time": "2018-12-06T03:10:10.023764Z",
     "start_time": "2018-12-06T03:10:10.002762Z"
    }
   },
   "outputs": [],
   "source": [
    "model.add(Conv2D(filters=32, kernel_size=(5, 3), padding='same'))\n",
    "model.add(Activation('sigmoid'))\n",
    "model.add(MaxPooling2D(pool_size=(2, 2), padding='same'))"
   ]
  },
  {
   "cell_type": "code",
   "execution_count": 14,
   "metadata": {
    "ExecuteTime": {
     "end_time": "2018-12-06T03:10:11.757863Z",
     "start_time": "2018-12-06T03:10:11.713860Z"
    }
   },
   "outputs": [],
   "source": [
    "model.add(Flatten())\n",
    "model.add(Dense(128))\n",
    "model.add(Activation('sigmoid'))\n",
    "model.add(Dense(3))\n",
    "model.add(Activation('softmax'))"
   ]
  },
  {
   "cell_type": "code",
   "execution_count": 15,
   "metadata": {
    "ExecuteTime": {
     "end_time": "2018-12-06T03:10:12.946931Z",
     "start_time": "2018-12-06T03:10:12.919929Z"
    }
   },
   "outputs": [],
   "source": [
    "adam = Adam(lr=1e-4)"
   ]
  },
  {
   "cell_type": "code",
   "execution_count": 16,
   "metadata": {
    "ExecuteTime": {
     "end_time": "2018-12-06T03:10:14.863040Z",
     "start_time": "2018-12-06T03:10:14.854040Z"
    }
   },
   "outputs": [
    {
     "name": "stdout",
     "output_type": "stream",
     "text": [
      "_________________________________________________________________\n",
      "Layer (type)                 Output Shape              Param #   \n",
      "=================================================================\n",
      "conv2d_1 (Conv2D)            (None, 122, 28, 16)       576       \n",
      "_________________________________________________________________\n",
      "activation_1 (Activation)    (None, 122, 28, 16)       0         \n",
      "_________________________________________________________________\n",
      "max_pooling2d_1 (MaxPooling2 (None, 61, 14, 16)        0         \n",
      "_________________________________________________________________\n",
      "conv2d_2 (Conv2D)            (None, 61, 14, 32)        7712      \n",
      "_________________________________________________________________\n",
      "activation_2 (Activation)    (None, 61, 14, 32)        0         \n",
      "_________________________________________________________________\n",
      "max_pooling2d_2 (MaxPooling2 (None, 31, 7, 32)         0         \n",
      "_________________________________________________________________\n",
      "flatten_1 (Flatten)          (None, 6944)              0         \n",
      "_________________________________________________________________\n",
      "dense_1 (Dense)              (None, 128)               888960    \n",
      "_________________________________________________________________\n",
      "activation_3 (Activation)    (None, 128)               0         \n",
      "_________________________________________________________________\n",
      "dense_2 (Dense)              (None, 3)                 387       \n",
      "_________________________________________________________________\n",
      "activation_4 (Activation)    (None, 3)                 0         \n",
      "=================================================================\n",
      "Total params: 897,635\n",
      "Trainable params: 897,635\n",
      "Non-trainable params: 0\n",
      "_________________________________________________________________\n"
     ]
    }
   ],
   "source": [
    "model.summary()"
   ]
  },
  {
   "cell_type": "code",
   "execution_count": 17,
   "metadata": {
    "ExecuteTime": {
     "end_time": "2018-12-06T03:10:17.176173Z",
     "start_time": "2018-12-06T03:10:17.136170Z"
    }
   },
   "outputs": [],
   "source": [
    "model.compile(optimizer=adam, loss='squared_hinge', metrics=['accuracy'])"
   ]
  },
  {
   "cell_type": "code",
   "execution_count": 18,
   "metadata": {
    "ExecuteTime": {
     "end_time": "2018-12-06T03:44:49.055677Z",
     "start_time": "2018-12-06T03:10:18.040222Z"
    }
   },
   "outputs": [
    {
     "name": "stdout",
     "output_type": "stream",
     "text": [
      "Train on 2295 samples, validate on 255 samples\n",
      "Epoch 1/300\n",
      "2295/2295 [==============================] - 7s 3ms/step - loss: 0.8215 - acc: 0.3246 - val_loss: 0.8151 - val_acc: 0.3216\n",
      "Epoch 2/300\n",
      "2295/2295 [==============================] - 7s 3ms/step - loss: 0.8169 - acc: 0.3373 - val_loss: 0.8149 - val_acc: 0.3255\n",
      "Epoch 3/300\n",
      "2295/2295 [==============================] - 7s 3ms/step - loss: 0.8174 - acc: 0.3098 - val_loss: 0.8158 - val_acc: 0.6431\n",
      "Epoch 4/300\n",
      "2295/2295 [==============================] - 7s 3ms/step - loss: 0.8158 - acc: 0.3569 - val_loss: 0.8152 - val_acc: 0.3529\n",
      "Epoch 5/300\n",
      "2295/2295 [==============================] - 7s 3ms/step - loss: 0.8146 - acc: 0.3481 - val_loss: 0.8126 - val_acc: 0.3216\n",
      "Epoch 6/300\n",
      "2295/2295 [==============================] - 7s 3ms/step - loss: 0.8131 - acc: 0.3847 - val_loss: 0.8109 - val_acc: 0.3529\n",
      "Epoch 7/300\n",
      "2295/2295 [==============================] - 7s 3ms/step - loss: 0.8113 - acc: 0.3582 - val_loss: 0.8097 - val_acc: 0.3255\n",
      "Epoch 8/300\n",
      "2295/2295 [==============================] - 7s 3ms/step - loss: 0.8086 - acc: 0.4405 - val_loss: 0.8060 - val_acc: 0.6510\n",
      "Epoch 9/300\n",
      "2295/2295 [==============================] - 7s 3ms/step - loss: 0.8078 - acc: 0.3895 - val_loss: 0.8023 - val_acc: 0.4196\n",
      "Epoch 10/300\n",
      "2295/2295 [==============================] - 7s 3ms/step - loss: 0.8007 - acc: 0.6200 - val_loss: 0.7985 - val_acc: 0.3216\n",
      "Epoch 11/300\n",
      "2295/2295 [==============================] - 7s 3ms/step - loss: 0.7901 - acc: 0.6336 - val_loss: 0.7854 - val_acc: 0.6745\n",
      "Epoch 12/300\n",
      "2295/2295 [==============================] - 7s 3ms/step - loss: 0.7790 - acc: 0.6702 - val_loss: 0.7732 - val_acc: 0.6471\n",
      "Epoch 13/300\n",
      "2295/2295 [==============================] - 7s 3ms/step - loss: 0.7658 - acc: 0.6736 - val_loss: 0.7608 - val_acc: 0.6471\n",
      "Epoch 14/300\n",
      "2295/2295 [==============================] - 7s 3ms/step - loss: 0.7542 - acc: 0.6885 - val_loss: 0.7497 - val_acc: 0.6745\n",
      "Epoch 15/300\n",
      "2295/2295 [==============================] - 7s 3ms/step - loss: 0.7486 - acc: 0.6706 - val_loss: 0.7450 - val_acc: 0.6471\n",
      "Epoch 16/300\n",
      "2295/2295 [==============================] - 7s 3ms/step - loss: 0.7401 - acc: 0.7081 - val_loss: 0.7373 - val_acc: 0.6745\n",
      "Epoch 17/300\n",
      "2295/2295 [==============================] - 7s 3ms/step - loss: 0.7352 - acc: 0.6832 - val_loss: 0.7360 - val_acc: 0.6471\n",
      "Epoch 18/300\n",
      "2295/2295 [==============================] - 7s 3ms/step - loss: 0.7335 - acc: 0.6601 - val_loss: 0.7335 - val_acc: 0.6471\n",
      "Epoch 19/300\n",
      "2295/2295 [==============================] - 7s 3ms/step - loss: 0.7300 - acc: 0.7098 - val_loss: 0.7297 - val_acc: 0.6627\n",
      "Epoch 20/300\n",
      "2295/2295 [==============================] - 7s 3ms/step - loss: 0.7277 - acc: 0.7111 - val_loss: 0.7278 - val_acc: 0.7686\n",
      "Epoch 21/300\n",
      "2295/2295 [==============================] - 7s 3ms/step - loss: 0.7265 - acc: 0.7115 - val_loss: 0.7269 - val_acc: 0.6667\n",
      "Epoch 22/300\n",
      "2295/2295 [==============================] - 7s 3ms/step - loss: 0.7252 - acc: 0.7072 - val_loss: 0.7250 - val_acc: 0.8314\n",
      "Epoch 23/300\n",
      "2295/2295 [==============================] - 7s 3ms/step - loss: 0.7251 - acc: 0.7050 - val_loss: 0.7292 - val_acc: 0.6745\n",
      "Epoch 24/300\n",
      "2295/2295 [==============================] - 7s 3ms/step - loss: 0.7231 - acc: 0.7473 - val_loss: 0.7232 - val_acc: 0.8235\n",
      "Epoch 25/300\n",
      "2295/2295 [==============================] - 7s 3ms/step - loss: 0.7237 - acc: 0.7216 - val_loss: 0.7224 - val_acc: 0.7333\n",
      "Epoch 26/300\n",
      "2295/2295 [==============================] - 7s 3ms/step - loss: 0.7218 - acc: 0.7438 - val_loss: 0.7214 - val_acc: 0.7725\n",
      "Epoch 27/300\n",
      "2295/2295 [==============================] - 7s 3ms/step - loss: 0.7211 - acc: 0.7207 - val_loss: 0.7250 - val_acc: 0.6471\n",
      "Epoch 28/300\n",
      "2295/2295 [==============================] - 7s 3ms/step - loss: 0.7206 - acc: 0.7394 - val_loss: 0.7197 - val_acc: 0.8039\n",
      "Epoch 29/300\n",
      "2295/2295 [==============================] - 7s 3ms/step - loss: 0.7198 - acc: 0.7460 - val_loss: 0.7199 - val_acc: 0.7804\n",
      "Epoch 30/300\n",
      "2295/2295 [==============================] - 7s 3ms/step - loss: 0.7174 - acc: 0.8113 - val_loss: 0.7182 - val_acc: 0.7882\n",
      "Epoch 31/300\n",
      "2295/2295 [==============================] - 7s 3ms/step - loss: 0.7186 - acc: 0.7647 - val_loss: 0.7216 - val_acc: 0.6667\n",
      "Epoch 32/300\n",
      "2295/2295 [==============================] - 7s 3ms/step - loss: 0.7155 - acc: 0.8026 - val_loss: 0.7164 - val_acc: 0.7882\n",
      "Epoch 33/300\n",
      "2295/2295 [==============================] - 7s 3ms/step - loss: 0.7145 - acc: 0.8100 - val_loss: 0.7148 - val_acc: 0.8118\n",
      "Epoch 34/300\n",
      "2295/2295 [==============================] - 7s 3ms/step - loss: 0.7135 - acc: 0.8240 - val_loss: 0.7135 - val_acc: 0.8392\n",
      "Epoch 35/300\n",
      "2295/2295 [==============================] - 7s 3ms/step - loss: 0.7138 - acc: 0.7917 - val_loss: 0.7170 - val_acc: 0.7176\n",
      "Epoch 36/300\n",
      "2295/2295 [==============================] - 7s 3ms/step - loss: 0.7118 - acc: 0.8196 - val_loss: 0.7145 - val_acc: 0.7922\n",
      "Epoch 37/300\n",
      "2295/2295 [==============================] - 7s 3ms/step - loss: 0.7124 - acc: 0.8096 - val_loss: 0.7130 - val_acc: 0.7961\n",
      "Epoch 38/300\n",
      "2295/2295 [==============================] - 7s 3ms/step - loss: 0.7106 - acc: 0.8222 - val_loss: 0.7108 - val_acc: 0.8157\n",
      "Epoch 39/300\n",
      "2295/2295 [==============================] - 7s 3ms/step - loss: 0.7092 - acc: 0.8331 - val_loss: 0.7097 - val_acc: 0.8235\n",
      "Epoch 40/300\n",
      "2295/2295 [==============================] - 7s 3ms/step - loss: 0.7081 - acc: 0.8375 - val_loss: 0.7086 - val_acc: 0.8392\n",
      "Epoch 41/300\n",
      "2295/2295 [==============================] - 7s 3ms/step - loss: 0.7069 - acc: 0.8484 - val_loss: 0.7079 - val_acc: 0.8510\n",
      "Epoch 42/300\n",
      "2295/2295 [==============================] - 7s 3ms/step - loss: 0.7069 - acc: 0.8401 - val_loss: 0.7076 - val_acc: 0.8392\n",
      "Epoch 43/300\n",
      "2295/2295 [==============================] - 7s 3ms/step - loss: 0.7075 - acc: 0.8292 - val_loss: 0.7096 - val_acc: 0.8000\n",
      "Epoch 44/300\n",
      "2295/2295 [==============================] - 7s 3ms/step - loss: 0.7067 - acc: 0.8353 - val_loss: 0.7057 - val_acc: 0.8431\n",
      "Epoch 45/300\n",
      "2295/2295 [==============================] - 7s 3ms/step - loss: 0.7054 - acc: 0.8410 - val_loss: 0.7080 - val_acc: 0.8039\n",
      "Epoch 46/300\n",
      "2295/2295 [==============================] - 7s 3ms/step - loss: 0.7037 - acc: 0.8501 - val_loss: 0.7049 - val_acc: 0.8275\n",
      "Epoch 47/300\n",
      "2295/2295 [==============================] - 7s 3ms/step - loss: 0.7029 - acc: 0.8536 - val_loss: 0.7035 - val_acc: 0.8510\n",
      "Epoch 48/300\n",
      "2295/2295 [==============================] - 7s 3ms/step - loss: 0.7023 - acc: 0.8505 - val_loss: 0.7034 - val_acc: 0.8353\n",
      "Epoch 49/300\n",
      "2295/2295 [==============================] - 7s 3ms/step - loss: 0.7021 - acc: 0.8536 - val_loss: 0.7037 - val_acc: 0.8235\n",
      "Epoch 50/300\n",
      "2295/2295 [==============================] - 7s 3ms/step - loss: 0.7016 - acc: 0.8558 - val_loss: 0.7018 - val_acc: 0.8627\n",
      "Epoch 51/300\n",
      "2295/2295 [==============================] - 7s 3ms/step - loss: 0.7005 - acc: 0.8619 - val_loss: 0.7011 - val_acc: 0.8510\n",
      "Epoch 52/300\n",
      "2295/2295 [==============================] - 7s 3ms/step - loss: 0.7007 - acc: 0.8597 - val_loss: 0.7007 - val_acc: 0.8627\n",
      "Epoch 53/300\n",
      "2295/2295 [==============================] - 7s 3ms/step - loss: 0.6982 - acc: 0.8715 - val_loss: 0.6997 - val_acc: 0.8627\n",
      "Epoch 54/300\n",
      "2295/2295 [==============================] - 7s 3ms/step - loss: 0.6983 - acc: 0.8736 - val_loss: 0.6997 - val_acc: 0.8510\n",
      "Epoch 55/300\n",
      "2295/2295 [==============================] - 7s 3ms/step - loss: 0.6993 - acc: 0.8623 - val_loss: 0.6994 - val_acc: 0.8784\n",
      "Epoch 56/300\n",
      "2295/2295 [==============================] - 7s 3ms/step - loss: 0.6977 - acc: 0.8771 - val_loss: 0.7014 - val_acc: 0.8588\n",
      "Epoch 57/300\n",
      "2295/2295 [==============================] - 7s 3ms/step - loss: 0.6968 - acc: 0.8784 - val_loss: 0.6974 - val_acc: 0.8745\n",
      "Epoch 58/300\n",
      "2295/2295 [==============================] - 7s 3ms/step - loss: 0.6963 - acc: 0.8806 - val_loss: 0.6968 - val_acc: 0.8627\n",
      "Epoch 59/300\n",
      "2295/2295 [==============================] - 7s 3ms/step - loss: 0.6953 - acc: 0.8854 - val_loss: 0.6964 - val_acc: 0.8745\n",
      "Epoch 60/300\n",
      "2295/2295 [==============================] - 7s 3ms/step - loss: 0.6972 - acc: 0.8776 - val_loss: 0.7013 - val_acc: 0.8431\n"
     ]
    },
    {
     "name": "stdout",
     "output_type": "stream",
     "text": [
      "Epoch 61/300\n",
      "2295/2295 [==============================] - 7s 3ms/step - loss: 0.6950 - acc: 0.8924 - val_loss: 0.6958 - val_acc: 0.8941\n",
      "Epoch 62/300\n",
      "2295/2295 [==============================] - 7s 3ms/step - loss: 0.6937 - acc: 0.9041 - val_loss: 0.6950 - val_acc: 0.8824acc\n",
      "Epoch 63/300\n",
      "2295/2295 [==============================] - 7s 3ms/step - loss: 0.6927 - acc: 0.9098 - val_loss: 0.6937 - val_acc: 0.9020\n",
      "Epoch 64/300\n",
      "2295/2295 [==============================] - 7s 3ms/step - loss: 0.6934 - acc: 0.9011 - val_loss: 0.6945 - val_acc: 0.8784\n",
      "Epoch 65/300\n",
      "2295/2295 [==============================] - 7s 3ms/step - loss: 0.6917 - acc: 0.9190 - val_loss: 0.6936 - val_acc: 0.8824\n",
      "Epoch 66/300\n",
      "2295/2295 [==============================] - 7s 3ms/step - loss: 0.6927 - acc: 0.8989 - val_loss: 0.6986 - val_acc: 0.8549\n",
      "Epoch 67/300\n",
      "2295/2295 [==============================] - 7s 3ms/step - loss: 0.6905 - acc: 0.9281 - val_loss: 0.6917 - val_acc: 0.9137\n",
      "Epoch 68/300\n",
      "2295/2295 [==============================] - 7s 3ms/step - loss: 0.6899 - acc: 0.9277 - val_loss: 0.6917 - val_acc: 0.9020\n",
      "Epoch 69/300\n",
      "2295/2295 [==============================] - 7s 3ms/step - loss: 0.6917 - acc: 0.9063 - val_loss: 0.6971 - val_acc: 0.8667\n",
      "Epoch 70/300\n",
      "2295/2295 [==============================] - 7s 3ms/step - loss: 0.6909 - acc: 0.9176 - val_loss: 0.6925 - val_acc: 0.8980\n",
      "Epoch 71/300\n",
      "2295/2295 [==============================] - 7s 3ms/step - loss: 0.6892 - acc: 0.9264 - val_loss: 0.6903 - val_acc: 0.9176\n",
      "Epoch 72/300\n",
      "2295/2295 [==============================] - 7s 3ms/step - loss: 0.6895 - acc: 0.9194 - val_loss: 0.6899 - val_acc: 0.9216\n",
      "Epoch 73/300\n",
      "2295/2295 [==============================] - 7s 3ms/step - loss: 0.6887 - acc: 0.9176 - val_loss: 0.6887 - val_acc: 0.9412\n",
      "Epoch 74/300\n",
      "2295/2295 [==============================] - 7s 3ms/step - loss: 0.6873 - acc: 0.9451 - val_loss: 0.6883 - val_acc: 0.9451\n",
      "Epoch 75/300\n",
      "2295/2295 [==============================] - 7s 3ms/step - loss: 0.6865 - acc: 0.9434 - val_loss: 0.6908 - val_acc: 0.8980\n",
      "Epoch 76/300\n",
      "2295/2295 [==============================] - 7s 3ms/step - loss: 0.6883 - acc: 0.9242 - val_loss: 0.6908 - val_acc: 0.8902\n",
      "Epoch 77/300\n",
      "2295/2295 [==============================] - 7s 3ms/step - loss: 0.6870 - acc: 0.9381 - val_loss: 0.6906 - val_acc: 0.8902\n",
      "Epoch 78/300\n",
      "2295/2295 [==============================] - 7s 3ms/step - loss: 0.6879 - acc: 0.9272 - val_loss: 0.6874 - val_acc: 0.9255\n",
      "Epoch 79/300\n",
      "2295/2295 [==============================] - 7s 3ms/step - loss: 0.6861 - acc: 0.9464 - val_loss: 0.6864 - val_acc: 0.9569\n",
      "Epoch 80/300\n",
      "2295/2295 [==============================] - 7s 3ms/step - loss: 0.6850 - acc: 0.9538 - val_loss: 0.6867 - val_acc: 0.9255\n",
      "Epoch 81/300\n",
      "2295/2295 [==============================] - 7s 3ms/step - loss: 0.6860 - acc: 0.9359 - val_loss: 0.6891 - val_acc: 0.9059\n",
      "Epoch 82/300\n",
      "2295/2295 [==============================] - 7s 3ms/step - loss: 0.6842 - acc: 0.9486 - val_loss: 0.6881 - val_acc: 0.9098\n",
      "Epoch 83/300\n",
      "2295/2295 [==============================] - 7s 3ms/step - loss: 0.6835 - acc: 0.9608 - val_loss: 0.6861 - val_acc: 0.9255\n",
      "Epoch 84/300\n",
      "2295/2295 [==============================] - 7s 3ms/step - loss: 0.6834 - acc: 0.9569 - val_loss: 0.6845 - val_acc: 0.9569\n",
      "Epoch 85/300\n",
      "2295/2295 [==============================] - 7s 3ms/step - loss: 0.6829 - acc: 0.9608 - val_loss: 0.6864 - val_acc: 0.9137\n",
      "Epoch 86/300\n",
      "2295/2295 [==============================] - 7s 3ms/step - loss: 0.6828 - acc: 0.9582 - val_loss: 0.6843 - val_acc: 0.9412\n",
      "Epoch 87/300\n",
      "2295/2295 [==============================] - 7s 3ms/step - loss: 0.6825 - acc: 0.9564 - val_loss: 0.6856 - val_acc: 0.9451\n",
      "Epoch 88/300\n",
      "2295/2295 [==============================] - 7s 3ms/step - loss: 0.6828 - acc: 0.9547 - val_loss: 0.6836 - val_acc: 0.9490\n",
      "Epoch 89/300\n",
      "2295/2295 [==============================] - 7s 3ms/step - loss: 0.6816 - acc: 0.9664 - val_loss: 0.6830 - val_acc: 0.9647\n",
      "Epoch 90/300\n",
      "2295/2295 [==============================] - 7s 3ms/step - loss: 0.6813 - acc: 0.9678 - val_loss: 0.6827 - val_acc: 0.9569\n",
      "Epoch 91/300\n",
      "2295/2295 [==============================] - 7s 3ms/step - loss: 0.6808 - acc: 0.9695 - val_loss: 0.6840 - val_acc: 0.9412A: 0s - loss: 0.6808 - acc: 0.970\n",
      "Epoch 92/300\n",
      "2295/2295 [==============================] - 7s 3ms/step - loss: 0.6813 - acc: 0.9603 - val_loss: 0.6821 - val_acc: 0.9647\n",
      "Epoch 93/300\n",
      "2295/2295 [==============================] - 7s 3ms/step - loss: 0.6802 - acc: 0.9721 - val_loss: 0.6822 - val_acc: 0.9529\n",
      "Epoch 94/300\n",
      "2295/2295 [==============================] - 7s 3ms/step - loss: 0.6802 - acc: 0.9678 - val_loss: 0.6816 - val_acc: 0.9569\n",
      "Epoch 95/300\n",
      "2295/2295 [==============================] - 7s 3ms/step - loss: 0.6800 - acc: 0.9673 - val_loss: 0.6846 - val_acc: 0.9333\n",
      "Epoch 96/300\n",
      "2295/2295 [==============================] - 7s 3ms/step - loss: 0.6800 - acc: 0.9647 - val_loss: 0.6846 - val_acc: 0.9294\n",
      "Epoch 97/300\n",
      "2295/2295 [==============================] - 7s 3ms/step - loss: 0.6807 - acc: 0.9621 - val_loss: 0.6811 - val_acc: 0.9647\n",
      "Epoch 98/300\n",
      "2295/2295 [==============================] - 7s 3ms/step - loss: 0.6792 - acc: 0.9686 - val_loss: 0.6809 - val_acc: 0.9569\n",
      "Epoch 99/300\n",
      "2295/2295 [==============================] - 7s 3ms/step - loss: 0.6789 - acc: 0.9691 - val_loss: 0.6804 - val_acc: 0.9647\n",
      "Epoch 100/300\n",
      "2295/2295 [==============================] - 7s 3ms/step - loss: 0.6785 - acc: 0.9730 - val_loss: 0.6806 - val_acc: 0.9529\n",
      "Epoch 101/300\n",
      "2295/2295 [==============================] - 7s 3ms/step - loss: 0.6786 - acc: 0.9704 - val_loss: 0.6800 - val_acc: 0.9647\n",
      "Epoch 102/300\n",
      "2295/2295 [==============================] - 7s 3ms/step - loss: 0.6784 - acc: 0.9721 - val_loss: 0.6798 - val_acc: 0.9647\n",
      "Epoch 103/300\n",
      "2295/2295 [==============================] - 7s 3ms/step - loss: 0.6784 - acc: 0.9682 - val_loss: 0.6807 - val_acc: 0.9647\n",
      "Epoch 104/300\n",
      "2295/2295 [==============================] - 7s 3ms/step - loss: 0.6787 - acc: 0.9682 - val_loss: 0.6858 - val_acc: 0.9098- loss\n",
      "Epoch 105/300\n",
      "2295/2295 [==============================] - 7s 3ms/step - loss: 0.6779 - acc: 0.9708 - val_loss: 0.6792 - val_acc: 0.9647\n",
      "Epoch 106/300\n",
      "2295/2295 [==============================] - 7s 3ms/step - loss: 0.6785 - acc: 0.9673 - val_loss: 0.6792 - val_acc: 0.9647\n",
      "Epoch 107/300\n",
      "2295/2295 [==============================] - 7s 3ms/step - loss: 0.6773 - acc: 0.9747 - val_loss: 0.6788 - val_acc: 0.9647\n",
      "Epoch 108/300\n",
      "2295/2295 [==============================] - 7s 3ms/step - loss: 0.6770 - acc: 0.9743 - val_loss: 0.6789 - val_acc: 0.9647\n",
      "Epoch 109/300\n",
      "2295/2295 [==============================] - 7s 3ms/step - loss: 0.6775 - acc: 0.9717 - val_loss: 0.6836 - val_acc: 0.9294\n",
      "Epoch 110/300\n",
      "2295/2295 [==============================] - 7s 3ms/step - loss: 0.6771 - acc: 0.9743 - val_loss: 0.6789 - val_acc: 0.9608\n",
      "Epoch 111/300\n",
      "2295/2295 [==============================] - 7s 3ms/step - loss: 0.6769 - acc: 0.9704 - val_loss: 0.6784 - val_acc: 0.9647\n",
      "Epoch 112/300\n",
      "2295/2295 [==============================] - 7s 3ms/step - loss: 0.6766 - acc: 0.9756 - val_loss: 0.6787 - val_acc: 0.9686\n",
      "Epoch 113/300\n",
      "2295/2295 [==============================] - 7s 3ms/step - loss: 0.6772 - acc: 0.9708 - val_loss: 0.6788 - val_acc: 0.9608\n",
      "Epoch 114/300\n",
      "2295/2295 [==============================] - 7s 3ms/step - loss: 0.6761 - acc: 0.9765 - val_loss: 0.6783 - val_acc: 0.9686\n",
      "Epoch 115/300\n",
      "2295/2295 [==============================] - 7s 3ms/step - loss: 0.6759 - acc: 0.9765 - val_loss: 0.6797 - val_acc: 0.9529\n",
      "Epoch 116/300\n",
      "2295/2295 [==============================] - 7s 3ms/step - loss: 0.6760 - acc: 0.9765 - val_loss: 0.6796 - val_acc: 0.9529\n",
      "Epoch 117/300\n",
      "2295/2295 [==============================] - 7s 3ms/step - loss: 0.6761 - acc: 0.9756 - val_loss: 0.6773 - val_acc: 0.9647\n",
      "Epoch 118/300\n",
      "2295/2295 [==============================] - 7s 3ms/step - loss: 0.6755 - acc: 0.9769 - val_loss: 0.6771 - val_acc: 0.9647\n",
      "Epoch 119/300\n",
      "2295/2295 [==============================] - 7s 3ms/step - loss: 0.6756 - acc: 0.9769 - val_loss: 0.6861 - val_acc: 0.9137\n",
      "Epoch 120/300\n",
      "2295/2295 [==============================] - 7s 3ms/step - loss: 0.6760 - acc: 0.9721 - val_loss: 0.6769 - val_acc: 0.9647\n"
     ]
    },
    {
     "name": "stdout",
     "output_type": "stream",
     "text": [
      "Epoch 121/300\n",
      "2295/2295 [==============================] - 7s 3ms/step - loss: 0.6750 - acc: 0.9782 - val_loss: 0.6781 - val_acc: 0.9608\n",
      "Epoch 122/300\n",
      "2295/2295 [==============================] - 7s 3ms/step - loss: 0.6749 - acc: 0.9778 - val_loss: 0.6766 - val_acc: 0.9647\n",
      "Epoch 123/300\n",
      "2295/2295 [==============================] - 7s 3ms/step - loss: 0.6752 - acc: 0.9752 - val_loss: 0.6780 - val_acc: 0.9608\n",
      "Epoch 124/300\n",
      "2295/2295 [==============================] - 7s 3ms/step - loss: 0.6748 - acc: 0.9769 - val_loss: 0.6795 - val_acc: 0.9529\n",
      "Epoch 125/300\n",
      "2295/2295 [==============================] - 7s 3ms/step - loss: 0.6751 - acc: 0.9765 - val_loss: 0.6766 - val_acc: 0.9725\n",
      "Epoch 126/300\n",
      "2295/2295 [==============================] - 7s 3ms/step - loss: 0.6748 - acc: 0.9769 - val_loss: 0.6774 - val_acc: 0.9647\n",
      "Epoch 127/300\n",
      "2295/2295 [==============================] - 7s 3ms/step - loss: 0.6748 - acc: 0.9778 - val_loss: 0.6784 - val_acc: 0.9569\n",
      "Epoch 128/300\n",
      "2295/2295 [==============================] - 7s 3ms/step - loss: 0.6746 - acc: 0.9778 - val_loss: 0.6780 - val_acc: 0.9608\n",
      "Epoch 129/300\n",
      "2295/2295 [==============================] - 7s 3ms/step - loss: 0.6745 - acc: 0.9773 - val_loss: 0.6775 - val_acc: 0.9647\n",
      "Epoch 130/300\n",
      "2295/2295 [==============================] - 7s 3ms/step - loss: 0.6743 - acc: 0.9778 - val_loss: 0.6772 - val_acc: 0.9647\n",
      "Epoch 131/300\n",
      "2295/2295 [==============================] - 7s 3ms/step - loss: 0.6754 - acc: 0.9734 - val_loss: 0.6757 - val_acc: 0.9686\n",
      "Epoch 132/300\n",
      "2295/2295 [==============================] - 7s 3ms/step - loss: 0.6744 - acc: 0.9800 - val_loss: 0.6756 - val_acc: 0.9686\n",
      "Epoch 133/300\n",
      "2295/2295 [==============================] - 7s 3ms/step - loss: 0.6740 - acc: 0.9765 - val_loss: 0.6757 - val_acc: 0.9686\n",
      "Epoch 134/300\n",
      "2295/2295 [==============================] - 7s 3ms/step - loss: 0.6740 - acc: 0.9778 - val_loss: 0.6754 - val_acc: 0.9725\n",
      "Epoch 135/300\n",
      "2295/2295 [==============================] - 7s 3ms/step - loss: 0.6742 - acc: 0.9773 - val_loss: 0.6767 - val_acc: 0.9686\n",
      "Epoch 136/300\n",
      "2295/2295 [==============================] - 7s 3ms/step - loss: 0.6750 - acc: 0.9765 - val_loss: 0.6754 - val_acc: 0.9686\n",
      "Epoch 137/300\n",
      "2295/2295 [==============================] - 7s 3ms/step - loss: 0.6734 - acc: 0.9786 - val_loss: 0.6751 - val_acc: 0.9686\n",
      "Epoch 138/300\n",
      "2295/2295 [==============================] - 8s 3ms/step - loss: 0.6738 - acc: 0.9800 - val_loss: 0.6772 - val_acc: 0.9647\n",
      "Epoch 139/300\n",
      "2295/2295 [==============================] - 7s 3ms/step - loss: 0.6734 - acc: 0.9800 - val_loss: 0.6748 - val_acc: 0.9686\n",
      "Epoch 140/300\n",
      "2295/2295 [==============================] - 7s 3ms/step - loss: 0.6731 - acc: 0.9804 - val_loss: 0.6760 - val_acc: 0.9686\n",
      "Epoch 141/300\n",
      "2295/2295 [==============================] - 7s 3ms/step - loss: 0.6732 - acc: 0.9795 - val_loss: 0.6765 - val_acc: 0.9647\n",
      "Epoch 142/300\n",
      "2295/2295 [==============================] - 7s 3ms/step - loss: 0.6731 - acc: 0.9795 - val_loss: 0.6757 - val_acc: 0.9686\n",
      "Epoch 143/300\n",
      "2295/2295 [==============================] - 7s 3ms/step - loss: 0.6731 - acc: 0.9791 - val_loss: 0.6772 - val_acc: 0.9608\n",
      "Epoch 144/300\n",
      "2295/2295 [==============================] - 7s 3ms/step - loss: 0.6727 - acc: 0.9804 - val_loss: 0.6752 - val_acc: 0.9686\n",
      "Epoch 145/300\n",
      "2295/2295 [==============================] - 7s 3ms/step - loss: 0.6737 - acc: 0.9795 - val_loss: 0.6765 - val_acc: 0.9647\n",
      "Epoch 146/300\n",
      "2295/2295 [==============================] - 7s 3ms/step - loss: 0.6727 - acc: 0.9821 - val_loss: 0.6775 - val_acc: 0.9608\n",
      "Epoch 147/300\n",
      "2295/2295 [==============================] - 7s 3ms/step - loss: 0.6732 - acc: 0.9800 - val_loss: 0.6749 - val_acc: 0.9686\n",
      "Epoch 148/300\n",
      "2295/2295 [==============================] - 7s 3ms/step - loss: 0.6734 - acc: 0.9821 - val_loss: 0.6751 - val_acc: 0.9686\n",
      "Epoch 149/300\n",
      "2295/2295 [==============================] - 7s 3ms/step - loss: 0.6727 - acc: 0.9817 - val_loss: 0.6740 - val_acc: 0.9765\n",
      "Epoch 150/300\n",
      "2295/2295 [==============================] - 7s 3ms/step - loss: 0.6724 - acc: 0.9821 - val_loss: 0.6739 - val_acc: 0.9765\n",
      "Epoch 151/300\n",
      "2295/2295 [==============================] - 7s 3ms/step - loss: 0.6723 - acc: 0.9821 - val_loss: 0.6773 - val_acc: 0.9608\n",
      "Epoch 152/300\n",
      "2295/2295 [==============================] - 7s 3ms/step - loss: 0.6730 - acc: 0.9813 - val_loss: 0.6739 - val_acc: 0.9686\n",
      "Epoch 153/300\n",
      "2295/2295 [==============================] - 7s 3ms/step - loss: 0.6721 - acc: 0.9834 - val_loss: 0.6754 - val_acc: 0.9686\n",
      "Epoch 154/300\n",
      "2295/2295 [==============================] - 7s 3ms/step - loss: 0.6726 - acc: 0.9826 - val_loss: 0.6761 - val_acc: 0.9686\n",
      "Epoch 155/300\n",
      "2295/2295 [==============================] - 7s 3ms/step - loss: 0.6722 - acc: 0.9813 - val_loss: 0.6746 - val_acc: 0.9686\n",
      "Epoch 156/300\n",
      "2295/2295 [==============================] - 7s 3ms/step - loss: 0.6721 - acc: 0.9826 - val_loss: 0.6734 - val_acc: 0.9765\n",
      "Epoch 157/300\n",
      "2295/2295 [==============================] - 7s 3ms/step - loss: 0.6718 - acc: 0.9839 - val_loss: 0.6756 - val_acc: 0.9686\n",
      "Epoch 158/300\n",
      "2295/2295 [==============================] - 7s 3ms/step - loss: 0.6719 - acc: 0.9830 - val_loss: 0.6755 - val_acc: 0.9686\n",
      "Epoch 159/300\n",
      "2295/2295 [==============================] - 7s 3ms/step - loss: 0.6724 - acc: 0.9839 - val_loss: 0.6752 - val_acc: 0.9686\n",
      "Epoch 160/300\n",
      "2295/2295 [==============================] - 7s 3ms/step - loss: 0.6716 - acc: 0.9847 - val_loss: 0.6747 - val_acc: 0.9686\n",
      "Epoch 161/300\n",
      "2295/2295 [==============================] - 7s 3ms/step - loss: 0.6716 - acc: 0.9813 - val_loss: 0.6737 - val_acc: 0.9882\n",
      "Epoch 162/300\n",
      "2295/2295 [==============================] - 7s 3ms/step - loss: 0.6716 - acc: 0.9839 - val_loss: 0.6748 - val_acc: 0.9686\n",
      "Epoch 163/300\n",
      "2295/2295 [==============================] - 7s 3ms/step - loss: 0.6725 - acc: 0.9800 - val_loss: 0.6731 - val_acc: 0.9804\n",
      "Epoch 164/300\n",
      "2295/2295 [==============================] - 7s 3ms/step - loss: 0.6724 - acc: 0.9861 - val_loss: 0.6746 - val_acc: 0.9686\n",
      "Epoch 165/300\n",
      "2295/2295 [==============================] - 7s 3ms/step - loss: 0.6717 - acc: 0.9834 - val_loss: 0.6733 - val_acc: 0.9686\n",
      "Epoch 166/300\n",
      "2295/2295 [==============================] - 7s 3ms/step - loss: 0.6721 - acc: 0.9852 - val_loss: 0.6777 - val_acc: 0.9569\n",
      "Epoch 167/300\n",
      "2295/2295 [==============================] - 7s 3ms/step - loss: 0.6718 - acc: 0.9821 - val_loss: 0.6727 - val_acc: 0.9804\n",
      "Epoch 168/300\n",
      "2295/2295 [==============================] - 7s 3ms/step - loss: 0.6717 - acc: 0.9852 - val_loss: 0.6740 - val_acc: 0.9804\n",
      "Epoch 169/300\n",
      "2295/2295 [==============================] - 7s 3ms/step - loss: 0.6712 - acc: 0.9847 - val_loss: 0.6728 - val_acc: 0.9843\n",
      "Epoch 170/300\n",
      "2295/2295 [==============================] - 7s 3ms/step - loss: 0.6712 - acc: 0.9861 - val_loss: 0.6743 - val_acc: 0.9686\n",
      "Epoch 171/300\n",
      "2295/2295 [==============================] - 7s 3ms/step - loss: 0.6719 - acc: 0.9817 - val_loss: 0.6759 - val_acc: 0.9686\n",
      "Epoch 172/300\n",
      "2295/2295 [==============================] - 7s 3ms/step - loss: 0.6719 - acc: 0.9821 - val_loss: 0.6731 - val_acc: 0.9725\n",
      "Epoch 173/300\n",
      "2295/2295 [==============================] - 7s 3ms/step - loss: 0.6715 - acc: 0.9861 - val_loss: 0.6723 - val_acc: 0.9804\n",
      "Epoch 174/300\n",
      "2295/2295 [==============================] - 7s 3ms/step - loss: 0.6709 - acc: 0.9852 - val_loss: 0.6725 - val_acc: 0.9922\n",
      "Epoch 175/300\n",
      "2295/2295 [==============================] - 7s 3ms/step - loss: 0.6707 - acc: 0.9882 - val_loss: 0.6722 - val_acc: 0.9804\n",
      "Epoch 176/300\n",
      "2295/2295 [==============================] - 7s 3ms/step - loss: 0.6710 - acc: 0.9856 - val_loss: 0.6729 - val_acc: 0.9882\n",
      "Epoch 177/300\n",
      "2295/2295 [==============================] - 7s 3ms/step - loss: 0.6708 - acc: 0.9878 - val_loss: 0.6722 - val_acc: 0.9804\n",
      "Epoch 178/300\n",
      "2295/2295 [==============================] - 7s 3ms/step - loss: 0.6705 - acc: 0.9869 - val_loss: 0.6720 - val_acc: 0.9804\n",
      "Epoch 179/300\n",
      "2295/2295 [==============================] - 7s 3ms/step - loss: 0.6707 - acc: 0.9882 - val_loss: 0.6722 - val_acc: 0.9804\n",
      "Epoch 180/300\n"
     ]
    },
    {
     "name": "stdout",
     "output_type": "stream",
     "text": [
      "2295/2295 [==============================] - 7s 3ms/step - loss: 0.6704 - acc: 0.9887 - val_loss: 0.6719 - val_acc: 0.9804\n",
      "Epoch 181/300\n",
      "2295/2295 [==============================] - 7s 3ms/step - loss: 0.6704 - acc: 0.9882 - val_loss: 0.6720 - val_acc: 0.9804\n",
      "Epoch 182/300\n",
      "2295/2295 [==============================] - 7s 3ms/step - loss: 0.6707 - acc: 0.9869 - val_loss: 0.6717 - val_acc: 0.9804\n",
      "Epoch 183/300\n",
      "2295/2295 [==============================] - 7s 3ms/step - loss: 0.6703 - acc: 0.9895 - val_loss: 0.6719 - val_acc: 0.9804\n",
      "Epoch 184/300\n",
      "2295/2295 [==============================] - 8s 3ms/step - loss: 0.6702 - acc: 0.9878 - val_loss: 0.6719 - val_acc: 0.9922\n",
      "Epoch 185/300\n",
      "2295/2295 [==============================] - 7s 3ms/step - loss: 0.6701 - acc: 0.9891 - val_loss: 0.6716 - val_acc: 0.9804\n",
      "Epoch 186/300\n",
      "2295/2295 [==============================] - 7s 3ms/step - loss: 0.6702 - acc: 0.9882 - val_loss: 0.6725 - val_acc: 0.9882\n",
      "Epoch 187/300\n",
      "2295/2295 [==============================] - 7s 3ms/step - loss: 0.6712 - acc: 0.9865 - val_loss: 0.6720 - val_acc: 0.9922\n",
      "Epoch 188/300\n",
      "2295/2295 [==============================] - 7s 3ms/step - loss: 0.6703 - acc: 0.9882 - val_loss: 0.6737 - val_acc: 0.9804\n",
      "Epoch 189/300\n",
      "2295/2295 [==============================] - 7s 3ms/step - loss: 0.6709 - acc: 0.9856 - val_loss: 0.6714 - val_acc: 0.9922\n",
      "Epoch 190/300\n",
      "2295/2295 [==============================] - 7s 3ms/step - loss: 0.6700 - acc: 0.9895 - val_loss: 0.6718 - val_acc: 0.9804\n",
      "Epoch 191/300\n",
      "2295/2295 [==============================] - 7s 3ms/step - loss: 0.6702 - acc: 0.9900 - val_loss: 0.6713 - val_acc: 0.9922\n",
      "Epoch 192/300\n",
      "2295/2295 [==============================] - 7s 3ms/step - loss: 0.6701 - acc: 0.9900 - val_loss: 0.6718 - val_acc: 0.9804\n",
      "Epoch 193/300\n",
      "2295/2295 [==============================] - 7s 3ms/step - loss: 0.6709 - acc: 0.9865 - val_loss: 0.6719 - val_acc: 0.9804\n",
      "Epoch 194/300\n",
      "2295/2295 [==============================] - 7s 3ms/step - loss: 0.6700 - acc: 0.9904 - val_loss: 0.6718 - val_acc: 0.9922\n",
      "Epoch 195/300\n",
      "2295/2295 [==============================] - 7s 3ms/step - loss: 0.6708 - acc: 0.9878 - val_loss: 0.6768 - val_acc: 0.9569\n",
      "Epoch 196/300\n",
      "2295/2295 [==============================] - 7s 3ms/step - loss: 0.6708 - acc: 0.9887 - val_loss: 0.6718 - val_acc: 0.9804\n",
      "Epoch 197/300\n",
      "2295/2295 [==============================] - 7s 3ms/step - loss: 0.6698 - acc: 0.9913 - val_loss: 0.6711 - val_acc: 0.9804\n",
      "Epoch 198/300\n",
      "2295/2295 [==============================] - 7s 3ms/step - loss: 0.6699 - acc: 0.9904 - val_loss: 0.6712 - val_acc: 0.9804\n",
      "Epoch 199/300\n",
      "2295/2295 [==============================] - 7s 3ms/step - loss: 0.6694 - acc: 0.9930 - val_loss: 0.6716 - val_acc: 0.9922\n",
      "Epoch 200/300\n",
      "2295/2295 [==============================] - 7s 3ms/step - loss: 0.6700 - acc: 0.9904 - val_loss: 0.6718 - val_acc: 0.9804\n",
      "Epoch 201/300\n",
      "2295/2295 [==============================] - 7s 3ms/step - loss: 0.6700 - acc: 0.9908 - val_loss: 0.6744 - val_acc: 0.9686\n",
      "Epoch 202/300\n",
      "2295/2295 [==============================] - 7s 3ms/step - loss: 0.6700 - acc: 0.9882 - val_loss: 0.6717 - val_acc: 0.9804\n",
      "Epoch 203/300\n",
      "2295/2295 [==============================] - 7s 3ms/step - loss: 0.6695 - acc: 0.9930 - val_loss: 0.6736 - val_acc: 0.9686\n",
      "Epoch 204/300\n",
      "2295/2295 [==============================] - 7s 3ms/step - loss: 0.6693 - acc: 0.9930 - val_loss: 0.6717 - val_acc: 0.9804\n",
      "Epoch 205/300\n",
      "2295/2295 [==============================] - 7s 3ms/step - loss: 0.6700 - acc: 0.9891 - val_loss: 0.6753 - val_acc: 0.9647\n",
      "Epoch 206/300\n",
      "2295/2295 [==============================] - 7s 3ms/step - loss: 0.6704 - acc: 0.9891 - val_loss: 0.6732 - val_acc: 0.9725\n",
      "Epoch 207/300\n",
      "2295/2295 [==============================] - 7s 3ms/step - loss: 0.6695 - acc: 0.9917 - val_loss: 0.6708 - val_acc: 0.9804\n",
      "Epoch 208/300\n",
      "2295/2295 [==============================] - 7s 3ms/step - loss: 0.6692 - acc: 0.9939 - val_loss: 0.6723 - val_acc: 0.9725\n",
      "Epoch 209/300\n",
      "2295/2295 [==============================] - 7s 3ms/step - loss: 0.6696 - acc: 0.9908 - val_loss: 0.6705 - val_acc: 0.9922\n",
      "Epoch 210/300\n",
      "2295/2295 [==============================] - 7s 3ms/step - loss: 0.6698 - acc: 0.9926 - val_loss: 0.6706 - val_acc: 0.9922\n",
      "Epoch 211/300\n",
      "2295/2295 [==============================] - 7s 3ms/step - loss: 0.6691 - acc: 0.9948 - val_loss: 0.6709 - val_acc: 0.9804\n",
      "Epoch 212/300\n",
      "2295/2295 [==============================] - 7s 3ms/step - loss: 0.6690 - acc: 0.9952 - val_loss: 0.6709 - val_acc: 0.9804\n",
      "Epoch 213/300\n",
      "2295/2295 [==============================] - 7s 3ms/step - loss: 0.6689 - acc: 0.9930 - val_loss: 0.6716 - val_acc: 0.9804\n",
      "Epoch 214/300\n",
      "2295/2295 [==============================] - 7s 3ms/step - loss: 0.6690 - acc: 0.9939 - val_loss: 0.6704 - val_acc: 0.9922\n",
      "Epoch 215/300\n",
      "2295/2295 [==============================] - 7s 3ms/step - loss: 0.6690 - acc: 0.9935 - val_loss: 0.6704 - val_acc: 0.9922\n",
      "Epoch 216/300\n",
      "2295/2295 [==============================] - 7s 3ms/step - loss: 0.6691 - acc: 0.9943 - val_loss: 0.6703 - val_acc: 0.9922\n",
      "Epoch 217/300\n",
      "2295/2295 [==============================] - 7s 3ms/step - loss: 0.6693 - acc: 0.9935 - val_loss: 0.6704 - val_acc: 0.9882\n",
      "Epoch 218/300\n",
      "2295/2295 [==============================] - 7s 3ms/step - loss: 0.6700 - acc: 0.9908 - val_loss: 0.6702 - val_acc: 0.9922\n",
      "Epoch 219/300\n",
      "2295/2295 [==============================] - 7s 3ms/step - loss: 0.6692 - acc: 0.9926 - val_loss: 0.6715 - val_acc: 0.9804\n",
      "Epoch 220/300\n",
      "2295/2295 [==============================] - 7s 3ms/step - loss: 0.6689 - acc: 0.9948 - val_loss: 0.6712 - val_acc: 0.9804\n",
      "Epoch 221/300\n",
      "2295/2295 [==============================] - 7s 3ms/step - loss: 0.6693 - acc: 0.9930 - val_loss: 0.6701 - val_acc: 0.9922\n",
      "Epoch 222/300\n",
      "2295/2295 [==============================] - 7s 3ms/step - loss: 0.6687 - acc: 0.9961 - val_loss: 0.6706 - val_acc: 0.9843\n",
      "Epoch 223/300\n",
      "2295/2295 [==============================] - 7s 3ms/step - loss: 0.6687 - acc: 0.9948 - val_loss: 0.6702 - val_acc: 0.9922\n",
      "Epoch 224/300\n",
      "2295/2295 [==============================] - 7s 3ms/step - loss: 0.6689 - acc: 0.9930 - val_loss: 0.6703 - val_acc: 0.9922\n",
      "Epoch 225/300\n",
      "2295/2295 [==============================] - 7s 3ms/step - loss: 0.6691 - acc: 0.9935 - val_loss: 0.6701 - val_acc: 0.9922\n",
      "Epoch 226/300\n",
      "2295/2295 [==============================] - 7s 3ms/step - loss: 0.6687 - acc: 0.9961 - val_loss: 0.6699 - val_acc: 0.9922\n",
      "Epoch 227/300\n",
      "2295/2295 [==============================] - 7s 3ms/step - loss: 0.6691 - acc: 0.9939 - val_loss: 0.6741 - val_acc: 0.9765\n",
      "Epoch 228/300\n",
      "2295/2295 [==============================] - 7s 3ms/step - loss: 0.6695 - acc: 0.9922 - val_loss: 0.6703 - val_acc: 0.9882\n",
      "Epoch 229/300\n",
      "2295/2295 [==============================] - 7s 3ms/step - loss: 0.6687 - acc: 0.9956 - val_loss: 0.6708 - val_acc: 0.9804\n",
      "Epoch 230/300\n",
      "2295/2295 [==============================] - 7s 3ms/step - loss: 0.6686 - acc: 0.9952 - val_loss: 0.6701 - val_acc: 0.9882\n",
      "Epoch 231/300\n",
      "2295/2295 [==============================] - 7s 3ms/step - loss: 0.6687 - acc: 0.9948 - val_loss: 0.6698 - val_acc: 0.9922\n",
      "Epoch 232/300\n",
      "2295/2295 [==============================] - 7s 3ms/step - loss: 0.6684 - acc: 0.9965 - val_loss: 0.6698 - val_acc: 0.9922\n",
      "Epoch 233/300\n",
      "2295/2295 [==============================] - 7s 3ms/step - loss: 0.6685 - acc: 0.9961 - val_loss: 0.6710 - val_acc: 0.9804\n",
      "Epoch 234/300\n",
      "2295/2295 [==============================] - 7s 3ms/step - loss: 0.6686 - acc: 0.9965 - val_loss: 0.6704 - val_acc: 0.9843\n",
      "Epoch 235/300\n",
      "2295/2295 [==============================] - 7s 3ms/step - loss: 0.6688 - acc: 0.9935 - val_loss: 0.6699 - val_acc: 0.9922\n",
      "Epoch 236/300\n",
      "2295/2295 [==============================] - 7s 3ms/step - loss: 0.6691 - acc: 0.9939 - val_loss: 0.6750 - val_acc: 0.9647\n",
      "Epoch 237/300\n",
      "2295/2295 [==============================] - 7s 3ms/step - loss: 0.6692 - acc: 0.9930 - val_loss: 0.6716 - val_acc: 0.9804\n",
      "Epoch 238/300\n",
      "2295/2295 [==============================] - 7s 3ms/step - loss: 0.6685 - acc: 0.9961 - val_loss: 0.6701 - val_acc: 0.9882\n",
      "Epoch 239/300\n"
     ]
    },
    {
     "name": "stdout",
     "output_type": "stream",
     "text": [
      "2295/2295 [==============================] - 7s 3ms/step - loss: 0.6684 - acc: 0.9965 - val_loss: 0.6703 - val_acc: 0.9961A: 4s - los\n",
      "Epoch 240/300\n",
      "2295/2295 [==============================] - 7s 3ms/step - loss: 0.6685 - acc: 0.9956 - val_loss: 0.6706 - val_acc: 0.9804\n",
      "Epoch 241/300\n",
      "2295/2295 [==============================] - 7s 3ms/step - loss: 0.6684 - acc: 0.9965 - val_loss: 0.6704 - val_acc: 0.9843\n",
      "Epoch 242/300\n",
      "2295/2295 [==============================] - 7s 3ms/step - loss: 0.6683 - acc: 0.9969 - val_loss: 0.6704 - val_acc: 0.9843\n",
      "Epoch 243/300\n",
      "2295/2295 [==============================] - 7s 3ms/step - loss: 0.6685 - acc: 0.9952 - val_loss: 0.6695 - val_acc: 0.9922\n",
      "Epoch 244/300\n",
      "2295/2295 [==============================] - 7s 3ms/step - loss: 0.6684 - acc: 0.9969 - val_loss: 0.6694 - val_acc: 0.9922\n",
      "Epoch 245/300\n",
      "2295/2295 [==============================] - 7s 3ms/step - loss: 0.6686 - acc: 0.9943 - val_loss: 0.6697 - val_acc: 0.9922\n",
      "Epoch 246/300\n",
      "2295/2295 [==============================] - 7s 3ms/step - loss: 0.6681 - acc: 0.9978 - val_loss: 0.6694 - val_acc: 0.9922\n",
      "Epoch 247/300\n",
      "2295/2295 [==============================] - 7s 3ms/step - loss: 0.6684 - acc: 0.9943 - val_loss: 0.6701 - val_acc: 0.9882\n",
      "Epoch 248/300\n",
      "2295/2295 [==============================] - 7s 3ms/step - loss: 0.6685 - acc: 0.9969 - val_loss: 0.6709 - val_acc: 0.9804\n",
      "Epoch 249/300\n",
      "2295/2295 [==============================] - 7s 3ms/step - loss: 0.6680 - acc: 0.9983 - val_loss: 0.6694 - val_acc: 0.9922\n",
      "Epoch 250/300\n",
      "2295/2295 [==============================] - 7s 3ms/step - loss: 0.6681 - acc: 0.9969 - val_loss: 0.6698 - val_acc: 0.9961\n",
      "Epoch 251/300\n",
      "2295/2295 [==============================] - 7s 3ms/step - loss: 0.6685 - acc: 0.9952 - val_loss: 0.6693 - val_acc: 0.9922\n",
      "Epoch 252/300\n",
      "2295/2295 [==============================] - 7s 3ms/step - loss: 0.6684 - acc: 0.9952 - val_loss: 0.6694 - val_acc: 0.9922\n",
      "Epoch 253/300\n",
      "2295/2295 [==============================] - 7s 3ms/step - loss: 0.6681 - acc: 0.9983 - val_loss: 0.6710 - val_acc: 0.9804\n",
      "Epoch 254/300\n",
      "2295/2295 [==============================] - 7s 3ms/step - loss: 0.6681 - acc: 0.9969 - val_loss: 0.6702 - val_acc: 0.9882\n",
      "Epoch 255/300\n",
      "2295/2295 [==============================] - 7s 3ms/step - loss: 0.6680 - acc: 0.9974 - val_loss: 0.6696 - val_acc: 0.9922\n",
      "Epoch 256/300\n",
      "2295/2295 [==============================] - 7s 3ms/step - loss: 0.6680 - acc: 0.9987 - val_loss: 0.6696 - val_acc: 0.9922\n",
      "Epoch 257/300\n",
      "2295/2295 [==============================] - 7s 3ms/step - loss: 0.6680 - acc: 0.9978 - val_loss: 0.6692 - val_acc: 0.9922\n",
      "Epoch 258/300\n",
      "2295/2295 [==============================] - 7s 3ms/step - loss: 0.6678 - acc: 0.9983 - val_loss: 0.6693 - val_acc: 0.9961\n",
      "Epoch 259/300\n",
      "2295/2295 [==============================] - 8s 3ms/step - loss: 0.6678 - acc: 0.9991 - val_loss: 0.6692 - val_acc: 0.9922\n",
      "Epoch 260/300\n",
      "2295/2295 [==============================] - 7s 3ms/step - loss: 0.6679 - acc: 0.9974 - val_loss: 0.6691 - val_acc: 0.9922\n",
      "Epoch 261/300\n",
      "2295/2295 [==============================] - 7s 3ms/step - loss: 0.6678 - acc: 0.9987 - val_loss: 0.6698 - val_acc: 0.9882\n",
      "Epoch 262/300\n",
      "2295/2295 [==============================] - 7s 3ms/step - loss: 0.6678 - acc: 0.9983 - val_loss: 0.6697 - val_acc: 0.9882\n",
      "Epoch 263/300\n",
      "2295/2295 [==============================] - 7s 3ms/step - loss: 0.6678 - acc: 0.9987 - val_loss: 0.6692 - val_acc: 0.9922\n",
      "Epoch 264/300\n",
      "2295/2295 [==============================] - 7s 3ms/step - loss: 0.6679 - acc: 0.9974 - val_loss: 0.6691 - val_acc: 0.9922\n",
      "Epoch 265/300\n",
      "2295/2295 [==============================] - 7s 3ms/step - loss: 0.6679 - acc: 0.9978 - val_loss: 0.6701 - val_acc: 0.9882\n",
      "Epoch 266/300\n",
      "2295/2295 [==============================] - 7s 3ms/step - loss: 0.6679 - acc: 0.9978 - val_loss: 0.6690 - val_acc: 0.9922\n",
      "Epoch 267/300\n",
      "2295/2295 [==============================] - 7s 3ms/step - loss: 0.6678 - acc: 0.9983 - val_loss: 0.6695 - val_acc: 0.9922\n",
      "Epoch 268/300\n",
      "2295/2295 [==============================] - 7s 3ms/step - loss: 0.6679 - acc: 0.9983 - val_loss: 0.6689 - val_acc: 0.9922\n",
      "Epoch 269/300\n",
      "2295/2295 [==============================] - 7s 3ms/step - loss: 0.6682 - acc: 0.9961 - val_loss: 0.6690 - val_acc: 0.9922\n",
      "Epoch 270/300\n",
      "2295/2295 [==============================] - 7s 3ms/step - loss: 0.6678 - acc: 0.9978 - val_loss: 0.6693 - val_acc: 0.9922\n",
      "Epoch 271/300\n",
      "2295/2295 [==============================] - 7s 3ms/step - loss: 0.6685 - acc: 0.9948 - val_loss: 0.6694 - val_acc: 0.9922\n",
      "Epoch 272/300\n",
      "2295/2295 [==============================] - 7s 3ms/step - loss: 0.6682 - acc: 0.9961 - val_loss: 0.6693 - val_acc: 0.9922\n",
      "Epoch 273/300\n",
      "2295/2295 [==============================] - 7s 3ms/step - loss: 0.6680 - acc: 0.9987 - val_loss: 0.6696 - val_acc: 0.9882\n",
      "Epoch 274/300\n",
      "2295/2295 [==============================] - 7s 3ms/step - loss: 0.6676 - acc: 0.9987 - val_loss: 0.6699 - val_acc: 0.9882\n",
      "Epoch 275/300\n",
      "2295/2295 [==============================] - 7s 3ms/step - loss: 0.6677 - acc: 0.9987 - val_loss: 0.6689 - val_acc: 0.9922\n",
      "Epoch 276/300\n",
      "2295/2295 [==============================] - 7s 3ms/step - loss: 0.6678 - acc: 0.9987 - val_loss: 0.6690 - val_acc: 0.9922\n",
      "Epoch 277/300\n",
      "2295/2295 [==============================] - 7s 3ms/step - loss: 0.6677 - acc: 0.9987 - val_loss: 0.6693 - val_acc: 0.9922\n",
      "Epoch 278/300\n",
      "2295/2295 [==============================] - 7s 3ms/step - loss: 0.6675 - acc: 0.9987 - val_loss: 0.6690 - val_acc: 0.9922\n",
      "Epoch 279/300\n",
      "2295/2295 [==============================] - 7s 3ms/step - loss: 0.6675 - acc: 0.9991 - val_loss: 0.6689 - val_acc: 0.9922\n",
      "Epoch 280/300\n",
      "2295/2295 [==============================] - 7s 3ms/step - loss: 0.6678 - acc: 0.9983 - val_loss: 0.6687 - val_acc: 0.9922\n",
      "Epoch 281/300\n",
      "2295/2295 [==============================] - 7s 3ms/step - loss: 0.6677 - acc: 0.9974 - val_loss: 0.6705 - val_acc: 0.9843\n",
      "Epoch 282/300\n",
      "2295/2295 [==============================] - 7s 3ms/step - loss: 0.6675 - acc: 0.9996 - val_loss: 0.6693 - val_acc: 0.9922\n",
      "Epoch 283/300\n",
      "2295/2295 [==============================] - 7s 3ms/step - loss: 0.6678 - acc: 0.9978 - val_loss: 0.6694 - val_acc: 0.9922\n",
      "Epoch 284/300\n",
      "2295/2295 [==============================] - 7s 3ms/step - loss: 0.6679 - acc: 0.9974 - val_loss: 0.6703 - val_acc: 0.9882\n",
      "Epoch 285/300\n",
      "2295/2295 [==============================] - 7s 3ms/step - loss: 0.6682 - acc: 0.9961 - val_loss: 0.6734 - val_acc: 0.9725\n",
      "Epoch 286/300\n",
      "2295/2295 [==============================] - 7s 3ms/step - loss: 0.6679 - acc: 0.9978 - val_loss: 0.6688 - val_acc: 0.9961\n",
      "Epoch 287/300\n",
      "2295/2295 [==============================] - 7s 3ms/step - loss: 0.6677 - acc: 0.9978 - val_loss: 0.6714 - val_acc: 0.9804\n",
      "Epoch 288/300\n",
      "2295/2295 [==============================] - 7s 3ms/step - loss: 0.6678 - acc: 0.9974 - val_loss: 0.6686 - val_acc: 0.9922\n",
      "Epoch 289/300\n",
      "2295/2295 [==============================] - 7s 3ms/step - loss: 0.6677 - acc: 0.9996 - val_loss: 0.6687 - val_acc: 0.9922\n",
      "Epoch 290/300\n",
      "2295/2295 [==============================] - 7s 3ms/step - loss: 0.6678 - acc: 0.9978 - val_loss: 0.6725 - val_acc: 0.9765\n",
      "Epoch 291/300\n",
      "2295/2295 [==============================] - 7s 3ms/step - loss: 0.6676 - acc: 0.9983 - val_loss: 0.6688 - val_acc: 0.9922\n",
      "Epoch 292/300\n",
      "2295/2295 [==============================] - 7s 3ms/step - loss: 0.6673 - acc: 0.9991 - val_loss: 0.6688 - val_acc: 0.9922\n",
      "Epoch 293/300\n",
      "2295/2295 [==============================] - 7s 3ms/step - loss: 0.6674 - acc: 0.9991 - val_loss: 0.6688 - val_acc: 0.9922\n",
      "Epoch 294/300\n",
      "2295/2295 [==============================] - 7s 3ms/step - loss: 0.6674 - acc: 0.9983 - val_loss: 0.6686 - val_acc: 0.9961\n",
      "Epoch 295/300\n",
      "2295/2295 [==============================] - 7s 3ms/step - loss: 0.6675 - acc: 0.9987 - val_loss: 0.6702 - val_acc: 0.9882\n",
      "Epoch 296/300\n",
      "2295/2295 [==============================] - 7s 3ms/step - loss: 0.6674 - acc: 0.9991 - val_loss: 0.6688 - val_acc: 0.9922\n",
      "Epoch 297/300\n",
      "2295/2295 [==============================] - 7s 3ms/step - loss: 0.6675 - acc: 0.9987 - val_loss: 0.6692 - val_acc: 0.9922\n",
      "Epoch 298/300\n"
     ]
    },
    {
     "name": "stdout",
     "output_type": "stream",
     "text": [
      "2295/2295 [==============================] - 7s 3ms/step - loss: 0.6674 - acc: 0.9991 - val_loss: 0.6697 - val_acc: 0.9882\n",
      "Epoch 299/300\n",
      "2295/2295 [==============================] - 7s 3ms/step - loss: 0.6673 - acc: 0.9996 - val_loss: 0.6688 - val_acc: 0.9922\n",
      "Epoch 300/300\n",
      "2295/2295 [==============================] - 7s 3ms/step - loss: 0.6674 - acc: 0.9991 - val_loss: 0.6704 - val_acc: 0.9882\n"
     ]
    }
   ],
   "source": [
    "history = model.fit(X_train, y_train, batch_size=64, epochs=300, validation_split=0.1)"
   ]
  },
  {
   "cell_type": "code",
   "execution_count": 19,
   "metadata": {
    "ExecuteTime": {
     "end_time": "2018-12-06T03:44:49.610709Z",
     "start_time": "2018-12-06T03:44:49.057678Z"
    }
   },
   "outputs": [
    {
     "name": "stdout",
     "output_type": "stream",
     "text": [
      "450/450 [==============================] - 1s 1ms/step\n",
      "LOSS: 0.6706334177652995\n",
      "Accuracy: 0.98\n"
     ]
    }
   ],
   "source": [
    "score = model.evaluate(X_test, y_test)\n",
    "print(\"LOSS:\", score[0])\n",
    "print(\"Accuracy:\", score[1])"
   ]
  },
  {
   "cell_type": "code",
   "execution_count": 20,
   "metadata": {
    "ExecuteTime": {
     "end_time": "2018-12-06T03:44:49.794720Z",
     "start_time": "2018-12-06T03:44:49.612709Z"
    }
   },
   "outputs": [
    {
     "data": {
      "image/png": "[encoded data removed]",
      "text/plain": [
       "<Figure size 432x288 with 1 Axes>"
      ]
     },
     "metadata": {
      "needs_background": "light"
     },
     "output_type": "display_data"
    }
   ],
   "source": [
    "loss = history.history['loss']\n",
    "val_loss = history.history['val_loss']\n",
    "epochs = range(1, len(loss) + 1)\n",
    "plt.plot(epochs, loss, 'bo', label='Training loss')\n",
    "plt.plot(epochs, val_loss, 'b', label='Validation loss')\n",
    "plt.title('Training and validation loss')\n",
    "plt.xlabel('Epochs')\n",
    "plt.ylabel('Loss')\n",
    "plt.legend()\n",
    "plt.show()"
   ]
  },
  {
   "cell_type": "code",
   "execution_count": 21,
   "metadata": {
    "ExecuteTime": {
     "end_time": "2018-12-06T03:44:49.945728Z",
     "start_time": "2018-12-06T03:44:49.796720Z"
    }
   },
   "outputs": [
    {
     "data": {
      "image/png": "[encoded data removed]",
      "text/plain": [
       "<Figure size 432x288 with 1 Axes>"
      ]
     },
     "metadata": {
      "needs_background": "light"
     },
     "output_type": "display_data"
    }
   ],
   "source": [
    "acc = history.history['acc']\n",
    "val_acc = history.history['val_acc']\n",
    "plt.plot(epochs, acc, 'bo', label='Training acc')\n",
    "plt.plot(epochs, val_acc, 'b', label='Validation acc')\n",
    "plt.title('Training and validation accuracy')\n",
    "plt.xlabel('Epochs')\n",
    "plt.ylabel('Accuracy')\n",
    "plt.legend()\n",
    "plt.show()"
   ]
  },
  {
   "cell_type": "code",
   "execution_count": null,
   "metadata": {},
   "outputs": [],
   "source": []
  }
 ],
 "metadata": {
  "hide_input": false,
  "kernelspec": {
   "display_name": "Python 3",
   "language": "python",
   "name": "python3"
  },
  "language_info": {
   "codemirror_mode": {
    "name": "ipython",
    "version": 3
   },
   "file_extension": ".py",
   "mimetype": "text/x-python",
   "name": "python",
   "nbconvert_exporter": "python",
   "pygments_lexer": "ipython3",
   "version": "3.6.6"
  },
  "toc": {
   "base_numbering": 1,
   "nav_menu": {},
   "number_sections": true,
   "sideBar": true,
   "skip_h1_title": false,
   "title_cell": "Table of Contents",
   "title_sidebar": "Contents",
   "toc_cell": false,
   "toc_position": {},
   "toc_section_display": true,
   "toc_window_display": false
  }
 },
 "nbformat": 4,
 "nbformat_minor": 2
}
