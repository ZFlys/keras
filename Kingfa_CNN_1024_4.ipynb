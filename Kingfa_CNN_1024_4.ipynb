{
 "cells": [
  {
   "cell_type": "code",
   "execution_count": 1,
   "metadata": {
    "ExecuteTime": {
     "end_time": "2018-12-07T08:35:52.606201Z",
     "start_time": "2018-12-07T08:35:52.089171Z"
    }
   },
   "outputs": [],
   "source": [
    "import os\n",
    "import numpy as np\n",
    "import pandas as pd\n",
    "import pywt\n",
    "import matplotlib.pyplot as plt"
   ]
  },
  {
   "cell_type": "code",
   "execution_count": 2,
   "metadata": {
    "ExecuteTime": {
     "end_time": "2018-12-07T08:35:52.611201Z",
     "start_time": "2018-12-07T08:35:52.608201Z"
    }
   },
   "outputs": [],
   "source": [
    "kingfa_datasets_path = \"./kingfadatasets/\""
   ]
  },
  {
   "cell_type": "code",
   "execution_count": 3,
   "metadata": {
    "ExecuteTime": {
     "end_time": "2018-12-07T08:35:52.618201Z",
     "start_time": "2018-12-07T08:35:52.613201Z"
    }
   },
   "outputs": [],
   "source": [
    "def wpt1D(data, wavelet='db1', mode='symmetric', maxlevel=2):\n",
    "    wp = pywt.WaveletPacket(data=data, wavelet=wavelet, mode=mode, maxlevel=maxlevel)\n",
    "    paths = [node.path for node in wp.get_level(maxlevel)]  # 列出所有树节点路径\n",
    "    df_wpt = pd.DataFrame()  # 合并所有四级子节点\n",
    "    for a in paths:\n",
    "        df_wpt[a] = wp[a].data\n",
    "    return df_wpt.values"
   ]
  },
  {
   "cell_type": "code",
   "execution_count": 4,
   "metadata": {
    "ExecuteTime": {
     "end_time": "2018-12-07T08:35:57.564484Z",
     "start_time": "2018-12-07T08:35:52.621202Z"
    }
   },
   "outputs": [],
   "source": [
    "X = np.array(pd.read_csv(kingfa_datasets_path+\"data.csv\", index_col=0))"
   ]
  },
  {
   "cell_type": "code",
   "execution_count": 5,
   "metadata": {
    "ExecuteTime": {
     "end_time": "2018-12-07T08:36:04.612887Z",
     "start_time": "2018-12-07T08:35:57.566484Z"
    }
   },
   "outputs": [],
   "source": [
    "X = np.apply_along_axis(wpt1D, 1, X)"
   ]
  },
  {
   "cell_type": "code",
   "execution_count": 6,
   "metadata": {
    "ExecuteTime": {
     "end_time": "2018-12-07T08:36:04.622888Z",
     "start_time": "2018-12-07T08:36:04.613887Z"
    }
   },
   "outputs": [],
   "source": [
    "y = np.array(pd.read_csv(kingfa_datasets_path+\"target.csv\", index_col=0))"
   ]
  },
  {
   "cell_type": "code",
   "execution_count": 7,
   "metadata": {
    "ExecuteTime": {
     "end_time": "2018-12-07T08:36:04.639889Z",
     "start_time": "2018-12-07T08:36:04.624888Z"
    }
   },
   "outputs": [
    {
     "name": "stdout",
     "output_type": "stream",
     "text": [
      "(3000, 1024, 4)\n",
      "(3000, 1)\n"
     ]
    }
   ],
   "source": [
    "print(X.shape)\n",
    "print(y.shape)"
   ]
  },
  {
   "cell_type": "code",
   "execution_count": 8,
   "metadata": {
    "ExecuteTime": {
     "end_time": "2018-12-07T08:36:06.950021Z",
     "start_time": "2018-12-07T08:36:04.642889Z"
    }
   },
   "outputs": [
    {
     "name": "stderr",
     "output_type": "stream",
     "text": [
      "Using TensorFlow backend.\n"
     ]
    }
   ],
   "source": [
    "import keras\n",
    "from sklearn.model_selection import train_test_split\n",
    "from keras.models import Sequential\n",
    "from keras.layers import Dense, Activation, Conv2D, MaxPooling2D, Flatten\n",
    "from keras.optimizers import Adam"
   ]
  },
  {
   "cell_type": "code",
   "execution_count": 9,
   "metadata": {
    "ExecuteTime": {
     "end_time": "2018-12-07T08:36:06.990023Z",
     "start_time": "2018-12-07T08:36:06.952021Z"
    }
   },
   "outputs": [],
   "source": [
    "X_train, X_test, y_train, y_test = train_test_split(X, y, test_size=0.15, random_state=1024)"
   ]
  },
  {
   "cell_type": "code",
   "execution_count": 10,
   "metadata": {
    "ExecuteTime": {
     "end_time": "2018-12-07T08:36:06.996024Z",
     "start_time": "2018-12-07T08:36:06.991023Z"
    }
   },
   "outputs": [],
   "source": [
    "X_train = X_train.reshape(-1, 1024, 4, 1)\n",
    "X_test = X_test.reshape(-1, 1024, 4, 1)\n",
    "y_train = keras.utils.to_categorical(y_train, 3)\n",
    "y_test = keras.utils.to_categorical(y_test, 3)"
   ]
  },
  {
   "cell_type": "code",
   "execution_count": 11,
   "metadata": {
    "ExecuteTime": {
     "end_time": "2018-12-07T08:36:07.012025Z",
     "start_time": "2018-12-07T08:36:06.998024Z"
    }
   },
   "outputs": [],
   "source": [
    "model = Sequential()"
   ]
  },
  {
   "cell_type": "code",
   "execution_count": 12,
   "metadata": {
    "ExecuteTime": {
     "end_time": "2018-12-07T08:36:07.036026Z",
     "start_time": "2018-12-07T08:36:07.014025Z"
    }
   },
   "outputs": [],
   "source": [
    "model.add(Conv2D(filters=16, kernel_size=(6, 4), input_shape=(1024, 4, 1)))\n",
    "model.add(Activation('sigmoid'))\n",
    "model.add(MaxPooling2D(pool_size=(2,2), padding='same'))"
   ]
  },
  {
   "cell_type": "code",
   "execution_count": 13,
   "metadata": {
    "ExecuteTime": {
     "end_time": "2018-12-07T08:36:07.058027Z",
     "start_time": "2018-12-07T08:36:07.038026Z"
    }
   },
   "outputs": [],
   "source": [
    "model.add(Conv2D(filters=32, kernel_size=(4, 2), padding='same'))\n",
    "model.add(Activation('sigmoid'))\n",
    "model.add(MaxPooling2D(pool_size=(2, 2), padding='same'))"
   ]
  },
  {
   "cell_type": "code",
   "execution_count": 14,
   "metadata": {
    "ExecuteTime": {
     "end_time": "2018-12-07T08:36:07.098030Z",
     "start_time": "2018-12-07T08:36:07.061027Z"
    }
   },
   "outputs": [],
   "source": [
    "model.add(Flatten())\n",
    "model.add(Dense(128))\n",
    "model.add(Activation('sigmoid'))\n",
    "model.add(Dense(3))\n",
    "model.add(Activation('softmax'))"
   ]
  },
  {
   "cell_type": "code",
   "execution_count": 15,
   "metadata": {
    "ExecuteTime": {
     "end_time": "2018-12-07T08:36:07.118031Z",
     "start_time": "2018-12-07T08:36:07.100030Z"
    }
   },
   "outputs": [],
   "source": [
    "adam = Adam(lr=1e-4)"
   ]
  },
  {
   "cell_type": "code",
   "execution_count": 16,
   "metadata": {
    "ExecuteTime": {
     "end_time": "2018-12-07T08:36:07.128031Z",
     "start_time": "2018-12-07T08:36:07.120031Z"
    }
   },
   "outputs": [
    {
     "name": "stdout",
     "output_type": "stream",
     "text": [
      "_________________________________________________________________\n",
      "Layer (type)                 Output Shape              Param #   \n",
      "=================================================================\n",
      "conv2d_1 (Conv2D)            (None, 1019, 1, 16)       400       \n",
      "_________________________________________________________________\n",
      "activation_1 (Activation)    (None, 1019, 1, 16)       0         \n",
      "_________________________________________________________________\n",
      "max_pooling2d_1 (MaxPooling2 (None, 510, 1, 16)        0         \n",
      "_________________________________________________________________\n",
      "conv2d_2 (Conv2D)            (None, 510, 1, 32)        4128      \n",
      "_________________________________________________________________\n",
      "activation_2 (Activation)    (None, 510, 1, 32)        0         \n",
      "_________________________________________________________________\n",
      "max_pooling2d_2 (MaxPooling2 (None, 255, 1, 32)        0         \n",
      "_________________________________________________________________\n",
      "flatten_1 (Flatten)          (None, 8160)              0         \n",
      "_________________________________________________________________\n",
      "dense_1 (Dense)              (None, 128)               1044608   \n",
      "_________________________________________________________________\n",
      "activation_3 (Activation)    (None, 128)               0         \n",
      "_________________________________________________________________\n",
      "dense_2 (Dense)              (None, 3)                 387       \n",
      "_________________________________________________________________\n",
      "activation_4 (Activation)    (None, 3)                 0         \n",
      "=================================================================\n",
      "Total params: 1,049,523\n",
      "Trainable params: 1,049,523\n",
      "Non-trainable params: 0\n",
      "_________________________________________________________________\n"
     ]
    }
   ],
   "source": [
    "model.summary()"
   ]
  },
  {
   "cell_type": "code",
   "execution_count": 17,
   "metadata": {
    "ExecuteTime": {
     "end_time": "2018-12-07T08:36:07.156033Z",
     "start_time": "2018-12-07T08:36:07.130031Z"
    }
   },
   "outputs": [],
   "source": [
    "model.compile(optimizer=adam, loss='squared_hinge', metrics=['accuracy'])"
   ]
  },
  {
   "cell_type": "code",
   "execution_count": null,
   "metadata": {
    "ExecuteTime": {
     "start_time": "2018-12-07T08:35:52.114Z"
    }
   },
   "outputs": [
    {
     "name": "stdout",
     "output_type": "stream",
     "text": [
      "Train on 2295 samples, validate on 255 samples\n",
      "Epoch 1/300\n",
      "2295/2295 [==============================] - 4s 2ms/step - loss: 0.8211 - acc: 0.3368 - val_loss: 0.8193 - val_acc: 0.3529\n",
      "Epoch 2/300\n",
      "2295/2295 [==============================] - 3s 1ms/step - loss: 0.8173 - acc: 0.3246 - val_loss: 0.8177 - val_acc: 0.3255\n",
      "Epoch 3/300\n",
      "2295/2295 [==============================] - 3s 1ms/step - loss: 0.8162 - acc: 0.3425 - val_loss: 0.8148 - val_acc: 0.3255\n",
      "Epoch 4/300\n",
      "2295/2295 [==============================] - 3s 1ms/step - loss: 0.8148 - acc: 0.3303 - val_loss: 0.8150 - val_acc: 0.3216\n",
      "Epoch 5/300\n",
      "2295/2295 [==============================] - 3s 1ms/step - loss: 0.8148 - acc: 0.3255 - val_loss: 0.8146 - val_acc: 0.3255\n",
      "Epoch 6/300\n",
      "2295/2295 [==============================] - 3s 1ms/step - loss: 0.8144 - acc: 0.3307 - val_loss: 0.8143 - val_acc: 0.3216\n",
      "Epoch 7/300\n",
      "2295/2295 [==============================] - 3s 1ms/step - loss: 0.8150 - acc: 0.3464 - val_loss: 0.8155 - val_acc: 0.3216\n",
      "Epoch 8/300\n",
      "2295/2295 [==============================] - 3s 1ms/step - loss: 0.8155 - acc: 0.3351 - val_loss: 0.8145 - val_acc: 0.3255\n",
      "Epoch 9/300\n",
      "2295/2295 [==============================] - 3s 1ms/step - loss: 0.8149 - acc: 0.3473 - val_loss: 0.8146 - val_acc: 0.3255\n",
      "Epoch 10/300\n",
      "2295/2295 [==============================] - 3s 1ms/step - loss: 0.8144 - acc: 0.3342 - val_loss: 0.8139 - val_acc: 0.3216\n",
      "Epoch 11/300\n",
      "2295/2295 [==============================] - 3s 1ms/step - loss: 0.8143 - acc: 0.3778 - val_loss: 0.8141 - val_acc: 0.3255\n",
      "Epoch 12/300\n",
      "2295/2295 [==============================] - 3s 1ms/step - loss: 0.8145 - acc: 0.3468 - val_loss: 0.8139 - val_acc: 0.3216\n",
      "Epoch 13/300\n",
      "2295/2295 [==============================] - 3s 1ms/step - loss: 0.8136 - acc: 0.3895 - val_loss: 0.8133 - val_acc: 0.3255\n",
      "Epoch 14/300\n",
      "2295/2295 [==============================] - 3s 1ms/step - loss: 0.8130 - acc: 0.3460 - val_loss: 0.8118 - val_acc: 0.3255\n",
      "Epoch 15/300\n",
      "2295/2295 [==============================] - 3s 1ms/step - loss: 0.8112 - acc: 0.4715 - val_loss: 0.8094 - val_acc: 0.3529\n",
      "Epoch 16/300\n",
      "2295/2295 [==============================] - 3s 1ms/step - loss: 0.8101 - acc: 0.3913 - val_loss: 0.8077 - val_acc: 0.3255\n",
      "Epoch 17/300\n",
      "2295/2295 [==============================] - 3s 1ms/step - loss: 0.8059 - acc: 0.4231 - val_loss: 0.8030 - val_acc: 0.3529\n",
      "Epoch 18/300\n",
      "2295/2295 [==============================] - 3s 1ms/step - loss: 0.8023 - acc: 0.4139 - val_loss: 0.8084 - val_acc: 0.3255\n",
      "Epoch 19/300\n",
      "2295/2295 [==============================] - 3s 1ms/step - loss: 0.7976 - acc: 0.4627 - val_loss: 0.8009 - val_acc: 0.3529\n",
      "Epoch 20/300\n",
      "2295/2295 [==============================] - 3s 1ms/step - loss: 0.7916 - acc: 0.4845 - val_loss: 0.7843 - val_acc: 0.6471\n",
      "Epoch 21/300\n",
      "2295/2295 [==============================] - 3s 1ms/step - loss: 0.7820 - acc: 0.6253 - val_loss: 0.7778 - val_acc: 0.6706\n",
      "Epoch 22/300\n",
      "2295/2295 [==============================] - 3s 1ms/step - loss: 0.7751 - acc: 0.6549 - val_loss: 0.7690 - val_acc: 0.6745\n",
      "Epoch 23/300\n",
      "2295/2295 [==============================] - 3s 1ms/step - loss: 0.7647 - acc: 0.6706 - val_loss: 0.7596 - val_acc: 0.6706\n",
      "Epoch 24/300\n",
      "2295/2295 [==============================] - 3s 1ms/step - loss: 0.7577 - acc: 0.6584 - val_loss: 0.7548 - val_acc: 0.6471\n",
      "Epoch 25/300\n",
      "2295/2295 [==============================] - 3s 1ms/step - loss: 0.7489 - acc: 0.6928 - val_loss: 0.7459 - val_acc: 0.6471\n",
      "Epoch 26/300\n",
      "2295/2295 [==============================] - 3s 1ms/step - loss: 0.7432 - acc: 0.6776 - val_loss: 0.7413 - val_acc: 0.6471\n",
      "Epoch 27/300\n",
      "2295/2295 [==============================] - 3s 1ms/step - loss: 0.7387 - acc: 0.6789 - val_loss: 0.7411 - val_acc: 0.6471\n",
      "Epoch 28/300\n",
      "2295/2295 [==============================] - 3s 1ms/step - loss: 0.7349 - acc: 0.7081 - val_loss: 0.7338 - val_acc: 0.6745\n",
      "Epoch 29/300\n",
      "2295/2295 [==============================] - 3s 1ms/step - loss: 0.7371 - acc: 0.6715 - val_loss: 0.7342 - val_acc: 0.6471\n",
      "Epoch 30/300\n",
      "2295/2295 [==============================] - 3s 1ms/step - loss: 0.7309 - acc: 0.7190 - val_loss: 0.7320 - val_acc: 0.6471\n",
      "Epoch 31/300\n",
      "2295/2295 [==============================] - 3s 1ms/step - loss: 0.7283 - acc: 0.7773 - val_loss: 0.7289 - val_acc: 0.8157\n",
      "Epoch 32/300\n",
      "2295/2295 [==============================] - 3s 1ms/step - loss: 0.7263 - acc: 0.7747 - val_loss: 0.7274 - val_acc: 0.6588\n",
      "Epoch 33/300\n",
      "2295/2295 [==============================] - 3s 1ms/step - loss: 0.7261 - acc: 0.7085 - val_loss: 0.7272 - val_acc: 0.6431\n",
      "Epoch 34/300\n",
      "2295/2295 [==============================] - 3s 1ms/step - loss: 0.7239 - acc: 0.7412 - val_loss: 0.7259 - val_acc: 0.6431\n",
      "Epoch 35/300\n",
      "2295/2295 [==============================] - 3s 1ms/step - loss: 0.7249 - acc: 0.7028 - val_loss: 0.7237 - val_acc: 0.8157\n",
      "Epoch 36/300\n",
      "2295/2295 [==============================] - 3s 1ms/step - loss: 0.7230 - acc: 0.7216 - val_loss: 0.7234 - val_acc: 0.7843\n",
      "Epoch 37/300\n",
      "2295/2295 [==============================] - 3s 1ms/step - loss: 0.7199 - acc: 0.7813 - val_loss: 0.7262 - val_acc: 0.6431\n",
      "Epoch 38/300\n",
      "2295/2295 [==============================] - 3s 1ms/step - loss: 0.7183 - acc: 0.7935 - val_loss: 0.7187 - val_acc: 0.8078\n",
      "Epoch 39/300\n",
      "2295/2295 [==============================] - 3s 1ms/step - loss: 0.7177 - acc: 0.7791 - val_loss: 0.7171 - val_acc: 0.8196\n",
      "Epoch 40/300\n",
      "2295/2295 [==============================] - 3s 1ms/step - loss: 0.7161 - acc: 0.8000 - val_loss: 0.7168 - val_acc: 0.8235\n",
      "Epoch 41/300\n",
      "2295/2295 [==============================] - 3s 1ms/step - loss: 0.7166 - acc: 0.7913 - val_loss: 0.7140 - val_acc: 0.8118\n",
      "Epoch 42/300\n",
      "2295/2295 [==============================] - 3s 1ms/step - loss: 0.7145 - acc: 0.7987 - val_loss: 0.7246 - val_acc: 0.6431\n",
      "Epoch 43/300\n",
      "2295/2295 [==============================] - 3s 1ms/step - loss: 0.7155 - acc: 0.7895 - val_loss: 0.7195 - val_acc: 0.7922\n",
      "Epoch 44/300\n",
      "2295/2295 [==============================] - 3s 1ms/step - loss: 0.7109 - acc: 0.8309 - val_loss: 0.7114 - val_acc: 0.8118\n",
      "Epoch 45/300\n",
      "2295/2295 [==============================] - 3s 1ms/step - loss: 0.7099 - acc: 0.8305 - val_loss: 0.7109 - val_acc: 0.8118\n",
      "Epoch 46/300\n",
      "2295/2295 [==============================] - 3s 1ms/step - loss: 0.7103 - acc: 0.8248 - val_loss: 0.7202 - val_acc: 0.7882\n",
      "Epoch 47/300\n",
      "2295/2295 [==============================] - 3s 1ms/step - loss: 0.7074 - acc: 0.8462 - val_loss: 0.7070 - val_acc: 0.8157\n",
      "Epoch 48/300\n",
      "2295/2295 [==============================] - 3s 1ms/step - loss: 0.7065 - acc: 0.8392 - val_loss: 0.7068 - val_acc: 0.8157\n",
      "Epoch 49/300\n",
      "2295/2295 [==============================] - 3s 1ms/step - loss: 0.7040 - acc: 0.8492 - val_loss: 0.7116 - val_acc: 0.8314\n",
      "Epoch 50/300\n",
      "2295/2295 [==============================] - 3s 1ms/step - loss: 0.7044 - acc: 0.8497 - val_loss: 0.7041 - val_acc: 0.8667\n",
      "Epoch 51/300\n",
      "2295/2295 [==============================] - 3s 1ms/step - loss: 0.7039 - acc: 0.8510 - val_loss: 0.7037 - val_acc: 0.8196\n",
      "Epoch 52/300\n",
      "2295/2295 [==============================] - 3s 1ms/step - loss: 0.7012 - acc: 0.8627 - val_loss: 0.7020 - val_acc: 0.8392\n",
      "Epoch 53/300\n",
      "2295/2295 [==============================] - 3s 1ms/step - loss: 0.7009 - acc: 0.8601 - val_loss: 0.7074 - val_acc: 0.8392\n",
      "Epoch 54/300\n",
      "2295/2295 [==============================] - 3s 1ms/step - loss: 0.7008 - acc: 0.8632 - val_loss: 0.7003 - val_acc: 0.8431\n",
      "Epoch 55/300\n",
      "2295/2295 [==============================] - 3s 1ms/step - loss: 0.6992 - acc: 0.8741 - val_loss: 0.7043 - val_acc: 0.8392\n",
      "Epoch 56/300\n",
      "2295/2295 [==============================] - 3s 1ms/step - loss: 0.7019 - acc: 0.8523 - val_loss: 0.6991 - val_acc: 0.8706\n",
      "Epoch 57/300\n",
      "2295/2295 [==============================] - 3s 1ms/step - loss: 0.6979 - acc: 0.8789 - val_loss: 0.6976 - val_acc: 0.8510\n",
      "Epoch 58/300\n",
      "2295/2295 [==============================] - 3s 1ms/step - loss: 0.6967 - acc: 0.8837 - val_loss: 0.6968 - val_acc: 0.8627\n",
      "Epoch 59/300\n",
      "2295/2295 [==============================] - 3s 1ms/step - loss: 0.6961 - acc: 0.8889 - val_loss: 0.6985 - val_acc: 0.8549\n",
      "Epoch 60/300\n",
      "2295/2295 [==============================] - 3s 1ms/step - loss: 0.6971 - acc: 0.8810 - val_loss: 0.6973 - val_acc: 0.8863\n"
     ]
    },
    {
     "name": "stdout",
     "output_type": "stream",
     "text": [
      "Epoch 61/300\n",
      "2295/2295 [==============================] - 3s 1ms/step - loss: 0.6948 - acc: 0.9015 - val_loss: 0.6948 - val_acc: 0.9137\n",
      "Epoch 62/300\n",
      "2295/2295 [==============================] - 3s 1ms/step - loss: 0.6944 - acc: 0.9020 - val_loss: 0.6944 - val_acc: 0.9176\n",
      "Epoch 63/300\n",
      "2295/2295 [==============================] - 3s 1ms/step - loss: 0.6934 - acc: 0.9050 - val_loss: 0.6946 - val_acc: 0.9098\n",
      "Epoch 64/300\n",
      "2295/2295 [==============================] - 3s 1ms/step - loss: 0.6932 - acc: 0.9098 - val_loss: 0.6934 - val_acc: 0.8941\n",
      "Epoch 65/300\n",
      "2295/2295 [==============================] - 3s 1ms/step - loss: 0.6916 - acc: 0.9255 - val_loss: 0.6946 - val_acc: 0.8824\n",
      "Epoch 66/300\n",
      "2295/2295 [==============================] - 3s 1ms/step - loss: 0.6911 - acc: 0.9285 - val_loss: 0.6947 - val_acc: 0.8824\n",
      "Epoch 67/300\n",
      "2295/2295 [==============================] - 3s 1ms/step - loss: 0.6908 - acc: 0.9259 - val_loss: 0.6912 - val_acc: 0.9294\n",
      "Epoch 68/300\n",
      "2295/2295 [==============================] - 3s 1ms/step - loss: 0.6898 - acc: 0.9386 - val_loss: 0.6913 - val_acc: 0.9098\n",
      "Epoch 69/300\n",
      "2295/2295 [==============================] - 3s 1ms/step - loss: 0.6894 - acc: 0.9320 - val_loss: 0.6899 - val_acc: 0.9373\n",
      "Epoch 70/300\n",
      "2295/2295 [==============================] - 3s 1ms/step - loss: 0.6892 - acc: 0.9342 - val_loss: 0.6902 - val_acc: 0.9529\n",
      "Epoch 71/300\n",
      "2295/2295 [==============================] - 3s 1ms/step - loss: 0.6899 - acc: 0.9290 - val_loss: 0.6894 - val_acc: 0.9333\n",
      "Epoch 72/300\n",
      "2295/2295 [==============================] - 3s 1ms/step - loss: 0.6879 - acc: 0.9412 - val_loss: 0.6882 - val_acc: 0.9412\n",
      "Epoch 73/300\n",
      "2295/2295 [==============================] - 3s 1ms/step - loss: 0.6882 - acc: 0.9420 - val_loss: 0.6882 - val_acc: 0.9373\n",
      "Epoch 74/300\n",
      "2295/2295 [==============================] - 3s 1ms/step - loss: 0.6867 - acc: 0.9468 - val_loss: 0.6880 - val_acc: 0.9569\n",
      "Epoch 75/300\n",
      "2295/2295 [==============================] - 3s 1ms/step - loss: 0.6879 - acc: 0.9307 - val_loss: 0.6884 - val_acc: 0.9333\n",
      "Epoch 76/300\n",
      "2295/2295 [==============================] - 3s 1ms/step - loss: 0.6863 - acc: 0.9416 - val_loss: 0.6886 - val_acc: 0.9294\n",
      "Epoch 77/300\n",
      "2295/2295 [==============================] - 3s 1ms/step - loss: 0.6858 - acc: 0.9486 - val_loss: 0.6916 - val_acc: 0.8902\n",
      "Epoch 78/300\n",
      "2295/2295 [==============================] - 3s 1ms/step - loss: 0.6874 - acc: 0.9298 - val_loss: 0.6906 - val_acc: 0.9098\n",
      "Epoch 79/300\n",
      "2295/2295 [==============================] - 3s 1ms/step - loss: 0.6862 - acc: 0.9364 - val_loss: 0.6869 - val_acc: 0.9333\n",
      "Epoch 80/300\n",
      "2295/2295 [==============================] - 3s 1ms/step - loss: 0.6842 - acc: 0.9508 - val_loss: 0.6851 - val_acc: 0.9373\n",
      "Epoch 81/300\n",
      "2295/2295 [==============================] - 3s 1ms/step - loss: 0.6839 - acc: 0.9525 - val_loss: 0.6850 - val_acc: 0.9569\n",
      "Epoch 82/300\n",
      "2295/2295 [==============================] - 3s 1ms/step - loss: 0.6844 - acc: 0.9468 - val_loss: 0.6846 - val_acc: 0.9373\n",
      "Epoch 83/300\n",
      "2295/2295 [==============================] - 3s 1ms/step - loss: 0.6843 - acc: 0.9516 - val_loss: 0.6842 - val_acc: 0.9451\n",
      "Epoch 84/300\n",
      "2295/2295 [==============================] - 3s 1ms/step - loss: 0.6829 - acc: 0.9529 - val_loss: 0.6845 - val_acc: 0.9373\n",
      "Epoch 85/300\n",
      "2295/2295 [==============================] - 3s 1ms/step - loss: 0.6831 - acc: 0.9534 - val_loss: 0.6838 - val_acc: 0.9373\n",
      "Epoch 86/300\n",
      "2295/2295 [==============================] - 3s 1ms/step - loss: 0.6826 - acc: 0.9499 - val_loss: 0.6840 - val_acc: 0.9373\n",
      "Epoch 87/300\n",
      "2295/2295 [==============================] - 3s 1ms/step - loss: 0.6830 - acc: 0.9516 - val_loss: 0.6854 - val_acc: 0.9412\n",
      "Epoch 88/300\n",
      "2295/2295 [==============================] - 3s 1ms/step - loss: 0.6821 - acc: 0.9547 - val_loss: 0.6835 - val_acc: 0.9373\n",
      "Epoch 89/300\n",
      "2295/2295 [==============================] - 3s 1ms/step - loss: 0.6815 - acc: 0.9512 - val_loss: 0.6827 - val_acc: 0.9529\n",
      "Epoch 90/300\n",
      "2295/2295 [==============================] - 3s 1ms/step - loss: 0.6819 - acc: 0.9560 - val_loss: 0.6825 - val_acc: 0.9373\n",
      "Epoch 91/300\n",
      "2295/2295 [==============================] - 3s 1ms/step - loss: 0.6808 - acc: 0.9586 - val_loss: 0.6821 - val_acc: 0.9529\n",
      "Epoch 92/300\n",
      "2295/2295 [==============================] - 3s 1ms/step - loss: 0.6810 - acc: 0.9582 - val_loss: 0.6837 - val_acc: 0.9686\n",
      "Epoch 93/300\n",
      "2295/2295 [==============================] - 3s 1ms/step - loss: 0.6813 - acc: 0.9556 - val_loss: 0.6842 - val_acc: 0.9412\n",
      "Epoch 94/300\n",
      "2295/2295 [==============================] - 3s 1ms/step - loss: 0.6804 - acc: 0.9556 - val_loss: 0.6827 - val_acc: 0.9373\n",
      "Epoch 95/300\n",
      "2295/2295 [==============================] - 3s 1ms/step - loss: 0.6804 - acc: 0.9569 - val_loss: 0.6845 - val_acc: 0.9412\n",
      "Epoch 96/300\n",
      "2295/2295 [==============================] - 3s 1ms/step - loss: 0.6813 - acc: 0.9556 - val_loss: 0.6921 - val_acc: 0.9020\n",
      "Epoch 97/300\n",
      "2295/2295 [==============================] - 3s 1ms/step - loss: 0.6817 - acc: 0.9512 - val_loss: 0.6810 - val_acc: 0.9490\n",
      "Epoch 98/300\n",
      "2295/2295 [==============================] - 3s 1ms/step - loss: 0.6795 - acc: 0.9586 - val_loss: 0.6807 - val_acc: 0.9569\n",
      "Epoch 99/300\n",
      "2295/2295 [==============================] - 3s 1ms/step - loss: 0.6794 - acc: 0.9599 - val_loss: 0.6837 - val_acc: 0.9412\n",
      "Epoch 100/300\n",
      "2295/2295 [==============================] - 3s 1ms/step - loss: 0.6798 - acc: 0.9582 - val_loss: 0.6820 - val_acc: 0.9412\n",
      "Epoch 101/300\n",
      "2295/2295 [==============================] - 3s 1ms/step - loss: 0.6794 - acc: 0.9577 - val_loss: 0.6821 - val_acc: 0.9412\n",
      "Epoch 102/300\n",
      "2295/2295 [==============================] - 3s 1ms/step - loss: 0.6791 - acc: 0.9569 - val_loss: 0.6801 - val_acc: 0.9451\n",
      "Epoch 103/300\n",
      "2295/2295 [==============================] - 3s 1ms/step - loss: 0.6789 - acc: 0.9603 - val_loss: 0.6801 - val_acc: 0.9569\n",
      "Epoch 104/300\n",
      "2295/2295 [==============================] - 3s 1ms/step - loss: 0.6791 - acc: 0.9603 - val_loss: 0.6800 - val_acc: 0.9569\n",
      "Epoch 105/300\n",
      "2295/2295 [==============================] - 3s 1ms/step - loss: 0.6796 - acc: 0.9621 - val_loss: 0.6808 - val_acc: 0.9686\n",
      "Epoch 106/300\n",
      "2295/2295 [==============================] - 3s 1ms/step - loss: 0.6783 - acc: 0.9612 - val_loss: 0.6804 - val_acc: 0.9373\n",
      "Epoch 107/300\n",
      "2295/2295 [==============================] - 3s 1ms/step - loss: 0.6793 - acc: 0.9586 - val_loss: 0.6800 - val_acc: 0.9373\n",
      "Epoch 108/300\n",
      "2295/2295 [==============================] - 3s 1ms/step - loss: 0.6781 - acc: 0.9617 - val_loss: 0.6791 - val_acc: 0.9569\n",
      "Epoch 109/300\n",
      "2295/2295 [==============================] - 3s 1ms/step - loss: 0.6778 - acc: 0.9608 - val_loss: 0.6828 - val_acc: 0.9412\n",
      "Epoch 110/300\n",
      "2295/2295 [==============================] - 3s 1ms/step - loss: 0.6777 - acc: 0.9643 - val_loss: 0.6788 - val_acc: 0.9569\n",
      "Epoch 111/300\n",
      "2295/2295 [==============================] - 3s 1ms/step - loss: 0.6777 - acc: 0.9638 - val_loss: 0.6787 - val_acc: 0.9569\n",
      "Epoch 112/300\n",
      "2295/2295 [==============================] - 3s 1ms/step - loss: 0.6777 - acc: 0.9643 - val_loss: 0.6816 - val_acc: 0.9412\n",
      "Epoch 113/300\n",
      "2295/2295 [==============================] - 3s 1ms/step - loss: 0.6776 - acc: 0.9669 - val_loss: 0.6802 - val_acc: 0.9412\n",
      "Epoch 114/300\n",
      "2295/2295 [==============================] - 3s 1ms/step - loss: 0.6773 - acc: 0.9638 - val_loss: 0.6783 - val_acc: 0.9608\n",
      "Epoch 115/300\n",
      "2295/2295 [==============================] - 3s 1ms/step - loss: 0.6774 - acc: 0.9612 - val_loss: 0.6783 - val_acc: 0.9529\n",
      "Epoch 116/300\n",
      "2295/2295 [==============================] - 3s 1ms/step - loss: 0.6787 - acc: 0.9569 - val_loss: 0.6815 - val_acc: 0.9412\n",
      "Epoch 117/300\n",
      "2295/2295 [==============================] - 3s 1ms/step - loss: 0.6776 - acc: 0.9660 - val_loss: 0.6787 - val_acc: 0.9412\n",
      "Epoch 118/300\n",
      "2295/2295 [==============================] - 3s 1ms/step - loss: 0.6768 - acc: 0.9660 - val_loss: 0.6777 - val_acc: 0.9608\n",
      "Epoch 119/300\n",
      "2295/2295 [==============================] - 3s 1ms/step - loss: 0.6765 - acc: 0.9660 - val_loss: 0.6791 - val_acc: 0.9451\n",
      "Epoch 120/300\n",
      "2295/2295 [==============================] - 3s 1ms/step - loss: 0.6767 - acc: 0.9664 - val_loss: 0.6809 - val_acc: 0.9412\n",
      "Epoch 121/300\n"
     ]
    },
    {
     "name": "stdout",
     "output_type": "stream",
     "text": [
      "2295/2295 [==============================] - 3s 1ms/step - loss: 0.6771 - acc: 0.9664 - val_loss: 0.6817 - val_acc: 0.9412\n",
      "Epoch 122/300\n",
      "2295/2295 [==============================] - 3s 1ms/step - loss: 0.6767 - acc: 0.9673 - val_loss: 0.6784 - val_acc: 0.9490\n",
      "Epoch 123/300\n",
      "2295/2295 [==============================] - 3s 1ms/step - loss: 0.6758 - acc: 0.9699 - val_loss: 0.6770 - val_acc: 0.9608\n",
      "Epoch 124/300\n",
      "2295/2295 [==============================] - 3s 1ms/step - loss: 0.6757 - acc: 0.9669 - val_loss: 0.6770 - val_acc: 0.9686\n",
      "Epoch 125/300\n",
      "2295/2295 [==============================] - 3s 1ms/step - loss: 0.6759 - acc: 0.9686 - val_loss: 0.6784 - val_acc: 0.9490\n",
      "Epoch 126/300\n",
      "2295/2295 [==============================] - 3s 1ms/step - loss: 0.6761 - acc: 0.9686 - val_loss: 0.6796 - val_acc: 0.9412\n",
      "Epoch 127/300\n",
      "2295/2295 [==============================] - 3s 1ms/step - loss: 0.6763 - acc: 0.9708 - val_loss: 0.6841 - val_acc: 0.9333\n",
      "Epoch 128/300\n",
      "2295/2295 [==============================] - 3s 1ms/step - loss: 0.6766 - acc: 0.9686 - val_loss: 0.6780 - val_acc: 0.9490\n",
      "Epoch 129/300\n",
      "2295/2295 [==============================] - 3s 1ms/step - loss: 0.6752 - acc: 0.9721 - val_loss: 0.6763 - val_acc: 0.9686\n",
      "Epoch 130/300\n",
      "2295/2295 [==============================] - 3s 1ms/step - loss: 0.6753 - acc: 0.9717 - val_loss: 0.6762 - val_acc: 0.9686\n",
      "Epoch 131/300\n",
      "2295/2295 [==============================] - 3s 1ms/step - loss: 0.6758 - acc: 0.9712 - val_loss: 0.6762 - val_acc: 0.9725\n",
      "Epoch 132/300\n",
      "2295/2295 [==============================] - 3s 1ms/step - loss: 0.6746 - acc: 0.9756 - val_loss: 0.6767 - val_acc: 0.9804\n",
      "Epoch 133/300\n",
      "2295/2295 [==============================] - 3s 1ms/step - loss: 0.6749 - acc: 0.9721 - val_loss: 0.6764 - val_acc: 0.9529\n",
      "Epoch 134/300\n",
      "2295/2295 [==============================] - 3s 1ms/step - loss: 0.6751 - acc: 0.9739 - val_loss: 0.6827 - val_acc: 0.9373\n",
      "Epoch 135/300\n",
      "2295/2295 [==============================] - 3s 1ms/step - loss: 0.6748 - acc: 0.9743 - val_loss: 0.6782 - val_acc: 0.9490\n",
      "Epoch 136/300\n",
      "2295/2295 [==============================] - 3s 1ms/step - loss: 0.6750 - acc: 0.9747 - val_loss: 0.6755 - val_acc: 0.9725\n",
      "Epoch 137/300\n",
      "2295/2295 [==============================] - 3s 1ms/step - loss: 0.6747 - acc: 0.9730 - val_loss: 0.6756 - val_acc: 0.9608\n",
      "Epoch 138/300\n",
      "2295/2295 [==============================] - 3s 1ms/step - loss: 0.6743 - acc: 0.9760 - val_loss: 0.6752 - val_acc: 0.9725\n",
      "Epoch 139/300\n",
      "2295/2295 [==============================] - 3s 1ms/step - loss: 0.6752 - acc: 0.9717 - val_loss: 0.6755 - val_acc: 0.9608\n",
      "Epoch 140/300\n",
      "2295/2295 [==============================] - 3s 1ms/step - loss: 0.6742 - acc: 0.9756 - val_loss: 0.6778 - val_acc: 0.9490\n",
      "Epoch 141/300\n",
      "2295/2295 [==============================] - 3s 1ms/step - loss: 0.6753 - acc: 0.9725 - val_loss: 0.6763 - val_acc: 0.9569\n",
      "Epoch 142/300\n",
      "2295/2295 [==============================] - 3s 1ms/step - loss: 0.6743 - acc: 0.9743 - val_loss: 0.6755 - val_acc: 0.9608\n",
      "Epoch 143/300\n",
      "2295/2295 [==============================] - 3s 1ms/step - loss: 0.6740 - acc: 0.9773 - val_loss: 0.6757 - val_acc: 0.9608\n",
      "Epoch 144/300\n",
      "2295/2295 [==============================] - 3s 1ms/step - loss: 0.6737 - acc: 0.9769 - val_loss: 0.6751 - val_acc: 0.9647\n",
      "Epoch 145/300\n",
      "2295/2295 [==============================] - 3s 1ms/step - loss: 0.6735 - acc: 0.9778 - val_loss: 0.6790 - val_acc: 0.9451\n",
      "Epoch 146/300\n",
      "2295/2295 [==============================] - 3s 1ms/step - loss: 0.6736 - acc: 0.9782 - val_loss: 0.6747 - val_acc: 0.9686\n",
      "Epoch 147/300\n",
      "2295/2295 [==============================] - 3s 1ms/step - loss: 0.6734 - acc: 0.9782 - val_loss: 0.6765 - val_acc: 0.9569\n",
      "Epoch 148/300\n",
      "2295/2295 [==============================] - 3s 1ms/step - loss: 0.6742 - acc: 0.9747 - val_loss: 0.6762 - val_acc: 0.9569\n",
      "Epoch 149/300\n",
      "2295/2295 [==============================] - 3s 1ms/step - loss: 0.6739 - acc: 0.9752 - val_loss: 0.6741 - val_acc: 0.9725\n",
      "Epoch 150/300\n",
      "2295/2295 [==============================] - 3s 1ms/step - loss: 0.6729 - acc: 0.9804 - val_loss: 0.6771 - val_acc: 0.9529\n",
      "Epoch 151/300\n",
      "2295/2295 [==============================] - 3s 1ms/step - loss: 0.6739 - acc: 0.9782 - val_loss: 0.6771 - val_acc: 0.9529\n",
      "Epoch 152/300\n",
      "2295/2295 [==============================] - 3s 1ms/step - loss: 0.6732 - acc: 0.9800 - val_loss: 0.6746 - val_acc: 0.9725\n",
      "Epoch 153/300\n",
      "2295/2295 [==============================] - 3s 1ms/step - loss: 0.6729 - acc: 0.9800 - val_loss: 0.6753 - val_acc: 0.9608\n",
      "Epoch 154/300\n",
      "2295/2295 [==============================] - 3s 1ms/step - loss: 0.6724 - acc: 0.9813 - val_loss: 0.6756 - val_acc: 0.9608\n",
      "Epoch 155/300\n",
      "2295/2295 [==============================] - 3s 1ms/step - loss: 0.6730 - acc: 0.9813 - val_loss: 0.6767 - val_acc: 0.9569\n",
      "Epoch 156/300\n",
      "2295/2295 [==============================] - 3s 1ms/step - loss: 0.6727 - acc: 0.9834 - val_loss: 0.6751 - val_acc: 0.9608\n",
      "Epoch 157/300\n",
      "2295/2295 [==============================] - 3s 1ms/step - loss: 0.6724 - acc: 0.9813 - val_loss: 0.6734 - val_acc: 0.9725\n",
      "Epoch 158/300\n",
      "2295/2295 [==============================] - 3s 1ms/step - loss: 0.6724 - acc: 0.9830 - val_loss: 0.6736 - val_acc: 0.9922\n",
      "Epoch 159/300\n",
      "2295/2295 [==============================] - 3s 1ms/step - loss: 0.6744 - acc: 0.9756 - val_loss: 0.6740 - val_acc: 0.9922\n",
      "Epoch 160/300\n",
      "2295/2295 [==============================] - 3s 1ms/step - loss: 0.6728 - acc: 0.9826 - val_loss: 0.6735 - val_acc: 0.9686\n",
      "Epoch 161/300\n",
      "2295/2295 [==============================] - 3s 1ms/step - loss: 0.6724 - acc: 0.9830 - val_loss: 0.6738 - val_acc: 0.9725\n",
      "Epoch 162/300\n",
      "2295/2295 [==============================] - 3s 1ms/step - loss: 0.6727 - acc: 0.9821 - val_loss: 0.6730 - val_acc: 0.9922\n",
      "Epoch 163/300\n",
      "2295/2295 [==============================] - 3s 1ms/step - loss: 0.6720 - acc: 0.9861 - val_loss: 0.6745 - val_acc: 0.9686\n",
      "Epoch 164/300\n",
      "2295/2295 [==============================] - 3s 1ms/step - loss: 0.6718 - acc: 0.9843 - val_loss: 0.6728 - val_acc: 0.9804\n",
      "Epoch 165/300\n",
      "2295/2295 [==============================] - 3s 1ms/step - loss: 0.6724 - acc: 0.9852 - val_loss: 0.6731 - val_acc: 0.9725\n",
      "Epoch 166/300\n",
      "2295/2295 [==============================] - 3s 1ms/step - loss: 0.6722 - acc: 0.9830 - val_loss: 0.6736 - val_acc: 0.9725\n",
      "Epoch 167/300\n",
      "2295/2295 [==============================] - 3s 1ms/step - loss: 0.6716 - acc: 0.9865 - val_loss: 0.6725 - val_acc: 0.9765\n",
      "Epoch 168/300\n",
      "2295/2295 [==============================] - 3s 1ms/step - loss: 0.6723 - acc: 0.9843 - val_loss: 0.6728 - val_acc: 0.9725\n",
      "Epoch 169/300\n",
      "2295/2295 [==============================] - 3s 1ms/step - loss: 0.6729 - acc: 0.9821 - val_loss: 0.6750 - val_acc: 0.9608\n",
      "Epoch 170/300\n",
      "2295/2295 [==============================] - 3s 1ms/step - loss: 0.6714 - acc: 0.9856 - val_loss: 0.6731 - val_acc: 0.9725\n",
      "Epoch 171/300\n",
      "2295/2295 [==============================] - 3s 1ms/step - loss: 0.6713 - acc: 0.9865 - val_loss: 0.6722 - val_acc: 0.9765\n",
      "Epoch 172/300\n",
      "2295/2295 [==============================] - 3s 1ms/step - loss: 0.6714 - acc: 0.9861 - val_loss: 0.6724 - val_acc: 0.9922\n",
      "Epoch 173/300\n",
      "2295/2295 [==============================] - 3s 1ms/step - loss: 0.6716 - acc: 0.9869 - val_loss: 0.6722 - val_acc: 0.9765\n",
      "Epoch 174/300\n",
      "2295/2295 [==============================] - 3s 1ms/step - loss: 0.6721 - acc: 0.9817 - val_loss: 0.6727 - val_acc: 0.9765\n",
      "Epoch 175/300\n",
      "2295/2295 [==============================] - 3s 1ms/step - loss: 0.6713 - acc: 0.9861 - val_loss: 0.6741 - val_acc: 0.9686\n",
      "Epoch 176/300\n",
      "2295/2295 [==============================] - 3s 1ms/step - loss: 0.6722 - acc: 0.9834 - val_loss: 0.6734 - val_acc: 0.9725\n",
      "Epoch 177/300\n",
      "2295/2295 [==============================] - 3s 1ms/step - loss: 0.6717 - acc: 0.9852 - val_loss: 0.6730 - val_acc: 0.9725\n",
      "Epoch 178/300\n",
      "2295/2295 [==============================] - 3s 1ms/step - loss: 0.6711 - acc: 0.9874 - val_loss: 0.6729 - val_acc: 0.9725\n",
      "Epoch 179/300\n",
      "2295/2295 [==============================] - 3s 1ms/step - loss: 0.6709 - acc: 0.9874 - val_loss: 0.6717 - val_acc: 0.9765\n",
      "Epoch 180/300\n",
      "2295/2295 [==============================] - 3s 1ms/step - loss: 0.6710 - acc: 0.9887 - val_loss: 0.6721 - val_acc: 0.9765\n"
     ]
    },
    {
     "name": "stdout",
     "output_type": "stream",
     "text": [
      "Epoch 181/300\n",
      "2295/2295 [==============================] - 3s 1ms/step - loss: 0.6707 - acc: 0.9891 - val_loss: 0.6716 - val_acc: 0.9882\n",
      "Epoch 182/300\n",
      "2295/2295 [==============================] - 3s 1ms/step - loss: 0.6719 - acc: 0.9856 - val_loss: 0.6717 - val_acc: 0.9765\n",
      "Epoch 183/300\n",
      "2295/2295 [==============================] - 3s 1ms/step - loss: 0.6707 - acc: 0.9865 - val_loss: 0.6724 - val_acc: 0.9765\n",
      "Epoch 184/300\n",
      "2295/2295 [==============================] - 3s 1ms/step - loss: 0.6710 - acc: 0.9874 - val_loss: 0.6727 - val_acc: 0.9765\n",
      "Epoch 185/300\n",
      "2295/2295 [==============================] - 3s 1ms/step - loss: 0.6712 - acc: 0.9874 - val_loss: 0.6713 - val_acc: 0.9922\n",
      "Epoch 186/300\n",
      "2295/2295 [==============================] - 3s 1ms/step - loss: 0.6706 - acc: 0.9882 - val_loss: 0.6721 - val_acc: 0.9765\n",
      "Epoch 187/300\n",
      "2295/2295 [==============================] - 3s 1ms/step - loss: 0.6703 - acc: 0.9895 - val_loss: 0.6716 - val_acc: 0.9804\n",
      "Epoch 188/300\n",
      "2295/2295 [==============================] - 3s 1ms/step - loss: 0.6704 - acc: 0.9882 - val_loss: 0.6725 - val_acc: 0.9765\n",
      "Epoch 189/300\n",
      "2295/2295 [==============================] - 3s 1ms/step - loss: 0.6704 - acc: 0.9908 - val_loss: 0.6716 - val_acc: 0.9804\n",
      "Epoch 190/300\n",
      "2295/2295 [==============================] - 3s 1ms/step - loss: 0.6701 - acc: 0.9922 - val_loss: 0.6711 - val_acc: 0.9922\n",
      "Epoch 191/300\n",
      "2295/2295 [==============================] - 3s 1ms/step - loss: 0.6704 - acc: 0.9891 - val_loss: 0.6725 - val_acc: 0.9765\n",
      "Epoch 192/300\n",
      "2295/2295 [==============================] - 3s 1ms/step - loss: 0.6704 - acc: 0.9895 - val_loss: 0.6710 - val_acc: 0.9922\n",
      "Epoch 193/300\n",
      "2295/2295 [==============================] - 3s 1ms/step - loss: 0.6705 - acc: 0.9908 - val_loss: 0.6709 - val_acc: 0.9922\n",
      "Epoch 194/300\n",
      "2295/2295 [==============================] - 3s 1ms/step - loss: 0.6699 - acc: 0.9917 - val_loss: 0.6710 - val_acc: 0.9843\n",
      "Epoch 195/300\n",
      "2295/2295 [==============================] - 3s 1ms/step - loss: 0.6703 - acc: 0.9882 - val_loss: 0.6708 - val_acc: 0.9922\n",
      "Epoch 196/300\n",
      "2295/2295 [==============================] - 3s 1ms/step - loss: 0.6699 - acc: 0.9917 - val_loss: 0.6715 - val_acc: 0.9804\n",
      "Epoch 197/300\n",
      "2295/2295 [==============================] - 3s 1ms/step - loss: 0.6698 - acc: 0.9917 - val_loss: 0.6706 - val_acc: 0.9922\n",
      "Epoch 198/300\n",
      "2295/2295 [==============================] - 3s 1ms/step - loss: 0.6698 - acc: 0.9948 - val_loss: 0.6719 - val_acc: 0.9765\n",
      "Epoch 199/300\n",
      "2295/2295 [==============================] - 3s 1ms/step - loss: 0.6697 - acc: 0.9930 - val_loss: 0.6706 - val_acc: 0.9922\n",
      "Epoch 200/300\n",
      "2295/2295 [==============================] - 3s 1ms/step - loss: 0.6698 - acc: 0.9922 - val_loss: 0.6705 - val_acc: 0.9922\n",
      "Epoch 201/300\n",
      "2295/2295 [==============================] - 3s 1ms/step - loss: 0.6698 - acc: 0.9917 - val_loss: 0.6709 - val_acc: 0.9804\n",
      "Epoch 202/300\n",
      "2295/2295 [==============================] - 3s 1ms/step - loss: 0.6695 - acc: 0.9956 - val_loss: 0.6709 - val_acc: 0.9804\n",
      "Epoch 203/300\n",
      "2295/2295 [==============================] - 3s 1ms/step - loss: 0.6698 - acc: 0.9926 - val_loss: 0.6704 - val_acc: 0.9922\n",
      "Epoch 204/300\n",
      "2295/2295 [==============================] - 3s 1ms/step - loss: 0.6696 - acc: 0.9926 - val_loss: 0.6703 - val_acc: 0.9922\n",
      "Epoch 205/300\n",
      "2295/2295 [==============================] - 3s 1ms/step - loss: 0.6696 - acc: 0.9930 - val_loss: 0.6705 - val_acc: 0.9922\n",
      "Epoch 206/300\n",
      "2295/2295 [==============================] - 3s 1ms/step - loss: 0.6696 - acc: 0.9922 - val_loss: 0.6702 - val_acc: 0.9922\n",
      "Epoch 207/300\n",
      "2295/2295 [==============================] - 3s 1ms/step - loss: 0.6699 - acc: 0.9904 - val_loss: 0.6702 - val_acc: 0.9922\n",
      "Epoch 208/300\n",
      "2295/2295 [==============================] - 3s 1ms/step - loss: 0.6693 - acc: 0.9943 - val_loss: 0.6701 - val_acc: 0.9922\n",
      "Epoch 209/300\n",
      "2295/2295 [==============================] - 3s 1ms/step - loss: 0.6693 - acc: 0.9948 - val_loss: 0.6701 - val_acc: 0.9961\n",
      "Epoch 210/300\n",
      "2295/2295 [==============================] - 3s 1ms/step - loss: 0.6694 - acc: 0.9935 - val_loss: 0.6718 - val_acc: 0.9765\n",
      "Epoch 211/300\n",
      "2295/2295 [==============================] - 3s 1ms/step - loss: 0.6696 - acc: 0.9926 - val_loss: 0.6707 - val_acc: 0.9804\n",
      "Epoch 212/300\n",
      "2295/2295 [==============================] - 3s 1ms/step - loss: 0.6698 - acc: 0.9917 - val_loss: 0.6738 - val_acc: 0.9647\n",
      "Epoch 213/300\n",
      "2295/2295 [==============================] - 3s 1ms/step - loss: 0.6702 - acc: 0.9895 - val_loss: 0.6717 - val_acc: 0.9765\n",
      "Epoch 214/300\n",
      "2295/2295 [==============================] - 3s 1ms/step - loss: 0.6692 - acc: 0.9952 - val_loss: 0.6713 - val_acc: 0.9804\n",
      "Epoch 215/300\n",
      "2295/2295 [==============================] - 3s 1ms/step - loss: 0.6694 - acc: 0.9935 - val_loss: 0.6699 - val_acc: 0.9922\n",
      "Epoch 216/300\n",
      "2295/2295 [==============================] - 3s 1ms/step - loss: 0.6700 - acc: 0.9904 - val_loss: 0.6713 - val_acc: 0.9922\n",
      "Epoch 217/300\n",
      "2295/2295 [==============================] - 3s 1ms/step - loss: 0.6692 - acc: 0.9935 - val_loss: 0.6699 - val_acc: 0.9961\n",
      "Epoch 218/300\n",
      "2295/2295 [==============================] - 3s 1ms/step - loss: 0.6690 - acc: 0.9939 - val_loss: 0.6701 - val_acc: 0.9922\n",
      "Epoch 219/300\n",
      "2295/2295 [==============================] - 3s 1ms/step - loss: 0.6691 - acc: 0.9961 - val_loss: 0.6713 - val_acc: 0.9804\n",
      "Epoch 220/300\n",
      "2295/2295 [==============================] - 3s 1ms/step - loss: 0.6692 - acc: 0.9939 - val_loss: 0.6704 - val_acc: 0.9882\n",
      "Epoch 221/300\n",
      "2295/2295 [==============================] - 3s 1ms/step - loss: 0.6690 - acc: 0.9948 - val_loss: 0.6703 - val_acc: 0.9882\n",
      "Epoch 222/300\n",
      "2295/2295 [==============================] - 3s 1ms/step - loss: 0.6688 - acc: 0.9956 - val_loss: 0.6703 - val_acc: 0.9882\n",
      "Epoch 223/300\n",
      "2295/2295 [==============================] - 3s 1ms/step - loss: 0.6687 - acc: 0.9961 - val_loss: 0.6708 - val_acc: 0.9804\n",
      "Epoch 224/300\n",
      "2295/2295 [==============================] - 3s 1ms/step - loss: 0.6689 - acc: 0.9956 - val_loss: 0.6704 - val_acc: 0.9882\n",
      "Epoch 225/300\n",
      "2295/2295 [==============================] - 3s 1ms/step - loss: 0.6686 - acc: 0.9965 - val_loss: 0.6705 - val_acc: 0.9882\n",
      "Epoch 226/300\n",
      "2295/2295 [==============================] - 3s 1ms/step - loss: 0.6688 - acc: 0.9956 - val_loss: 0.6701 - val_acc: 0.9922\n",
      "Epoch 227/300\n",
      "2295/2295 [==============================] - 3s 1ms/step - loss: 0.6689 - acc: 0.9956 - val_loss: 0.6709 - val_acc: 0.9804\n",
      "Epoch 228/300\n",
      "2295/2295 [==============================] - 3s 1ms/step - loss: 0.6686 - acc: 0.9965 - val_loss: 0.6695 - val_acc: 0.9961\n",
      "Epoch 229/300\n",
      "2295/2295 [==============================] - 3s 1ms/step - loss: 0.6693 - acc: 0.9943 - val_loss: 0.6693 - val_acc: 0.9961\n",
      "Epoch 230/300\n",
      "2295/2295 [==============================] - 3s 1ms/step - loss: 0.6685 - acc: 0.9969 - val_loss: 0.6698 - val_acc: 0.9922\n",
      "Epoch 231/300\n",
      "2295/2295 [==============================] - 3s 1ms/step - loss: 0.6688 - acc: 0.9965 - val_loss: 0.6701 - val_acc: 0.9922\n",
      "Epoch 232/300\n",
      "2295/2295 [==============================] - 3s 1ms/step - loss: 0.6686 - acc: 0.9965 - val_loss: 0.6695 - val_acc: 0.9961\n",
      "Epoch 233/300\n",
      "2295/2295 [==============================] - 3s 1ms/step - loss: 0.6684 - acc: 0.9961 - val_loss: 0.6696 - val_acc: 0.9922\n",
      "Epoch 234/300\n",
      "2295/2295 [==============================] - 3s 1ms/step - loss: 0.6683 - acc: 0.9974 - val_loss: 0.6693 - val_acc: 0.9961\n",
      "Epoch 235/300\n",
      "2295/2295 [==============================] - 3s 1ms/step - loss: 0.6684 - acc: 0.9969 - val_loss: 0.6701 - val_acc: 0.9882\n",
      "Epoch 236/300\n",
      "2295/2295 [==============================] - 3s 1ms/step - loss: 0.6689 - acc: 0.9939 - val_loss: 0.6699 - val_acc: 0.9922\n",
      "Epoch 237/300\n",
      "2295/2295 [==============================] - 3s 1ms/step - loss: 0.6684 - acc: 0.9969 - val_loss: 0.6691 - val_acc: 0.9961\n",
      "Epoch 238/300\n",
      "2295/2295 [==============================] - 3s 1ms/step - loss: 0.6693 - acc: 0.9908 - val_loss: 0.6690 - val_acc: 0.9922\n",
      "Epoch 239/300\n",
      "2295/2295 [==============================] - 3s 1ms/step - loss: 0.6693 - acc: 0.9930 - val_loss: 0.6703 - val_acc: 0.9882\n",
      "Epoch 240/300\n",
      "2295/2295 [==============================] - 3s 1ms/step - loss: 0.6685 - acc: 0.9974 - val_loss: 0.6714 - val_acc: 0.9804\n"
     ]
    },
    {
     "name": "stdout",
     "output_type": "stream",
     "text": [
      "Epoch 241/300\n",
      "2295/2295 [==============================] - 3s 1ms/step - loss: 0.6685 - acc: 0.9961 - val_loss: 0.6691 - val_acc: 0.9961\n",
      "Epoch 242/300\n",
      "2295/2295 [==============================] - 3s 1ms/step - loss: 0.6682 - acc: 0.9983 - val_loss: 0.6704 - val_acc: 0.9843\n",
      "Epoch 243/300\n",
      "2295/2295 [==============================] - 3s 1ms/step - loss: 0.6681 - acc: 0.9978 - val_loss: 0.6691 - val_acc: 0.9961\n",
      "Epoch 244/300\n",
      "2295/2295 [==============================] - 3s 1ms/step - loss: 0.6680 - acc: 0.9987 - val_loss: 0.6696 - val_acc: 0.9922\n",
      "Epoch 245/300\n",
      "2295/2295 [==============================] - 3s 1ms/step - loss: 0.6684 - acc: 0.9965 - val_loss: 0.6690 - val_acc: 0.9922\n",
      "Epoch 246/300\n",
      "2295/2295 [==============================] - 3s 1ms/step - loss: 0.6682 - acc: 0.9965 - val_loss: 0.6688 - val_acc: 0.9961\n",
      "Epoch 247/300\n",
      "2295/2295 [==============================] - 3s 1ms/step - loss: 0.6686 - acc: 0.9961 - val_loss: 0.6709 - val_acc: 0.9804\n",
      "Epoch 248/300\n",
      "2295/2295 [==============================] - 3s 1ms/step - loss: 0.6684 - acc: 0.9961 - val_loss: 0.6693 - val_acc: 0.9922\n",
      "Epoch 249/300\n",
      "2295/2295 [==============================] - 3s 1ms/step - loss: 0.6680 - acc: 0.9983 - val_loss: 0.6689 - val_acc: 0.9961\n",
      "Epoch 250/300\n",
      "2295/2295 [==============================] - 3s 1ms/step - loss: 0.6679 - acc: 0.9983 - val_loss: 0.6699 - val_acc: 0.9882\n",
      "Epoch 251/300\n",
      "2295/2295 [==============================] - 3s 1ms/step - loss: 0.6680 - acc: 0.9983 - val_loss: 0.6703 - val_acc: 0.9882\n",
      "Epoch 252/300\n",
      "2295/2295 [==============================] - 3s 1ms/step - loss: 0.6680 - acc: 0.9974 - val_loss: 0.6691 - val_acc: 0.9922\n",
      "Epoch 253/300\n",
      "2295/2295 [==============================] - 3s 1ms/step - loss: 0.6682 - acc: 0.9965 - val_loss: 0.6687 - val_acc: 0.9961\n",
      "Epoch 254/300\n",
      "2295/2295 [==============================] - 3s 1ms/step - loss: 0.6679 - acc: 0.9991 - val_loss: 0.6689 - val_acc: 0.9961\n",
      "Epoch 255/300\n",
      "2295/2295 [==============================] - 3s 1ms/step - loss: 0.6679 - acc: 0.9978 - val_loss: 0.6686 - val_acc: 0.9922\n",
      "Epoch 256/300\n",
      "2295/2295 [==============================] - 3s 1ms/step - loss: 0.6678 - acc: 0.9991 - val_loss: 0.6686 - val_acc: 0.9961\n",
      "Epoch 257/300\n",
      "2295/2295 [==============================] - 3s 1ms/step - loss: 0.6679 - acc: 0.9991 - val_loss: 0.6694 - val_acc: 0.9922\n",
      "Epoch 258/300\n",
      "2295/2295 [==============================] - 3s 1ms/step - loss: 0.6682 - acc: 0.9974 - val_loss: 0.6691 - val_acc: 0.9922\n",
      "Epoch 259/300\n",
      "2295/2295 [==============================] - 3s 1ms/step - loss: 0.6677 - acc: 0.9996 - val_loss: 0.6686 - val_acc: 0.9961\n",
      "Epoch 260/300\n",
      "2295/2295 [==============================] - 3s 1ms/step - loss: 0.6678 - acc: 0.9987 - val_loss: 0.6685 - val_acc: 0.9961\n",
      "Epoch 261/300\n",
      "2295/2295 [==============================] - 3s 1ms/step - loss: 0.6676 - acc: 0.9991 - val_loss: 0.6685 - val_acc: 0.9961\n",
      "Epoch 262/300\n",
      "2295/2295 [==============================] - 3s 1ms/step - loss: 0.6676 - acc: 0.9996 - val_loss: 0.6694 - val_acc: 0.9922\n",
      "Epoch 263/300\n",
      "2295/2295 [==============================] - 3s 1ms/step - loss: 0.6680 - acc: 0.9974 - val_loss: 0.6687 - val_acc: 0.9922\n",
      "Epoch 264/300\n",
      "2295/2295 [==============================] - 3s 1ms/step - loss: 0.6682 - acc: 0.9969 - val_loss: 0.6690 - val_acc: 0.9922\n",
      "Epoch 265/300\n",
      "2295/2295 [==============================] - 3s 1ms/step - loss: 0.6675 - acc: 0.9996 - val_loss: 0.6685 - val_acc: 0.9961\n",
      "Epoch 266/300\n",
      "2295/2295 [==============================] - 3s 1ms/step - loss: 0.6677 - acc: 0.9983 - val_loss: 0.6686 - val_acc: 0.9961\n",
      "Epoch 267/300\n",
      "2295/2295 [==============================] - 3s 1ms/step - loss: 0.6676 - acc: 0.9991 - val_loss: 0.6688 - val_acc: 0.9922\n",
      "Epoch 268/300\n",
      "2295/2295 [==============================] - 3s 1ms/step - loss: 0.6680 - acc: 0.9983 - val_loss: 0.6702 - val_acc: 0.9882\n",
      "Epoch 269/300\n",
      " 640/2295 [=======>......................] - ETA: 1s - loss: 0.6682 - acc: 0.9969"
     ]
    }
   ],
   "source": [
    "history = model.fit(X_train, y_train, batch_size=64, epochs=300, validation_split=0.1)"
   ]
  },
  {
   "cell_type": "code",
   "execution_count": null,
   "metadata": {
    "ExecuteTime": {
     "start_time": "2018-12-07T08:35:52.116Z"
    }
   },
   "outputs": [],
   "source": [
    "score = model.evaluate(X_test, y_test)\n",
    "print(\"LOSS:\", score[0])\n",
    "print(\"Accuracy:\", score[1])"
   ]
  },
  {
   "cell_type": "code",
   "execution_count": null,
   "metadata": {
    "ExecuteTime": {
     "start_time": "2018-12-07T08:35:52.117Z"
    }
   },
   "outputs": [],
   "source": [
    "loss = history.history['loss']\n",
    "val_loss = history.history['val_loss']\n",
    "epochs = range(1, len(loss) + 1)\n",
    "plt.plot(epochs, loss, 'bo', label='Training loss')\n",
    "plt.plot(epochs, val_loss, 'b', label='Validation loss')\n",
    "plt.title('Training and validation loss')\n",
    "plt.xlabel('Epochs')\n",
    "plt.ylabel('Loss')\n",
    "plt.legend()\n",
    "plt.show()"
   ]
  },
  {
   "cell_type": "code",
   "execution_count": null,
   "metadata": {
    "ExecuteTime": {
     "start_time": "2018-12-07T08:35:52.119Z"
    }
   },
   "outputs": [],
   "source": [
    "acc = history.history['acc']\n",
    "val_acc = history.history['val_acc']\n",
    "plt.plot(epochs, acc, 'bo', label='Training acc')\n",
    "plt.plot(epochs, val_acc, 'b', label='Validation acc')\n",
    "plt.title('Training and validation accuracy')\n",
    "plt.xlabel('Epochs')\n",
    "plt.ylabel('Accuracy')\n",
    "plt.legend()\n",
    "plt.show()"
   ]
  },
  {
   "cell_type": "code",
   "execution_count": null,
   "metadata": {},
   "outputs": [],
   "source": []
  }
 ],
 "metadata": {
  "hide_input": false,
  "kernelspec": {
   "display_name": "Python 3",
   "language": "python",
   "name": "python3"
  },
  "language_info": {
   "codemirror_mode": {
    "name": "ipython",
    "version": 3
   },
   "file_extension": ".py",
   "mimetype": "text/x-python",
   "name": "python",
   "nbconvert_exporter": "python",
   "pygments_lexer": "ipython3",
   "version": "3.6.6"
  },
  "toc": {
   "base_numbering": 1,
   "nav_menu": {},
   "number_sections": true,
   "sideBar": true,
   "skip_h1_title": false,
   "title_cell": "Table of Contents",
   "title_sidebar": "Contents",
   "toc_cell": false,
   "toc_position": {},
   "toc_section_display": true,
   "toc_window_display": false
  }
 },
 "nbformat": 4,
 "nbformat_minor": 2
}
