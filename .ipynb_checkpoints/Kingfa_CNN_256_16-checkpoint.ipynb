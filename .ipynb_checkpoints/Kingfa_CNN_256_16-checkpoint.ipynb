{
 "cells": [
  {
   "cell_type": "code",
   "execution_count": 1,
   "metadata": {},
   "outputs": [],
   "source": [
    "import os\n",
    "import numpy as np\n",
    "import pandas as pd\n",
    "import pywt\n",
    "import matplotlib.pyplot as plt"
   ]
  },
  {
   "cell_type": "code",
   "execution_count": 2,
   "metadata": {},
   "outputs": [],
   "source": [
    "kingfa_datasets_path = \"./kingfadatasets/\""
   ]
  },
  {
   "cell_type": "code",
   "execution_count": 3,
   "metadata": {},
   "outputs": [],
   "source": [
    "def wpt1D(data, wavelet='db1', mode='symmetric', maxlevel=4):\n",
    "    wp = pywt.WaveletPacket(data=data, wavelet=wavelet, mode=mode, maxlevel=maxlevel)\n",
    "    paths = [node.path for node in wp.get_level(4)]  # 列出所有树节点路径\n",
    "    df_wpt = pd.DataFrame()  # 合并所有四级子节点\n",
    "    for a in paths:\n",
    "        df_wpt[a] = wp[a].data\n",
    "    return df_wpt.values"
   ]
  },
  {
   "cell_type": "code",
   "execution_count": 4,
   "metadata": {},
   "outputs": [],
   "source": [
    "X = np.array(pd.read_csv(kingfa_datasets_path+\"data.csv\", index_col=0))"
   ]
  },
  {
   "cell_type": "code",
   "execution_count": 5,
   "metadata": {},
   "outputs": [],
   "source": [
    "X = np.apply_along_axis(wpt1D, 1, X)"
   ]
  },
  {
   "cell_type": "code",
   "execution_count": 6,
   "metadata": {},
   "outputs": [],
   "source": [
    "y = np.array(pd.read_csv(kingfa_datasets_path+\"target.csv\", index_col=0))"
   ]
  },
  {
   "cell_type": "code",
   "execution_count": 7,
   "metadata": {},
   "outputs": [
    {
     "name": "stdout",
     "output_type": "stream",
     "text": [
      "(3000, 256, 16)\n",
      "(3000, 1)\n"
     ]
    }
   ],
   "source": [
    "print(X.shape)\n",
    "print(y.shape)"
   ]
  },
  {
   "cell_type": "code",
   "execution_count": 8,
   "metadata": {},
   "outputs": [
    {
     "name": "stderr",
     "output_type": "stream",
     "text": [
      "Using TensorFlow backend.\n"
     ]
    }
   ],
   "source": [
    "import keras\n",
    "from sklearn.model_selection import train_test_split\n",
    "from keras.models import Sequential\n",
    "from keras.layers import Dense, Activation, Conv2D, MaxPooling2D, Flatten\n",
    "from keras.optimizers import Adam"
   ]
  },
  {
   "cell_type": "code",
   "execution_count": 9,
   "metadata": {},
   "outputs": [],
   "source": [
    "X_train, X_test, y_train, y_test = train_test_split(X, y, test_size=0.15, random_state=1024)"
   ]
  },
  {
   "cell_type": "code",
   "execution_count": 10,
   "metadata": {},
   "outputs": [],
   "source": [
    "X_train = X_train.reshape(-1, 256, 16, 1)\n",
    "X_test = X_test.reshape(-1, 256, 16, 1)\n",
    "y_train = keras.utils.to_categorical(y_train, 3)\n",
    "y_test = keras.utils.to_categorical(y_test, 3)"
   ]
  },
  {
   "cell_type": "code",
   "execution_count": 11,
   "metadata": {},
   "outputs": [],
   "source": [
    "model = Sequential()"
   ]
  },
  {
   "cell_type": "code",
   "execution_count": 12,
   "metadata": {},
   "outputs": [],
   "source": [
    "model.add(Conv2D(filters=16, kernel_size=(7, 5), input_shape=(256, 16, 1)))\n",
    "model.add(Activation('sigmoid'))\n",
    "model.add(MaxPooling2D(pool_size=(2,2), padding='same'))"
   ]
  },
  {
   "cell_type": "code",
   "execution_count": 13,
   "metadata": {},
   "outputs": [],
   "source": [
    "model.add(Conv2D(filters=32, kernel_size=(5, 3), padding='same'))\n",
    "model.add(Activation('sigmoid'))\n",
    "model.add(MaxPooling2D(pool_size=(2, 2), padding='same'))"
   ]
  },
  {
   "cell_type": "code",
   "execution_count": 14,
   "metadata": {},
   "outputs": [],
   "source": [
    "model.add(Flatten())\n",
    "model.add(Dense(128))\n",
    "model.add(Activation('sigmoid'))\n",
    "model.add(Dense(3))\n",
    "model.add(Activation('softmax'))"
   ]
  },
  {
   "cell_type": "code",
   "execution_count": 15,
   "metadata": {},
   "outputs": [],
   "source": [
    "adam = Adam(lr=1e-4)"
   ]
  },
  {
   "cell_type": "code",
   "execution_count": 16,
   "metadata": {},
   "outputs": [
    {
     "name": "stdout",
     "output_type": "stream",
     "text": [
      "_________________________________________________________________\n",
      "Layer (type)                 Output Shape              Param #   \n",
      "=================================================================\n",
      "conv2d_1 (Conv2D)            (None, 250, 12, 16)       576       \n",
      "_________________________________________________________________\n",
      "activation_1 (Activation)    (None, 250, 12, 16)       0         \n",
      "_________________________________________________________________\n",
      "max_pooling2d_1 (MaxPooling2 (None, 125, 6, 16)        0         \n",
      "_________________________________________________________________\n",
      "conv2d_2 (Conv2D)            (None, 125, 6, 32)        7712      \n",
      "_________________________________________________________________\n",
      "activation_2 (Activation)    (None, 125, 6, 32)        0         \n",
      "_________________________________________________________________\n",
      "max_pooling2d_2 (MaxPooling2 (None, 63, 3, 32)         0         \n",
      "_________________________________________________________________\n",
      "flatten_1 (Flatten)          (None, 6048)              0         \n",
      "_________________________________________________________________\n",
      "dense_1 (Dense)              (None, 128)               774272    \n",
      "_________________________________________________________________\n",
      "activation_3 (Activation)    (None, 128)               0         \n",
      "_________________________________________________________________\n",
      "dense_2 (Dense)              (None, 3)                 387       \n",
      "_________________________________________________________________\n",
      "activation_4 (Activation)    (None, 3)                 0         \n",
      "=================================================================\n",
      "Total params: 782,947\n",
      "Trainable params: 782,947\n",
      "Non-trainable params: 0\n",
      "_________________________________________________________________\n"
     ]
    }
   ],
   "source": [
    "model.summary()"
   ]
  },
  {
   "cell_type": "code",
   "execution_count": 17,
   "metadata": {},
   "outputs": [],
   "source": [
    "model.compile(optimizer=adam, loss='squared_hinge', metrics=['accuracy'])"
   ]
  },
  {
   "cell_type": "code",
   "execution_count": 18,
   "metadata": {},
   "outputs": [
    {
     "name": "stdout",
     "output_type": "stream",
     "text": [
      "Train on 2295 samples, validate on 255 samples\n",
      "Epoch 1/50\n",
      "2295/2295 [==============================] - 8s 3ms/step - loss: 0.8203 - acc: 0.3394 - val_loss: 0.8193 - val_acc: 0.3255\n",
      "Epoch 2/50\n",
      "2295/2295 [==============================] - 7s 3ms/step - loss: 0.8160 - acc: 0.3560 - val_loss: 0.8172 - val_acc: 0.6471\n",
      "Epoch 3/50\n",
      "2295/2295 [==============================] - 7s 3ms/step - loss: 0.8156 - acc: 0.3351 - val_loss: 0.8148 - val_acc: 0.3255\n",
      "Epoch 4/50\n",
      "2295/2295 [==============================] - 7s 3ms/step - loss: 0.8142 - acc: 0.3577 - val_loss: 0.8169 - val_acc: 0.3216\n",
      "Epoch 5/50\n",
      "2295/2295 [==============================] - 7s 3ms/step - loss: 0.8144 - acc: 0.3412 - val_loss: 0.8126 - val_acc: 0.3529\n",
      "Epoch 6/50\n",
      "2295/2295 [==============================] - 7s 3ms/step - loss: 0.8132 - acc: 0.3595 - val_loss: 0.8109 - val_acc: 0.6745\n",
      "Epoch 7/50\n",
      "2295/2295 [==============================] - 7s 3ms/step - loss: 0.8110 - acc: 0.3900 - val_loss: 0.8196 - val_acc: 0.3216\n",
      "Epoch 8/50\n",
      "2295/2295 [==============================] - 7s 3ms/step - loss: 0.8060 - acc: 0.4209 - val_loss: 0.8040 - val_acc: 0.3216\n",
      "Epoch 9/50\n",
      "2295/2295 [==============================] - 7s 3ms/step - loss: 0.7961 - acc: 0.4998 - val_loss: 0.7908 - val_acc: 0.4667\n",
      "Epoch 10/50\n",
      "2295/2295 [==============================] - 7s 3ms/step - loss: 0.7755 - acc: 0.6645 - val_loss: 0.7772 - val_acc: 0.6078\n",
      "Epoch 11/50\n",
      "2295/2295 [==============================] - 7s 3ms/step - loss: 0.7566 - acc: 0.6654 - val_loss: 0.7549 - val_acc: 0.6471\n",
      "Epoch 12/50\n",
      "2295/2295 [==============================] - 7s 3ms/step - loss: 0.7439 - acc: 0.6754 - val_loss: 0.7372 - val_acc: 0.6745\n",
      "Epoch 13/50\n",
      "2295/2295 [==============================] - 7s 3ms/step - loss: 0.7347 - acc: 0.6832 - val_loss: 0.7317 - val_acc: 0.7294\n",
      "Epoch 14/50\n",
      "2295/2295 [==============================] - 7s 3ms/step - loss: 0.7320 - acc: 0.6688 - val_loss: 0.7296 - val_acc: 0.6745\n",
      "Epoch 15/50\n",
      "2295/2295 [==============================] - 7s 3ms/step - loss: 0.7276 - acc: 0.6985 - val_loss: 0.7313 - val_acc: 0.6471\n",
      "Epoch 16/50\n",
      "2295/2295 [==============================] - 7s 3ms/step - loss: 0.7258 - acc: 0.7107 - val_loss: 0.7292 - val_acc: 0.6471\n",
      "Epoch 17/50\n",
      "2295/2295 [==============================] - 7s 3ms/step - loss: 0.7250 - acc: 0.6989 - val_loss: 0.7241 - val_acc: 0.6745\n",
      "Epoch 18/50\n",
      "2295/2295 [==============================] - 7s 3ms/step - loss: 0.7234 - acc: 0.7028 - val_loss: 0.7270 - val_acc: 0.6471\n",
      "Epoch 19/50\n",
      "2295/2295 [==============================] - 7s 3ms/step - loss: 0.7224 - acc: 0.7050 - val_loss: 0.7289 - val_acc: 0.6745\n",
      "Epoch 20/50\n",
      "2295/2295 [==============================] - 7s 3ms/step - loss: 0.7242 - acc: 0.6832 - val_loss: 0.7218 - val_acc: 0.6745\n",
      "Epoch 21/50\n",
      "2295/2295 [==============================] - 7s 3ms/step - loss: 0.7202 - acc: 0.7752 - val_loss: 0.7206 - val_acc: 0.6745\n",
      "Epoch 22/50\n",
      "2295/2295 [==============================] - 7s 3ms/step - loss: 0.7192 - acc: 0.7603 - val_loss: 0.7187 - val_acc: 0.8588\n",
      "Epoch 23/50\n",
      "2295/2295 [==============================] - 7s 3ms/step - loss: 0.7189 - acc: 0.7403 - val_loss: 0.7177 - val_acc: 0.8196\n",
      "Epoch 24/50\n",
      "2295/2295 [==============================] - 7s 3ms/step - loss: 0.7182 - acc: 0.7538 - val_loss: 0.7171 - val_acc: 0.7098\n",
      "Epoch 25/50\n",
      "2295/2295 [==============================] - 7s 3ms/step - loss: 0.7167 - acc: 0.7773 - val_loss: 0.7152 - val_acc: 0.8235\n",
      "Epoch 26/50\n",
      "2295/2295 [==============================] - 7s 3ms/step - loss: 0.7136 - acc: 0.8266 - val_loss: 0.7151 - val_acc: 0.7882\n",
      "Epoch 27/50\n",
      "2295/2295 [==============================] - 8s 3ms/step - loss: 0.7114 - acc: 0.8401 - val_loss: 0.7102 - val_acc: 0.8431\n",
      "Epoch 28/50\n",
      "2295/2295 [==============================] - 7s 3ms/step - loss: 0.7092 - acc: 0.8405 - val_loss: 0.7085 - val_acc: 0.8902\n",
      "Epoch 29/50\n",
      "2295/2295 [==============================] - 7s 3ms/step - loss: 0.7063 - acc: 0.8549 - val_loss: 0.7119 - val_acc: 0.7922\n",
      "Epoch 30/50\n",
      "2295/2295 [==============================] - 8s 3ms/step - loss: 0.7031 - acc: 0.8789 - val_loss: 0.7034 - val_acc: 0.8863\n",
      "Epoch 31/50\n",
      "2295/2295 [==============================] - 7s 3ms/step - loss: 0.7005 - acc: 0.8850 - val_loss: 0.7004 - val_acc: 0.9020\n",
      "Epoch 32/50\n",
      "2295/2295 [==============================] - 7s 3ms/step - loss: 0.6994 - acc: 0.8893 - val_loss: 0.6977 - val_acc: 0.9059\n",
      "Epoch 33/50\n",
      "2295/2295 [==============================] - 7s 3ms/step - loss: 0.6957 - acc: 0.9102 - val_loss: 0.6961 - val_acc: 0.9255\n",
      "Epoch 34/50\n",
      "2295/2295 [==============================] - 7s 3ms/step - loss: 0.6957 - acc: 0.8967 - val_loss: 0.6944 - val_acc: 0.9137\n",
      "Epoch 35/50\n",
      "2295/2295 [==============================] - 7s 3ms/step - loss: 0.6926 - acc: 0.9277 - val_loss: 0.6930 - val_acc: 0.9294\n",
      "Epoch 36/50\n",
      "2295/2295 [==============================] - 7s 3ms/step - loss: 0.6909 - acc: 0.9346 - val_loss: 0.6913 - val_acc: 0.9373\n",
      "Epoch 37/50\n",
      "2295/2295 [==============================] - 7s 3ms/step - loss: 0.6895 - acc: 0.9368 - val_loss: 0.6944 - val_acc: 0.8980\n",
      "Epoch 38/50\n",
      "2295/2295 [==============================] - 7s 3ms/step - loss: 0.6886 - acc: 0.9399 - val_loss: 0.6907 - val_acc: 0.9294\n",
      "Epoch 39/50\n",
      "2295/2295 [==============================] - 7s 3ms/step - loss: 0.6874 - acc: 0.9399 - val_loss: 0.6882 - val_acc: 0.9373\n",
      "Epoch 40/50\n",
      "2295/2295 [==============================] - 7s 3ms/step - loss: 0.6862 - acc: 0.9481 - val_loss: 0.6871 - val_acc: 0.9373\n",
      "Epoch 41/50\n",
      "2295/2295 [==============================] - 7s 3ms/step - loss: 0.6857 - acc: 0.9434 - val_loss: 0.6872 - val_acc: 0.9412\n",
      "Epoch 42/50\n",
      "2295/2295 [==============================] - 7s 3ms/step - loss: 0.6847 - acc: 0.9477 - val_loss: 0.6862 - val_acc: 0.9373\n",
      "Epoch 43/50\n",
      "2295/2295 [==============================] - 7s 3ms/step - loss: 0.6837 - acc: 0.9486 - val_loss: 0.6855 - val_acc: 0.9373\n",
      "Epoch 44/50\n",
      "2295/2295 [==============================] - 7s 3ms/step - loss: 0.6843 - acc: 0.9460 - val_loss: 0.6844 - val_acc: 0.9412\n",
      "Epoch 45/50\n",
      "2295/2295 [==============================] - 7s 3ms/step - loss: 0.6831 - acc: 0.9486 - val_loss: 0.6853 - val_acc: 0.9373\n",
      "Epoch 46/50\n",
      "2295/2295 [==============================] - 7s 3ms/step - loss: 0.6823 - acc: 0.9529 - val_loss: 0.6858 - val_acc: 0.9333\n",
      "Epoch 47/50\n",
      "2295/2295 [==============================] - 7s 3ms/step - loss: 0.6820 - acc: 0.9521 - val_loss: 0.6837 - val_acc: 0.9451\n",
      "Epoch 48/50\n",
      "2295/2295 [==============================] - 8s 3ms/step - loss: 0.6814 - acc: 0.9521 - val_loss: 0.6851 - val_acc: 0.9373\n",
      "Epoch 49/50\n",
      "2295/2295 [==============================] - 7s 3ms/step - loss: 0.6812 - acc: 0.9512 - val_loss: 0.6825 - val_acc: 0.9451\n",
      "Epoch 50/50\n",
      "2295/2295 [==============================] - 7s 3ms/step - loss: 0.6805 - acc: 0.9551 - val_loss: 0.6835 - val_acc: 0.9373\n"
     ]
    }
   ],
   "source": [
    "history = model.fit(X_train, y_train, batch_size=64, epochs=200, validation_split=0.1) "
   ]
  },
  {
   "cell_type": "code",
   "execution_count": 19,
   "metadata": {},
   "outputs": [
    {
     "name": "stdout",
     "output_type": "stream",
     "text": [
      "450/450 [==============================] - 0s 1ms/step\n",
      "LOSS: 0.6825031934844124\n",
      "Accuracy: 0.9422222222222222\n"
     ]
    }
   ],
   "source": [
    "score = model.evaluate(X_test, y_test)\n",
    "print(\"LOSS:\", score[0])\n",
    "print(\"Accuracy:\", score[1])"
   ]
  },
  {
   "cell_type": "code",
   "execution_count": 20,
   "metadata": {},
   "outputs": [
    {
     "data": {
      "image/png": "[encoded data removed]",
      "text/plain": [
       "<Figure size 432x288 with 1 Axes>"
      ]
     },
     "metadata": {
      "needs_background": "light"
     },
     "output_type": "display_data"
    }
   ],
   "source": [
    "loss = history.history['loss']\n",
    "val_loss = history.history['val_loss']\n",
    "epochs = range(1, len(loss) + 1)\n",
    "plt.plot(epochs, loss, 'bo', label='Training loss')\n",
    "plt.plot(epochs, val_loss, 'b', label='Validation loss')\n",
    "plt.title('Training and validation loss')\n",
    "plt.xlabel('Epochs')\n",
    "plt.ylabel('Loss')\n",
    "plt.legend()\n",
    "plt.show()"
   ]
  },
  {
   "cell_type": "code",
   "execution_count": 21,
   "metadata": {},
   "outputs": [
    {
     "data": {
      "image/png": "[encoded data removed]",
      "text/plain": [
       "<Figure size 432x288 with 1 Axes>"
      ]
     },
     "metadata": {
      "needs_background": "light"
     },
     "output_type": "display_data"
    }
   ],
   "source": [
    "acc = history.history['acc']\n",
    "val_acc = history.history['val_acc']\n",
    "plt.plot(epochs, acc, 'bo', label='Training acc')\n",
    "plt.plot(epochs, val_acc, 'b', label='Validation acc')\n",
    "plt.title('Training and validation accuracy')\n",
    "plt.xlabel('Epochs')\n",
    "plt.ylabel('Accuracy')\n",
    "plt.legend()\n",
    "plt.show()"
   ]
  },
  {
   "cell_type": "code",
   "execution_count": null,
   "metadata": {},
   "outputs": [],
   "source": []
  }
 ],
 "metadata": {
  "kernelspec": {
   "display_name": "Python 3",
   "language": "python",
   "name": "python3"
  },
  "language_info": {
   "codemirror_mode": {
    "name": "ipython",
    "version": 3
   },
   "file_extension": ".py",
   "mimetype": "text/x-python",
   "name": "python",
   "nbconvert_exporter": "python",
   "pygments_lexer": "ipython3",
   "version": "3.6.6"
  }
 },
 "nbformat": 4,
 "nbformat_minor": 2
}
