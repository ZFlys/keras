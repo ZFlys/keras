{
 "cells": [
  {
   "cell_type": "code",
   "execution_count": 1,
   "metadata": {},
   "outputs": [],
   "source": [
    "import os\n",
    "import numpy as np\n",
    "import pandas as pd\n",
    "import pywt\n",
    "import matplotlib.pyplot as plt"
   ]
  },
  {
   "cell_type": "code",
   "execution_count": 2,
   "metadata": {},
   "outputs": [],
   "source": [
    "kingfa_datasets_path = \"./kingfadatasets/\""
   ]
  },
  {
   "cell_type": "code",
   "execution_count": 3,
   "metadata": {},
   "outputs": [],
   "source": [
    "def wpt1D(data, wavelet='db1', mode='symmetric', maxlevel=4):\n",
    "    wp = pywt.WaveletPacket(data=data, wavelet=wavelet, mode=mode, maxlevel=maxlevel)\n",
    "    paths = [node.path for node in wp.get_level(4)]  # 列出所有树节点路径\n",
    "    df_wpt = pd.DataFrame()  # 合并所有四级子节点\n",
    "    for a in paths:\n",
    "        df_wpt[a] = wp[a].data\n",
    "    return df_wpt.values"
   ]
  },
  {
   "cell_type": "code",
   "execution_count": 4,
   "metadata": {},
   "outputs": [],
   "source": [
    "X = np.array(pd.read_csv(kingfa_datasets_path+\"data.csv\", index_col=0))"
   ]
  },
  {
   "cell_type": "code",
   "execution_count": 5,
   "metadata": {},
   "outputs": [],
   "source": [
    "X = np.apply_along_axis(wpt1D, 1, X)"
   ]
  },
  {
   "cell_type": "code",
   "execution_count": 6,
   "metadata": {},
   "outputs": [],
   "source": [
    "y = np.array(pd.read_csv(kingfa_datasets_path+\"target.csv\", index_col=0))"
   ]
  },
  {
   "cell_type": "code",
   "execution_count": 7,
   "metadata": {},
   "outputs": [
    {
     "name": "stdout",
     "output_type": "stream",
     "text": [
      "(3000, 256, 16)\n",
      "(3000, 1)\n"
     ]
    }
   ],
   "source": [
    "print(X.shape)\n",
    "print(y.shape)"
   ]
  },
  {
   "cell_type": "code",
   "execution_count": 8,
   "metadata": {},
   "outputs": [
    {
     "name": "stderr",
     "output_type": "stream",
     "text": [
      "Using TensorFlow backend.\n"
     ]
    }
   ],
   "source": [
    "import keras\n",
    "from sklearn.model_selection import train_test_split\n",
    "from keras.models import Sequential\n",
    "from keras.layers import Dense, Activation, Conv2D, MaxPooling2D, Flatten\n",
    "from keras.optimizers import Adam"
   ]
  },
  {
   "cell_type": "code",
   "execution_count": 9,
   "metadata": {},
   "outputs": [],
   "source": [
    "X_train, X_test, y_train, y_test = train_test_split(X, y, test_size=0.15, random_state=1024)"
   ]
  },
  {
   "cell_type": "code",
   "execution_count": 10,
   "metadata": {},
   "outputs": [],
   "source": [
    "X_train = X_train.reshape(-1, 256, 16, 1)\n",
    "X_test = X_test.reshape(-1, 256, 16, 1)\n",
    "y_train = keras.utils.to_categorical(y_train, 3)\n",
    "y_test = keras.utils.to_categorical(y_test, 3)"
   ]
  },
  {
   "cell_type": "code",
   "execution_count": 11,
   "metadata": {},
   "outputs": [],
   "source": [
    "model = Sequential()"
   ]
  },
  {
   "cell_type": "code",
   "execution_count": 12,
   "metadata": {},
   "outputs": [],
   "source": [
    "model.add(Conv2D(filters=16, kernel_size=(7, 5), input_shape=(256, 16, 1)))\n",
    "model.add(Activation('sigmoid'))\n",
    "model.add(MaxPooling2D(pool_size=(2,2), padding='same'))"
   ]
  },
  {
   "cell_type": "code",
   "execution_count": 13,
   "metadata": {},
   "outputs": [],
   "source": [
    "model.add(Conv2D(filters=32, kernel_size=(5, 3), padding='same'))\n",
    "model.add(Activation('sigmoid'))\n",
    "model.add(MaxPooling2D(pool_size=(2, 2), padding='same'))"
   ]
  },
  {
   "cell_type": "code",
   "execution_count": 14,
   "metadata": {},
   "outputs": [],
   "source": [
    "model.add(Flatten())\n",
    "model.add(Dense(128))\n",
    "model.add(Activation('sigmoid'))\n",
    "model.add(Dense(3))\n",
    "model.add(Activation('softmax'))"
   ]
  },
  {
   "cell_type": "code",
   "execution_count": 15,
   "metadata": {},
   "outputs": [],
   "source": [
    "adam = Adam(lr=1e-4)"
   ]
  },
  {
   "cell_type": "code",
   "execution_count": 16,
   "metadata": {},
   "outputs": [
    {
     "name": "stdout",
     "output_type": "stream",
     "text": [
      "_________________________________________________________________\n",
      "Layer (type)                 Output Shape              Param #   \n",
      "=================================================================\n",
      "conv2d_1 (Conv2D)            (None, 250, 12, 16)       576       \n",
      "_________________________________________________________________\n",
      "activation_1 (Activation)    (None, 250, 12, 16)       0         \n",
      "_________________________________________________________________\n",
      "max_pooling2d_1 (MaxPooling2 (None, 125, 6, 16)        0         \n",
      "_________________________________________________________________\n",
      "conv2d_2 (Conv2D)            (None, 125, 6, 32)        7712      \n",
      "_________________________________________________________________\n",
      "activation_2 (Activation)    (None, 125, 6, 32)        0         \n",
      "_________________________________________________________________\n",
      "max_pooling2d_2 (MaxPooling2 (None, 63, 3, 32)         0         \n",
      "_________________________________________________________________\n",
      "flatten_1 (Flatten)          (None, 6048)              0         \n",
      "_________________________________________________________________\n",
      "dense_1 (Dense)              (None, 128)               774272    \n",
      "_________________________________________________________________\n",
      "activation_3 (Activation)    (None, 128)               0         \n",
      "_________________________________________________________________\n",
      "dense_2 (Dense)              (None, 3)                 387       \n",
      "_________________________________________________________________\n",
      "activation_4 (Activation)    (None, 3)                 0         \n",
      "=================================================================\n",
      "Total params: 782,947\n",
      "Trainable params: 782,947\n",
      "Non-trainable params: 0\n",
      "_________________________________________________________________\n"
     ]
    }
   ],
   "source": [
    "model.summary()"
   ]
  },
  {
   "cell_type": "code",
   "execution_count": 17,
   "metadata": {},
   "outputs": [],
   "source": [
    "model.compile(optimizer=adam, loss='squared_hinge', metrics=['accuracy'])"
   ]
  },
  {
   "cell_type": "code",
   "execution_count": 18,
   "metadata": {},
   "outputs": [
    {
     "name": "stdout",
     "output_type": "stream",
     "text": [
      "Train on 2295 samples, validate on 255 samples\n",
      "Epoch 1/200\n",
      "2295/2295 [==============================] - 7s 3ms/step - loss: 0.8200 - acc: 0.3364 - val_loss: 0.8143 - val_acc: 0.3529\n",
      "Epoch 2/200\n",
      "2295/2295 [==============================] - 6s 3ms/step - loss: 0.8162 - acc: 0.3251 - val_loss: 0.8157 - val_acc: 0.3216\n",
      "Epoch 3/200\n",
      "2295/2295 [==============================] - 6s 3ms/step - loss: 0.8148 - acc: 0.3651 - val_loss: 0.8145 - val_acc: 0.3216\n",
      "Epoch 4/200\n",
      "2295/2295 [==============================] - 7s 3ms/step - loss: 0.8144 - acc: 0.3647 - val_loss: 0.8127 - val_acc: 0.3529\n",
      "Epoch 5/200\n",
      "2295/2295 [==============================] - 6s 3ms/step - loss: 0.8133 - acc: 0.3725 - val_loss: 0.8177 - val_acc: 0.3255\n",
      "Epoch 6/200\n",
      "2295/2295 [==============================] - 6s 3ms/step - loss: 0.8140 - acc: 0.3481 - val_loss: 0.8112 - val_acc: 0.6745\n",
      "Epoch 7/200\n",
      "2295/2295 [==============================] - 6s 3ms/step - loss: 0.8124 - acc: 0.3943 - val_loss: 0.8151 - val_acc: 0.3216\n",
      "Epoch 8/200\n",
      "2295/2295 [==============================] - 6s 3ms/step - loss: 0.8104 - acc: 0.4061 - val_loss: 0.8076 - val_acc: 0.6745\n",
      "Epoch 9/200\n",
      "2295/2295 [==============================] - 6s 3ms/step - loss: 0.8069 - acc: 0.4706 - val_loss: 0.8069 - val_acc: 0.6392\n",
      "Epoch 10/200\n",
      "2295/2295 [==============================] - 6s 3ms/step - loss: 0.8028 - acc: 0.5455 - val_loss: 0.7996 - val_acc: 0.3216\n",
      "Epoch 11/200\n",
      "2295/2295 [==============================] - 6s 3ms/step - loss: 0.7945 - acc: 0.5281 - val_loss: 0.7915 - val_acc: 0.6745\n",
      "Epoch 12/200\n",
      "2295/2295 [==============================] - 6s 3ms/step - loss: 0.7854 - acc: 0.6375 - val_loss: 0.7816 - val_acc: 0.6471\n",
      "Epoch 13/200\n",
      "2295/2295 [==============================] - 6s 3ms/step - loss: 0.7759 - acc: 0.6279 - val_loss: 0.7708 - val_acc: 0.6706\n",
      "Epoch 14/200\n",
      "2295/2295 [==============================] - 6s 3ms/step - loss: 0.7635 - acc: 0.6706 - val_loss: 0.7584 - val_acc: 0.6471\n",
      "Epoch 15/200\n",
      "2295/2295 [==============================] - 6s 3ms/step - loss: 0.7528 - acc: 0.6802 - val_loss: 0.7532 - val_acc: 0.6745\n",
      "Epoch 16/200\n",
      "2295/2295 [==============================] - 6s 3ms/step - loss: 0.7468 - acc: 0.6702 - val_loss: 0.7422 - val_acc: 0.6471\n",
      "Epoch 17/200\n",
      "2295/2295 [==============================] - 6s 3ms/step - loss: 0.7390 - acc: 0.6867 - val_loss: 0.7371 - val_acc: 0.6471\n",
      "Epoch 18/200\n",
      "2295/2295 [==============================] - 6s 3ms/step - loss: 0.7346 - acc: 0.6902 - val_loss: 0.7330 - val_acc: 0.6745\n",
      "Epoch 19/200\n",
      "2295/2295 [==============================] - 6s 3ms/step - loss: 0.7321 - acc: 0.6763 - val_loss: 0.7316 - val_acc: 0.6471\n",
      "Epoch 20/200\n",
      "2295/2295 [==============================] - 6s 3ms/step - loss: 0.7295 - acc: 0.6871 - val_loss: 0.7289 - val_acc: 0.6745\n",
      "Epoch 21/200\n",
      "2295/2295 [==============================] - 6s 3ms/step - loss: 0.7277 - acc: 0.6941 - val_loss: 0.7273 - val_acc: 0.8235oss: 0.7276 - acc: \n",
      "Epoch 22/200\n",
      "2295/2295 [==============================] - 6s 3ms/step - loss: 0.7266 - acc: 0.7011 - val_loss: 0.7260 - val_acc: 0.6784\n",
      "Epoch 23/200\n",
      "2295/2295 [==============================] - 6s 3ms/step - loss: 0.7289 - acc: 0.6662 - val_loss: 0.7294 - val_acc: 0.6745\n",
      "Epoch 24/200\n",
      "2295/2295 [==============================] - 6s 3ms/step - loss: 0.7270 - acc: 0.6832 - val_loss: 0.7250 - val_acc: 0.7843\n",
      "Epoch 25/200\n",
      "2295/2295 [==============================] - 6s 3ms/step - loss: 0.7238 - acc: 0.7107 - val_loss: 0.7254 - val_acc: 0.6471\n",
      "Epoch 26/200\n",
      "2295/2295 [==============================] - 6s 3ms/step - loss: 0.7232 - acc: 0.7281 - val_loss: 0.7229 - val_acc: 0.8157\n",
      "Epoch 27/200\n",
      "2295/2295 [==============================] - 6s 3ms/step - loss: 0.7229 - acc: 0.7146 - val_loss: 0.7228 - val_acc: 0.7647\n",
      "Epoch 28/200\n",
      "2295/2295 [==============================] - 6s 3ms/step - loss: 0.7221 - acc: 0.7115 - val_loss: 0.7221 - val_acc: 0.6745\n",
      "Epoch 29/200\n",
      "2295/2295 [==============================] - 6s 3ms/step - loss: 0.7205 - acc: 0.7861 - val_loss: 0.7204 - val_acc: 0.8627\n",
      "Epoch 30/200\n",
      "2295/2295 [==============================] - 6s 3ms/step - loss: 0.7196 - acc: 0.7952 - val_loss: 0.7200 - val_acc: 0.7961\n",
      "Epoch 31/200\n",
      "2295/2295 [==============================] - 6s 3ms/step - loss: 0.7190 - acc: 0.7298 - val_loss: 0.7191 - val_acc: 0.7176\n",
      "Epoch 32/200\n",
      "2295/2295 [==============================] - 6s 3ms/step - loss: 0.7179 - acc: 0.7695 - val_loss: 0.7176 - val_acc: 0.8353\n",
      "Epoch 33/200\n",
      "2295/2295 [==============================] - 6s 3ms/step - loss: 0.7177 - acc: 0.7638 - val_loss: 0.7201 - val_acc: 0.6745\n",
      "Epoch 34/200\n",
      "2295/2295 [==============================] - 6s 3ms/step - loss: 0.7161 - acc: 0.8048 - val_loss: 0.7178 - val_acc: 0.7765\n",
      "Epoch 35/200\n",
      "2295/2295 [==============================] - 6s 3ms/step - loss: 0.7144 - acc: 0.8327 - val_loss: 0.7145 - val_acc: 0.8353\n",
      "Epoch 36/200\n",
      "2295/2295 [==============================] - 6s 3ms/step - loss: 0.7135 - acc: 0.7983 - val_loss: 0.7168 - val_acc: 0.6863\n",
      "Epoch 37/200\n",
      "2295/2295 [==============================] - 6s 3ms/step - loss: 0.7130 - acc: 0.8292 - val_loss: 0.7122 - val_acc: 0.8667\n",
      "Epoch 38/200\n",
      "2295/2295 [==============================] - 6s 3ms/step - loss: 0.7106 - acc: 0.8514 - val_loss: 0.7144 - val_acc: 0.8039\n",
      "Epoch 39/200\n",
      "2295/2295 [==============================] - 6s 3ms/step - loss: 0.7095 - acc: 0.8527 - val_loss: 0.7106 - val_acc: 0.8235\n",
      "Epoch 40/200\n",
      "2295/2295 [==============================] - 6s 3ms/step - loss: 0.7076 - acc: 0.8715 - val_loss: 0.7091 - val_acc: 0.8353\n",
      "Epoch 41/200\n",
      "2295/2295 [==============================] - 6s 3ms/step - loss: 0.7065 - acc: 0.8623 - val_loss: 0.7092 - val_acc: 0.8431\n",
      "Epoch 42/200\n",
      "2295/2295 [==============================] - 6s 3ms/step - loss: 0.7061 - acc: 0.8758 - val_loss: 0.7105 - val_acc: 0.8275\n",
      "Epoch 43/200\n",
      "2295/2295 [==============================] - 6s 3ms/step - loss: 0.7041 - acc: 0.8771 - val_loss: 0.7044 - val_acc: 0.8863\n",
      "Epoch 44/200\n",
      "2295/2295 [==============================] - 6s 3ms/step - loss: 0.7034 - acc: 0.8745 - val_loss: 0.7032 - val_acc: 0.8824\n",
      "Epoch 45/200\n",
      "2295/2295 [==============================] - 6s 3ms/step - loss: 0.7016 - acc: 0.8824 - val_loss: 0.7031 - val_acc: 0.8863\n",
      "Epoch 46/200\n",
      "2295/2295 [==============================] - 6s 3ms/step - loss: 0.7000 - acc: 0.8946 - val_loss: 0.7010 - val_acc: 0.8824\n",
      "Epoch 47/200\n",
      "2295/2295 [==============================] - 6s 3ms/step - loss: 0.6988 - acc: 0.8976 - val_loss: 0.7002 - val_acc: 0.8706\n",
      "Epoch 48/200\n",
      "2295/2295 [==============================] - 6s 3ms/step - loss: 0.6994 - acc: 0.8898 - val_loss: 0.7013 - val_acc: 0.8627\n",
      "Epoch 49/200\n",
      "2295/2295 [==============================] - 6s 3ms/step - loss: 0.6989 - acc: 0.8797 - val_loss: 0.6978 - val_acc: 0.8902\n",
      "Epoch 50/200\n",
      "2295/2295 [==============================] - 6s 3ms/step - loss: 0.6956 - acc: 0.9081 - val_loss: 0.6994 - val_acc: 0.8667\n",
      "Epoch 51/200\n",
      "2295/2295 [==============================] - 6s 3ms/step - loss: 0.6946 - acc: 0.9142 - val_loss: 0.6989 - val_acc: 0.8784\n",
      "Epoch 52/200\n",
      "2295/2295 [==============================] - 7s 3ms/step - loss: 0.6941 - acc: 0.9142 - val_loss: 0.6951 - val_acc: 0.8902\n",
      "Epoch 53/200\n",
      "2295/2295 [==============================] - 6s 3ms/step - loss: 0.6925 - acc: 0.9242 - val_loss: 0.6966 - val_acc: 0.9098\n",
      "Epoch 54/200\n",
      "2295/2295 [==============================] - 6s 3ms/step - loss: 0.6920 - acc: 0.9246 - val_loss: 0.6935 - val_acc: 0.8941\n",
      "Epoch 55/200\n",
      "2295/2295 [==============================] - 6s 3ms/step - loss: 0.6915 - acc: 0.9264 - val_loss: 0.6983 - val_acc: 0.8745\n",
      "Epoch 56/200\n",
      "2295/2295 [==============================] - 6s 3ms/step - loss: 0.6916 - acc: 0.9259 - val_loss: 0.6946 - val_acc: 0.9216\n",
      "Epoch 57/200\n",
      "2295/2295 [==============================] - 6s 3ms/step - loss: 0.6904 - acc: 0.9303 - val_loss: 0.6920 - val_acc: 0.9098\n",
      "Epoch 58/200\n",
      "2295/2295 [==============================] - 6s 3ms/step - loss: 0.6891 - acc: 0.9346 - val_loss: 0.6909 - val_acc: 0.9098\n",
      "Epoch 59/200\n",
      "2295/2295 [==============================] - 6s 3ms/step - loss: 0.6883 - acc: 0.9368 - val_loss: 0.6904 - val_acc: 0.9176\n",
      "Epoch 60/200\n",
      "2295/2295 [==============================] - 6s 3ms/step - loss: 0.6879 - acc: 0.9377 - val_loss: 0.6903 - val_acc: 0.9098\n"
     ]
    },
    {
     "name": "stdout",
     "output_type": "stream",
     "text": [
      "Epoch 61/200\n",
      "2295/2295 [==============================] - 6s 3ms/step - loss: 0.6874 - acc: 0.9381 - val_loss: 0.6895 - val_acc: 0.9176\n",
      "Epoch 62/200\n",
      "2295/2295 [==============================] - 6s 3ms/step - loss: 0.6873 - acc: 0.9377 - val_loss: 0.6892 - val_acc: 0.9059\n",
      "Epoch 63/200\n",
      "2295/2295 [==============================] - 6s 3ms/step - loss: 0.6873 - acc: 0.9346 - val_loss: 0.6886 - val_acc: 0.9137\n",
      "Epoch 64/200\n",
      "2295/2295 [==============================] - 6s 3ms/step - loss: 0.6859 - acc: 0.9399 - val_loss: 0.6889 - val_acc: 0.9176\n",
      "Epoch 65/200\n",
      "2295/2295 [==============================] - 6s 3ms/step - loss: 0.6864 - acc: 0.9403 - val_loss: 0.6908 - val_acc: 0.9255\n",
      "Epoch 66/200\n",
      "2295/2295 [==============================] - 6s 3ms/step - loss: 0.6855 - acc: 0.9390 - val_loss: 0.6875 - val_acc: 0.9255\n",
      "Epoch 67/200\n",
      "2295/2295 [==============================] - 6s 3ms/step - loss: 0.6851 - acc: 0.9399 - val_loss: 0.6874 - val_acc: 0.9216\n",
      "Epoch 68/200\n",
      "2295/2295 [==============================] - 6s 3ms/step - loss: 0.6844 - acc: 0.9390 - val_loss: 0.6871 - val_acc: 0.9216\n",
      "Epoch 69/200\n",
      "2295/2295 [==============================] - 6s 3ms/step - loss: 0.6842 - acc: 0.9412 - val_loss: 0.6864 - val_acc: 0.9216\n",
      "Epoch 70/200\n",
      "2295/2295 [==============================] - 6s 3ms/step - loss: 0.6839 - acc: 0.9442 - val_loss: 0.6861 - val_acc: 0.9216\n",
      "Epoch 71/200\n",
      "2295/2295 [==============================] - 6s 3ms/step - loss: 0.6844 - acc: 0.9438 - val_loss: 0.6866 - val_acc: 0.9216\n",
      "Epoch 72/200\n",
      "2295/2295 [==============================] - 6s 3ms/step - loss: 0.6833 - acc: 0.9447 - val_loss: 0.6858 - val_acc: 0.9255\n",
      "Epoch 73/200\n",
      "2295/2295 [==============================] - 6s 3ms/step - loss: 0.6831 - acc: 0.9420 - val_loss: 0.6857 - val_acc: 0.9255\n",
      "Epoch 74/200\n",
      "2295/2295 [==============================] - 6s 3ms/step - loss: 0.6834 - acc: 0.9447 - val_loss: 0.6861 - val_acc: 0.9294\n",
      "Epoch 75/200\n",
      "2295/2295 [==============================] - 6s 3ms/step - loss: 0.6825 - acc: 0.9451 - val_loss: 0.6847 - val_acc: 0.9255\n",
      "Epoch 76/200\n",
      "2295/2295 [==============================] - 6s 3ms/step - loss: 0.6834 - acc: 0.9447 - val_loss: 0.6868 - val_acc: 0.9294\n",
      "Epoch 77/200\n",
      "2295/2295 [==============================] - 6s 3ms/step - loss: 0.6821 - acc: 0.9464 - val_loss: 0.6875 - val_acc: 0.9294\n",
      "Epoch 78/200\n",
      "2295/2295 [==============================] - 6s 3ms/step - loss: 0.6819 - acc: 0.9490 - val_loss: 0.6841 - val_acc: 0.9333\n",
      "Epoch 79/200\n",
      "2295/2295 [==============================] - 6s 3ms/step - loss: 0.6821 - acc: 0.9464 - val_loss: 0.6847 - val_acc: 0.9373\n",
      "Epoch 80/200\n",
      "2295/2295 [==============================] - 6s 3ms/step - loss: 0.6815 - acc: 0.9495 - val_loss: 0.6845 - val_acc: 0.9373\n",
      "Epoch 81/200\n",
      "2295/2295 [==============================] - 6s 3ms/step - loss: 0.6813 - acc: 0.9473 - val_loss: 0.6839 - val_acc: 0.9373\n",
      "Epoch 82/200\n",
      "2295/2295 [==============================] - 6s 3ms/step - loss: 0.6807 - acc: 0.9521 - val_loss: 0.6842 - val_acc: 0.9373\n",
      "Epoch 83/200\n",
      "2295/2295 [==============================] - 6s 3ms/step - loss: 0.6809 - acc: 0.9512 - val_loss: 0.6856 - val_acc: 0.9294\n",
      "Epoch 84/200\n",
      "2295/2295 [==============================] - 6s 3ms/step - loss: 0.6815 - acc: 0.9477 - val_loss: 0.6828 - val_acc: 0.9294\n",
      "Epoch 85/200\n",
      "2295/2295 [==============================] - 6s 3ms/step - loss: 0.6801 - acc: 0.9547 - val_loss: 0.6842 - val_acc: 0.9373\n",
      "Epoch 86/200\n",
      "2295/2295 [==============================] - 6s 3ms/step - loss: 0.6806 - acc: 0.9556 - val_loss: 0.6828 - val_acc: 0.9373\n",
      "Epoch 87/200\n",
      "2295/2295 [==============================] - 6s 3ms/step - loss: 0.6801 - acc: 0.9564 - val_loss: 0.6829 - val_acc: 0.9373\n",
      "Epoch 88/200\n",
      "2295/2295 [==============================] - 6s 3ms/step - loss: 0.6798 - acc: 0.9525 - val_loss: 0.6834 - val_acc: 0.9373\n",
      "Epoch 89/200\n",
      "2295/2295 [==============================] - 6s 3ms/step - loss: 0.6797 - acc: 0.9529 - val_loss: 0.6823 - val_acc: 0.9373\n",
      "Epoch 90/200\n",
      "2295/2295 [==============================] - 6s 3ms/step - loss: 0.6810 - acc: 0.9529 - val_loss: 0.6818 - val_acc: 0.9412\n",
      "Epoch 91/200\n",
      "2295/2295 [==============================] - 6s 3ms/step - loss: 0.6794 - acc: 0.9551 - val_loss: 0.6822 - val_acc: 0.9529TA:\n",
      "Epoch 92/200\n",
      "2295/2295 [==============================] - 6s 3ms/step - loss: 0.6793 - acc: 0.9560 - val_loss: 0.6811 - val_acc: 0.9451\n",
      "Epoch 93/200\n",
      "2295/2295 [==============================] - 6s 3ms/step - loss: 0.6794 - acc: 0.9564 - val_loss: 0.6848 - val_acc: 0.9294\n",
      "Epoch 94/200\n",
      "2295/2295 [==============================] - 6s 3ms/step - loss: 0.6795 - acc: 0.9573 - val_loss: 0.6830 - val_acc: 0.9373\n",
      "Epoch 95/200\n",
      "2295/2295 [==============================] - 6s 3ms/step - loss: 0.6793 - acc: 0.9547 - val_loss: 0.6817 - val_acc: 0.9569\n",
      "Epoch 96/200\n",
      "2295/2295 [==============================] - 6s 3ms/step - loss: 0.6786 - acc: 0.9582 - val_loss: 0.6815 - val_acc: 0.9373\n",
      "Epoch 97/200\n",
      "2295/2295 [==============================] - 6s 3ms/step - loss: 0.6782 - acc: 0.9599 - val_loss: 0.6805 - val_acc: 0.9490\n",
      "Epoch 98/200\n",
      "2295/2295 [==============================] - 6s 3ms/step - loss: 0.6780 - acc: 0.9603 - val_loss: 0.6802 - val_acc: 0.9490\n",
      "Epoch 99/200\n",
      "2295/2295 [==============================] - 6s 3ms/step - loss: 0.6785 - acc: 0.9595 - val_loss: 0.6806 - val_acc: 0.9569\n",
      "Epoch 100/200\n",
      "2295/2295 [==============================] - 6s 3ms/step - loss: 0.6787 - acc: 0.9603 - val_loss: 0.6837 - val_acc: 0.9373\n",
      "Epoch 101/200\n",
      "2295/2295 [==============================] - 6s 3ms/step - loss: 0.6775 - acc: 0.9621 - val_loss: 0.6799 - val_acc: 0.9490\n",
      "Epoch 102/200\n",
      "2295/2295 [==============================] - 6s 3ms/step - loss: 0.6774 - acc: 0.9651 - val_loss: 0.6795 - val_acc: 0.9529\n",
      "Epoch 103/200\n",
      "2295/2295 [==============================] - 6s 3ms/step - loss: 0.6773 - acc: 0.9617 - val_loss: 0.6796 - val_acc: 0.9490\n",
      "Epoch 104/200\n",
      "2295/2295 [==============================] - 6s 3ms/step - loss: 0.6770 - acc: 0.9664 - val_loss: 0.6825 - val_acc: 0.9373\n",
      "Epoch 105/200\n",
      "2295/2295 [==============================] - 6s 3ms/step - loss: 0.6773 - acc: 0.9647 - val_loss: 0.6791 - val_acc: 0.9529\n",
      "Epoch 106/200\n",
      "2295/2295 [==============================] - 6s 3ms/step - loss: 0.6770 - acc: 0.9647 - val_loss: 0.6795 - val_acc: 0.9529\n",
      "Epoch 107/200\n",
      "2295/2295 [==============================] - 6s 3ms/step - loss: 0.6769 - acc: 0.9621 - val_loss: 0.6808 - val_acc: 0.9373\n",
      "Epoch 108/200\n",
      "2295/2295 [==============================] - 6s 3ms/step - loss: 0.6766 - acc: 0.9669 - val_loss: 0.6788 - val_acc: 0.9569\n",
      "Epoch 109/200\n",
      "2295/2295 [==============================] - 6s 3ms/step - loss: 0.6768 - acc: 0.9686 - val_loss: 0.6787 - val_acc: 0.9569\n",
      "Epoch 110/200\n",
      "2295/2295 [==============================] - 6s 3ms/step - loss: 0.6765 - acc: 0.9686 - val_loss: 0.6787 - val_acc: 0.9647\n",
      "Epoch 111/200\n",
      "2295/2295 [==============================] - 6s 3ms/step - loss: 0.6763 - acc: 0.9686 - val_loss: 0.6786 - val_acc: 0.9569\n",
      "Epoch 112/200\n",
      "2295/2295 [==============================] - 6s 3ms/step - loss: 0.6761 - acc: 0.9695 - val_loss: 0.6781 - val_acc: 0.9569\n",
      "Epoch 113/200\n",
      "2295/2295 [==============================] - 6s 3ms/step - loss: 0.6759 - acc: 0.9682 - val_loss: 0.6788 - val_acc: 0.9647\n",
      "Epoch 114/200\n",
      "2295/2295 [==============================] - 6s 3ms/step - loss: 0.6771 - acc: 0.9664 - val_loss: 0.6782 - val_acc: 0.9569\n",
      "Epoch 115/200\n",
      "2295/2295 [==============================] - 6s 3ms/step - loss: 0.6762 - acc: 0.9686 - val_loss: 0.6779 - val_acc: 0.9569\n",
      "Epoch 116/200\n",
      "2295/2295 [==============================] - 6s 3ms/step - loss: 0.6759 - acc: 0.9673 - val_loss: 0.6779 - val_acc: 0.9569\n",
      "Epoch 117/200\n",
      "2295/2295 [==============================] - 6s 3ms/step - loss: 0.6759 - acc: 0.9691 - val_loss: 0.6797 - val_acc: 0.9451\n",
      "Epoch 118/200\n",
      "2295/2295 [==============================] - 6s 3ms/step - loss: 0.6758 - acc: 0.9686 - val_loss: 0.6783 - val_acc: 0.9569\n",
      "Epoch 119/200\n",
      "2295/2295 [==============================] - 6s 3ms/step - loss: 0.6761 - acc: 0.9673 - val_loss: 0.6777 - val_acc: 0.9647\n",
      "Epoch 120/200\n",
      "2295/2295 [==============================] - 6s 3ms/step - loss: 0.6754 - acc: 0.9699 - val_loss: 0.6804 - val_acc: 0.9412\n",
      "Epoch 121/200\n"
     ]
    },
    {
     "name": "stdout",
     "output_type": "stream",
     "text": [
      "2295/2295 [==============================] - 6s 3ms/step - loss: 0.6751 - acc: 0.9704 - val_loss: 0.6792 - val_acc: 0.9451\n",
      "Epoch 122/200\n",
      "2295/2295 [==============================] - 6s 3ms/step - loss: 0.6750 - acc: 0.9734 - val_loss: 0.6774 - val_acc: 0.9569\n",
      "Epoch 123/200\n",
      "2295/2295 [==============================] - 6s 3ms/step - loss: 0.6761 - acc: 0.9678 - val_loss: 0.6774 - val_acc: 0.9647\n",
      "Epoch 124/200\n",
      "2295/2295 [==============================] - 6s 3ms/step - loss: 0.6752 - acc: 0.9725 - val_loss: 0.6794 - val_acc: 0.9451\n",
      "Epoch 125/200\n",
      "2295/2295 [==============================] - 6s 3ms/step - loss: 0.6749 - acc: 0.9695 - val_loss: 0.6768 - val_acc: 0.9686\n",
      "Epoch 126/200\n",
      "2295/2295 [==============================] - 6s 3ms/step - loss: 0.6745 - acc: 0.9747 - val_loss: 0.6783 - val_acc: 0.9529\n",
      "Epoch 127/200\n",
      "2295/2295 [==============================] - 6s 3ms/step - loss: 0.6745 - acc: 0.9760 - val_loss: 0.6780 - val_acc: 0.9529\n",
      "Epoch 128/200\n",
      "2295/2295 [==============================] - 6s 3ms/step - loss: 0.6747 - acc: 0.9747 - val_loss: 0.6767 - val_acc: 0.9647\n",
      "Epoch 129/200\n",
      "2295/2295 [==============================] - 6s 3ms/step - loss: 0.6754 - acc: 0.9695 - val_loss: 0.6769 - val_acc: 0.9608\n",
      "Epoch 130/200\n",
      "2295/2295 [==============================] - 6s 3ms/step - loss: 0.6743 - acc: 0.9743 - val_loss: 0.6763 - val_acc: 0.9686\n",
      "Epoch 131/200\n",
      "2295/2295 [==============================] - 6s 3ms/step - loss: 0.6745 - acc: 0.9760 - val_loss: 0.6770 - val_acc: 0.9569\n",
      "Epoch 132/200\n",
      "2295/2295 [==============================] - 6s 3ms/step - loss: 0.6743 - acc: 0.9743 - val_loss: 0.6761 - val_acc: 0.9686\n",
      "Epoch 133/200\n",
      "2295/2295 [==============================] - 6s 3ms/step - loss: 0.6744 - acc: 0.9747 - val_loss: 0.6761 - val_acc: 0.9686\n",
      "Epoch 134/200\n",
      "2295/2295 [==============================] - 6s 3ms/step - loss: 0.6738 - acc: 0.9760 - val_loss: 0.6759 - val_acc: 0.9647\n",
      "Epoch 135/200\n",
      "2295/2295 [==============================] - 6s 3ms/step - loss: 0.6738 - acc: 0.9756 - val_loss: 0.6802 - val_acc: 0.9451\n",
      "Epoch 136/200\n",
      "2295/2295 [==============================] - 6s 3ms/step - loss: 0.6739 - acc: 0.9756 - val_loss: 0.6780 - val_acc: 0.9529\n",
      "Epoch 137/200\n",
      "2295/2295 [==============================] - 6s 3ms/step - loss: 0.6742 - acc: 0.9769 - val_loss: 0.6764 - val_acc: 0.9725\n",
      "Epoch 138/200\n",
      "2295/2295 [==============================] - 6s 3ms/step - loss: 0.6749 - acc: 0.9730 - val_loss: 0.6763 - val_acc: 0.9608\n",
      "Epoch 139/200\n",
      "2295/2295 [==============================] - 6s 3ms/step - loss: 0.6736 - acc: 0.9769 - val_loss: 0.6761 - val_acc: 0.9608\n",
      "Epoch 140/200\n",
      "2295/2295 [==============================] - 6s 3ms/step - loss: 0.6736 - acc: 0.9760 - val_loss: 0.6783 - val_acc: 0.9490\n",
      "Epoch 141/200\n",
      "2295/2295 [==============================] - 6s 3ms/step - loss: 0.6747 - acc: 0.9747 - val_loss: 0.6787 - val_acc: 0.9608\n",
      "Epoch 142/200\n",
      "2295/2295 [==============================] - 6s 3ms/step - loss: 0.6743 - acc: 0.9752 - val_loss: 0.6764 - val_acc: 0.9608\n",
      "Epoch 143/200\n",
      "2295/2295 [==============================] - 6s 3ms/step - loss: 0.6729 - acc: 0.9782 - val_loss: 0.6777 - val_acc: 0.9529\n",
      "Epoch 144/200\n",
      "2295/2295 [==============================] - 6s 3ms/step - loss: 0.6729 - acc: 0.9778 - val_loss: 0.6751 - val_acc: 0.9686\n",
      "Epoch 145/200\n",
      "2295/2295 [==============================] - 6s 3ms/step - loss: 0.6732 - acc: 0.9800 - val_loss: 0.6749 - val_acc: 0.9686\n",
      "Epoch 146/200\n",
      "2295/2295 [==============================] - 6s 3ms/step - loss: 0.6731 - acc: 0.9778 - val_loss: 0.6750 - val_acc: 0.9686\n",
      "Epoch 147/200\n",
      "2295/2295 [==============================] - 6s 3ms/step - loss: 0.6730 - acc: 0.9769 - val_loss: 0.6763 - val_acc: 0.9569\n",
      "Epoch 148/200\n",
      "2295/2295 [==============================] - 6s 3ms/step - loss: 0.6728 - acc: 0.9786 - val_loss: 0.6762 - val_acc: 0.9569\n",
      "Epoch 149/200\n",
      "2295/2295 [==============================] - 6s 3ms/step - loss: 0.6728 - acc: 0.9786 - val_loss: 0.6750 - val_acc: 0.9686\n",
      "Epoch 150/200\n",
      "2295/2295 [==============================] - 6s 3ms/step - loss: 0.6731 - acc: 0.9782 - val_loss: 0.6747 - val_acc: 0.9686\n",
      "Epoch 151/200\n",
      "2295/2295 [==============================] - 6s 3ms/step - loss: 0.6729 - acc: 0.9800 - val_loss: 0.6751 - val_acc: 0.9686\n",
      "Epoch 152/200\n",
      "2295/2295 [==============================] - 6s 3ms/step - loss: 0.6724 - acc: 0.9800 - val_loss: 0.6750 - val_acc: 0.9686\n",
      "Epoch 153/200\n",
      "2295/2295 [==============================] - 6s 3ms/step - loss: 0.6726 - acc: 0.9800 - val_loss: 0.6756 - val_acc: 0.9569\n",
      "Epoch 154/200\n",
      "2295/2295 [==============================] - 6s 3ms/step - loss: 0.6723 - acc: 0.9821 - val_loss: 0.6743 - val_acc: 0.9686\n",
      "Epoch 155/200\n",
      "2295/2295 [==============================] - 6s 3ms/step - loss: 0.6725 - acc: 0.9808 - val_loss: 0.6744 - val_acc: 0.9686\n",
      "Epoch 156/200\n",
      "2295/2295 [==============================] - 6s 3ms/step - loss: 0.6726 - acc: 0.9826 - val_loss: 0.6748 - val_acc: 0.9686\n",
      "Epoch 157/200\n",
      "2295/2295 [==============================] - 6s 3ms/step - loss: 0.6721 - acc: 0.9817 - val_loss: 0.6751 - val_acc: 0.9647\n",
      "Epoch 158/200\n",
      "2295/2295 [==============================] - 6s 3ms/step - loss: 0.6722 - acc: 0.9791 - val_loss: 0.6752 - val_acc: 0.9647\n",
      "Epoch 159/200\n",
      "2295/2295 [==============================] - 6s 3ms/step - loss: 0.6720 - acc: 0.9843 - val_loss: 0.6749 - val_acc: 0.9647\n",
      "Epoch 160/200\n",
      "2295/2295 [==============================] - 6s 3ms/step - loss: 0.6720 - acc: 0.9817 - val_loss: 0.6741 - val_acc: 0.9686\n",
      "Epoch 161/200\n",
      "2295/2295 [==============================] - 6s 3ms/step - loss: 0.6718 - acc: 0.9830 - val_loss: 0.6756 - val_acc: 0.9569\n",
      "Epoch 162/200\n",
      "2295/2295 [==============================] - 6s 3ms/step - loss: 0.6723 - acc: 0.9813 - val_loss: 0.6783 - val_acc: 0.9490\n",
      "Epoch 163/200\n",
      "2295/2295 [==============================] - 6s 3ms/step - loss: 0.6715 - acc: 0.9821 - val_loss: 0.6739 - val_acc: 0.9686\n",
      "Epoch 164/200\n",
      "2295/2295 [==============================] - 6s 3ms/step - loss: 0.6718 - acc: 0.9826 - val_loss: 0.6736 - val_acc: 0.9725\n",
      "Epoch 165/200\n",
      "2295/2295 [==============================] - 6s 3ms/step - loss: 0.6713 - acc: 0.9869 - val_loss: 0.6759 - val_acc: 0.9569\n",
      "Epoch 166/200\n",
      "2295/2295 [==============================] - 6s 3ms/step - loss: 0.6717 - acc: 0.9834 - val_loss: 0.6735 - val_acc: 0.9843.98\n",
      "Epoch 167/200\n",
      "2295/2295 [==============================] - 6s 3ms/step - loss: 0.6720 - acc: 0.9830 - val_loss: 0.6738 - val_acc: 0.9686\n",
      "Epoch 168/200\n",
      "2295/2295 [==============================] - 6s 3ms/step - loss: 0.6712 - acc: 0.9826 - val_loss: 0.6767 - val_acc: 0.9569\n",
      "Epoch 169/200\n",
      "2295/2295 [==============================] - 6s 3ms/step - loss: 0.6719 - acc: 0.9839 - val_loss: 0.6746 - val_acc: 0.9647\n",
      "Epoch 170/200\n",
      "2295/2295 [==============================] - 6s 3ms/step - loss: 0.6713 - acc: 0.9839 - val_loss: 0.6734 - val_acc: 0.9725\n",
      "Epoch 171/200\n",
      "2295/2295 [==============================] - 6s 3ms/step - loss: 0.6711 - acc: 0.9843 - val_loss: 0.6765 - val_acc: 0.9569\n",
      "Epoch 172/200\n",
      "2295/2295 [==============================] - 6s 3ms/step - loss: 0.6719 - acc: 0.9826 - val_loss: 0.6742 - val_acc: 0.9647\n",
      "Epoch 173/200\n",
      "2295/2295 [==============================] - 6s 3ms/step - loss: 0.6717 - acc: 0.9847 - val_loss: 0.6748 - val_acc: 0.9647\n",
      "Epoch 174/200\n",
      "2295/2295 [==============================] - 6s 3ms/step - loss: 0.6715 - acc: 0.9861 - val_loss: 0.6729 - val_acc: 0.9804\n",
      "Epoch 175/200\n",
      "2295/2295 [==============================] - 6s 3ms/step - loss: 0.6710 - acc: 0.9869 - val_loss: 0.6746 - val_acc: 0.9647\n",
      "Epoch 176/200\n",
      "2295/2295 [==============================] - 6s 3ms/step - loss: 0.6707 - acc: 0.9874 - val_loss: 0.6728 - val_acc: 0.9843\n",
      "Epoch 177/200\n",
      "2295/2295 [==============================] - 6s 3ms/step - loss: 0.6715 - acc: 0.9861 - val_loss: 0.6782 - val_acc: 0.9490\n",
      "Epoch 178/200\n",
      "2295/2295 [==============================] - 6s 3ms/step - loss: 0.6718 - acc: 0.9821 - val_loss: 0.6733 - val_acc: 0.9686\n",
      "Epoch 179/200\n",
      "2295/2295 [==============================] - 6s 3ms/step - loss: 0.6709 - acc: 0.9861 - val_loss: 0.6729 - val_acc: 0.9882\n",
      "Epoch 180/200\n",
      "2295/2295 [==============================] - 6s 3ms/step - loss: 0.6707 - acc: 0.9891 - val_loss: 0.6757 - val_acc: 0.9608\n"
     ]
    },
    {
     "name": "stdout",
     "output_type": "stream",
     "text": [
      "Epoch 181/200\n",
      "2295/2295 [==============================] - 6s 3ms/step - loss: 0.6708 - acc: 0.9861 - val_loss: 0.6745 - val_acc: 0.9647\n",
      "Epoch 182/200\n",
      "2295/2295 [==============================] - 6s 3ms/step - loss: 0.6707 - acc: 0.9878 - val_loss: 0.6729 - val_acc: 0.9725\n",
      "Epoch 183/200\n",
      "2295/2295 [==============================] - 6s 3ms/step - loss: 0.6708 - acc: 0.9865 - val_loss: 0.6760 - val_acc: 0.9569\n",
      "Epoch 184/200\n",
      "2295/2295 [==============================] - 6s 3ms/step - loss: 0.6705 - acc: 0.9887 - val_loss: 0.6723 - val_acc: 0.9843\n",
      "Epoch 185/200\n",
      "2295/2295 [==============================] - 6s 3ms/step - loss: 0.6706 - acc: 0.9891 - val_loss: 0.6726 - val_acc: 0.9882\n",
      "Epoch 186/200\n",
      "2295/2295 [==============================] - 6s 3ms/step - loss: 0.6705 - acc: 0.9891 - val_loss: 0.6724 - val_acc: 0.9765\n",
      "Epoch 187/200\n",
      "2295/2295 [==============================] - 6s 3ms/step - loss: 0.6703 - acc: 0.9887 - val_loss: 0.6776 - val_acc: 0.9490\n",
      "Epoch 188/200\n",
      "2295/2295 [==============================] - 6s 3ms/step - loss: 0.6715 - acc: 0.9839 - val_loss: 0.6736 - val_acc: 0.9647\n",
      "Epoch 189/200\n",
      "2295/2295 [==============================] - 6s 3ms/step - loss: 0.6706 - acc: 0.9882 - val_loss: 0.6724 - val_acc: 0.9725\n",
      "Epoch 190/200\n",
      "2295/2295 [==============================] - 6s 3ms/step - loss: 0.6701 - acc: 0.9895 - val_loss: 0.6725 - val_acc: 0.9725\n",
      "Epoch 191/200\n",
      "2295/2295 [==============================] - 6s 3ms/step - loss: 0.6700 - acc: 0.9900 - val_loss: 0.6723 - val_acc: 0.9725\n",
      "Epoch 192/200\n",
      "2295/2295 [==============================] - 6s 3ms/step - loss: 0.6700 - acc: 0.9913 - val_loss: 0.6726 - val_acc: 0.9725\n",
      "Epoch 193/200\n",
      "2295/2295 [==============================] - 6s 3ms/step - loss: 0.6699 - acc: 0.9904 - val_loss: 0.6741 - val_acc: 0.9647\n",
      "Epoch 194/200\n",
      "2295/2295 [==============================] - 6s 3ms/step - loss: 0.6698 - acc: 0.9908 - val_loss: 0.6722 - val_acc: 0.9725\n",
      "Epoch 195/200\n",
      "2295/2295 [==============================] - 6s 3ms/step - loss: 0.6698 - acc: 0.9917 - val_loss: 0.6721 - val_acc: 0.9804\n",
      "Epoch 196/200\n",
      "2295/2295 [==============================] - 6s 3ms/step - loss: 0.6699 - acc: 0.9904 - val_loss: 0.6716 - val_acc: 0.9882\n",
      "Epoch 197/200\n",
      "2295/2295 [==============================] - 6s 3ms/step - loss: 0.6699 - acc: 0.9913 - val_loss: 0.6729 - val_acc: 0.9686\n",
      "Epoch 198/200\n",
      "2295/2295 [==============================] - 6s 3ms/step - loss: 0.6695 - acc: 0.9935 - val_loss: 0.6715 - val_acc: 0.9882\n",
      "Epoch 199/200\n",
      "2295/2295 [==============================] - 6s 3ms/step - loss: 0.6698 - acc: 0.9913 - val_loss: 0.6722 - val_acc: 0.9725\n",
      "Epoch 200/200\n",
      "2295/2295 [==============================] - 6s 3ms/step - loss: 0.6695 - acc: 0.9930 - val_loss: 0.6719 - val_acc: 0.9804\n"
     ]
    }
   ],
   "source": [
    "history = model.fit(X_train, y_train, batch_size=64, epochs=300, validation_split=0.1)"
   ]
  },
  {
   "cell_type": "code",
   "execution_count": 19,
   "metadata": {},
   "outputs": [
    {
     "name": "stdout",
     "output_type": "stream",
     "text": [
      "450/450 [==============================] - 1s 1ms/step\n",
      "LOSS: 0.6716945992575751\n",
      "Accuracy: 0.9777777777777777\n"
     ]
    }
   ],
   "source": [
    "score = model.evaluate(X_test, y_test)\n",
    "print(\"LOSS:\", score[0])\n",
    "print(\"Accuracy:\", score[1])"
   ]
  },
  {
   "cell_type": "code",
   "execution_count": 20,
   "metadata": {},
   "outputs": [
    {
     "data": {
      "image/png": "[encoded data removed]",
      "text/plain": [
       "<Figure size 432x288 with 1 Axes>"
      ]
     },
     "metadata": {
      "needs_background": "light"
     },
     "output_type": "display_data"
    }
   ],
   "source": [
    "loss = history.history['loss']\n",
    "val_loss = history.history['val_loss']\n",
    "epochs = range(1, len(loss) + 1)\n",
    "plt.plot(epochs, loss, 'bo', label='Training loss')\n",
    "plt.plot(epochs, val_loss, 'b', label='Validation loss')\n",
    "plt.title('Training and validation loss')\n",
    "plt.xlabel('Epochs')\n",
    "plt.ylabel('Loss')\n",
    "plt.legend()\n",
    "plt.show()"
   ]
  },
  {
   "cell_type": "code",
   "execution_count": 21,
   "metadata": {},
   "outputs": [
    {
     "data": {
      "image/png": "[encoded data removed]",
      "text/plain": [
       "<Figure size 432x288 with 1 Axes>"
      ]
     },
     "metadata": {
      "needs_background": "light"
     },
     "output_type": "display_data"
    }
   ],
   "source": [
    "acc = history.history['acc']\n",
    "val_acc = history.history['val_acc']\n",
    "plt.plot(epochs, acc, 'bo', label='Training acc')\n",
    "plt.plot(epochs, val_acc, 'b', label='Validation acc')\n",
    "plt.title('Training and validation accuracy')\n",
    "plt.xlabel('Epochs')\n",
    "plt.ylabel('Accuracy')\n",
    "plt.legend()\n",
    "plt.show()"
   ]
  },
  {
   "cell_type": "code",
   "execution_count": null,
   "metadata": {},
   "outputs": [],
   "source": []
  }
 ],
 "metadata": {
  "kernelspec": {
   "display_name": "Python 3",
   "language": "python",
   "name": "python3"
  },
  "language_info": {
   "codemirror_mode": {
    "name": "ipython",
    "version": 3
   },
   "file_extension": ".py",
   "mimetype": "text/x-python",
   "name": "python",
   "nbconvert_exporter": "python",
   "pygments_lexer": "ipython3",
   "version": "3.6.6"
  }
 },
 "nbformat": 4,
 "nbformat_minor": 2
}
