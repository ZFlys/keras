{
 "cells": [
  {
   "cell_type": "code",
   "execution_count": 1,
   "metadata": {
    "ExecuteTime": {
     "end_time": "2018-12-07T06:00:49.096037Z",
     "start_time": "2018-12-07T06:00:48.508003Z"
    }
   },
   "outputs": [],
   "source": [
    "import os\n",
    "import numpy as np\n",
    "import pandas as pd\n",
    "import pywt\n",
    "import matplotlib.pyplot as plt"
   ]
  },
  {
   "cell_type": "code",
   "execution_count": 2,
   "metadata": {
    "ExecuteTime": {
     "end_time": "2018-12-07T06:00:51.311164Z",
     "start_time": "2018-12-07T06:00:51.306163Z"
    }
   },
   "outputs": [],
   "source": [
    "kingfa_datasets_path = \"./kingfadatasets/\""
   ]
  },
  {
   "cell_type": "code",
   "execution_count": 3,
   "metadata": {
    "ExecuteTime": {
     "end_time": "2018-12-07T06:00:55.302392Z",
     "start_time": "2018-12-07T06:00:55.295392Z"
    }
   },
   "outputs": [],
   "source": [
    "def wpt1D(data, wavelet='db1', mode='symmetric', maxlevel=3):\n",
    "    wp = pywt.WaveletPacket(data=data, wavelet=wavelet, mode=mode, maxlevel=maxlevel)\n",
    "    paths = [node.path for node in wp.get_level(maxlevel)]  # 列出所有树节点路径\n",
    "    df_wpt = pd.DataFrame()  # 合并所有四级子节点\n",
    "    for a in paths:\n",
    "        df_wpt[a] = wp[a].data\n",
    "    return df_wpt.values"
   ]
  },
  {
   "cell_type": "code",
   "execution_count": 4,
   "metadata": {
    "ExecuteTime": {
     "end_time": "2018-12-07T06:01:06.835052Z",
     "start_time": "2018-12-07T06:01:01.776762Z"
    }
   },
   "outputs": [],
   "source": [
    "X = np.array(pd.read_csv(kingfa_datasets_path+\"data.csv\", index_col=0))"
   ]
  },
  {
   "cell_type": "code",
   "execution_count": 5,
   "metadata": {
    "ExecuteTime": {
     "end_time": "2018-12-07T06:01:18.643727Z",
     "start_time": "2018-12-07T06:01:06.837052Z"
    }
   },
   "outputs": [],
   "source": [
    "X = np.apply_along_axis(wpt1D, 1, X)"
   ]
  },
  {
   "cell_type": "code",
   "execution_count": 6,
   "metadata": {
    "ExecuteTime": {
     "end_time": "2018-12-07T06:01:18.655728Z",
     "start_time": "2018-12-07T06:01:18.645727Z"
    }
   },
   "outputs": [],
   "source": [
    "y = np.array(pd.read_csv(kingfa_datasets_path+\"target.csv\", index_col=0))"
   ]
  },
  {
   "cell_type": "code",
   "execution_count": 7,
   "metadata": {
    "ExecuteTime": {
     "end_time": "2018-12-07T06:01:18.672729Z",
     "start_time": "2018-12-07T06:01:18.658728Z"
    }
   },
   "outputs": [
    {
     "name": "stdout",
     "output_type": "stream",
     "text": [
      "(3000, 512, 8)\n",
      "(3000, 1)\n"
     ]
    }
   ],
   "source": [
    "print(X.shape)\n",
    "print(y.shape)"
   ]
  },
  {
   "cell_type": "code",
   "execution_count": 8,
   "metadata": {
    "ExecuteTime": {
     "end_time": "2018-12-07T06:01:41.126013Z",
     "start_time": "2018-12-07T06:01:37.047780Z"
    }
   },
   "outputs": [
    {
     "name": "stderr",
     "output_type": "stream",
     "text": [
      "Using TensorFlow backend.\n"
     ]
    }
   ],
   "source": [
    "import keras\n",
    "from sklearn.model_selection import train_test_split\n",
    "from keras.models import Sequential\n",
    "from keras.layers import Dense, Activation, Conv2D, MaxPooling2D, Flatten\n",
    "from keras.optimizers import Adam"
   ]
  },
  {
   "cell_type": "code",
   "execution_count": 9,
   "metadata": {
    "ExecuteTime": {
     "end_time": "2018-12-07T06:01:41.180016Z",
     "start_time": "2018-12-07T06:01:41.128013Z"
    }
   },
   "outputs": [],
   "source": [
    "X_train, X_test, y_train, y_test = train_test_split(X, y, test_size=0.15, random_state=1024)"
   ]
  },
  {
   "cell_type": "code",
   "execution_count": 10,
   "metadata": {
    "ExecuteTime": {
     "end_time": "2018-12-07T06:01:55.176817Z",
     "start_time": "2018-12-07T06:01:55.169816Z"
    }
   },
   "outputs": [],
   "source": [
    "X_train = X_train.reshape(-1, 512, 8, 1)\n",
    "X_test = X_test.reshape(-1, 512, 8, 1)\n",
    "y_train = keras.utils.to_categorical(y_train, 3)\n",
    "y_test = keras.utils.to_categorical(y_test, 3)"
   ]
  },
  {
   "cell_type": "code",
   "execution_count": 11,
   "metadata": {
    "ExecuteTime": {
     "end_time": "2018-12-07T06:01:56.587897Z",
     "start_time": "2018-12-07T06:01:56.550895Z"
    }
   },
   "outputs": [],
   "source": [
    "model = Sequential()"
   ]
  },
  {
   "cell_type": "code",
   "execution_count": 12,
   "metadata": {
    "ExecuteTime": {
     "end_time": "2018-12-07T06:02:06.745478Z",
     "start_time": "2018-12-07T06:02:06.689475Z"
    }
   },
   "outputs": [],
   "source": [
    "model.add(Conv2D(filters=16, kernel_size=(7, 5), input_shape=(512, 8, 1)))\n",
    "model.add(Activation('sigmoid'))\n",
    "model.add(MaxPooling2D(pool_size=(2,2), padding='same'))"
   ]
  },
  {
   "cell_type": "code",
   "execution_count": 13,
   "metadata": {
    "ExecuteTime": {
     "end_time": "2018-12-07T06:02:07.467520Z",
     "start_time": "2018-12-07T06:02:07.439518Z"
    }
   },
   "outputs": [],
   "source": [
    "model.add(Conv2D(filters=32, kernel_size=(5, 3), padding='same'))\n",
    "model.add(Activation('sigmoid'))\n",
    "model.add(MaxPooling2D(pool_size=(2, 2), padding='same'))"
   ]
  },
  {
   "cell_type": "code",
   "execution_count": 14,
   "metadata": {
    "ExecuteTime": {
     "end_time": "2018-12-07T06:02:09.937661Z",
     "start_time": "2018-12-07T06:02:09.870657Z"
    }
   },
   "outputs": [],
   "source": [
    "model.add(Flatten())\n",
    "model.add(Dense(128))\n",
    "model.add(Activation('sigmoid'))\n",
    "model.add(Dense(3))\n",
    "model.add(Activation('softmax'))"
   ]
  },
  {
   "cell_type": "code",
   "execution_count": 15,
   "metadata": {
    "ExecuteTime": {
     "end_time": "2018-12-07T06:02:14.039895Z",
     "start_time": "2018-12-07T06:02:14.007894Z"
    }
   },
   "outputs": [],
   "source": [
    "adam = Adam(lr=1e-4)"
   ]
  },
  {
   "cell_type": "code",
   "execution_count": 16,
   "metadata": {
    "ExecuteTime": {
     "end_time": "2018-12-07T06:02:15.808997Z",
     "start_time": "2018-12-07T06:02:15.802996Z"
    }
   },
   "outputs": [
    {
     "name": "stdout",
     "output_type": "stream",
     "text": [
      "_________________________________________________________________\n",
      "Layer (type)                 Output Shape              Param #   \n",
      "=================================================================\n",
      "conv2d_1 (Conv2D)            (None, 506, 4, 16)        576       \n",
      "_________________________________________________________________\n",
      "activation_1 (Activation)    (None, 506, 4, 16)        0         \n",
      "_________________________________________________________________\n",
      "max_pooling2d_1 (MaxPooling2 (None, 253, 2, 16)        0         \n",
      "_________________________________________________________________\n",
      "conv2d_2 (Conv2D)            (None, 253, 2, 32)        7712      \n",
      "_________________________________________________________________\n",
      "activation_2 (Activation)    (None, 253, 2, 32)        0         \n",
      "_________________________________________________________________\n",
      "max_pooling2d_2 (MaxPooling2 (None, 127, 1, 32)        0         \n",
      "_________________________________________________________________\n",
      "flatten_1 (Flatten)          (None, 4064)              0         \n",
      "_________________________________________________________________\n",
      "dense_1 (Dense)              (None, 128)               520320    \n",
      "_________________________________________________________________\n",
      "activation_3 (Activation)    (None, 128)               0         \n",
      "_________________________________________________________________\n",
      "dense_2 (Dense)              (None, 3)                 387       \n",
      "_________________________________________________________________\n",
      "activation_4 (Activation)    (None, 3)                 0         \n",
      "=================================================================\n",
      "Total params: 528,995\n",
      "Trainable params: 528,995\n",
      "Non-trainable params: 0\n",
      "_________________________________________________________________\n"
     ]
    }
   ],
   "source": [
    "model.summary()"
   ]
  },
  {
   "cell_type": "code",
   "execution_count": 17,
   "metadata": {
    "ExecuteTime": {
     "end_time": "2018-12-07T06:02:20.968292Z",
     "start_time": "2018-12-07T06:02:20.934290Z"
    }
   },
   "outputs": [],
   "source": [
    "model.compile(optimizer=adam, loss='squared_hinge', metrics=['accuracy'])"
   ]
  },
  {
   "cell_type": "code",
   "execution_count": 18,
   "metadata": {
    "ExecuteTime": {
     "end_time": "2018-12-07T06:24:56.923848Z",
     "start_time": "2018-12-07T06:02:28.738736Z"
    }
   },
   "outputs": [
    {
     "name": "stdout",
     "output_type": "stream",
     "text": [
      "Train on 2295 samples, validate on 255 samples\n",
      "Epoch 1/300\n",
      "2295/2295 [==============================] - 5s 2ms/step - loss: 0.8172 - acc: 0.3468 - val_loss: 0.8149 - val_acc: 0.3255\n",
      "Epoch 2/300\n",
      "2295/2295 [==============================] - 5s 2ms/step - loss: 0.8158 - acc: 0.3399 - val_loss: 0.8145 - val_acc: 0.3216\n",
      "Epoch 3/300\n",
      "2295/2295 [==============================] - 4s 2ms/step - loss: 0.8159 - acc: 0.3760 - val_loss: 0.8140 - val_acc: 0.3216\n",
      "Epoch 4/300\n",
      "2295/2295 [==============================] - 4s 2ms/step - loss: 0.8156 - acc: 0.3420 - val_loss: 0.8132 - val_acc: 0.3529\n",
      "Epoch 5/300\n",
      "2295/2295 [==============================] - 4s 2ms/step - loss: 0.8158 - acc: 0.3272 - val_loss: 0.8139 - val_acc: 0.3255\n",
      "Epoch 6/300\n",
      "2295/2295 [==============================] - 4s 2ms/step - loss: 0.8133 - acc: 0.3939 - val_loss: 0.8137 - val_acc: 0.3216\n",
      "Epoch 7/300\n",
      "2295/2295 [==============================] - 5s 2ms/step - loss: 0.8122 - acc: 0.4009 - val_loss: 0.8120 - val_acc: 0.3255\n",
      "Epoch 8/300\n",
      "2295/2295 [==============================] - 5s 2ms/step - loss: 0.8117 - acc: 0.3651 - val_loss: 0.8106 - val_acc: 0.3216\n",
      "Epoch 9/300\n",
      "2295/2295 [==============================] - 5s 2ms/step - loss: 0.8083 - acc: 0.4440 - val_loss: 0.8057 - val_acc: 0.6745\n",
      "Epoch 10/300\n",
      "2295/2295 [==============================] - 4s 2ms/step - loss: 0.8037 - acc: 0.5368 - val_loss: 0.8001 - val_acc: 0.6745\n",
      "Epoch 11/300\n",
      "2295/2295 [==============================] - 4s 2ms/step - loss: 0.7983 - acc: 0.5342 - val_loss: 0.7941 - val_acc: 0.6745\n",
      "Epoch 12/300\n",
      "2295/2295 [==============================] - 5s 2ms/step - loss: 0.7895 - acc: 0.6353 - val_loss: 0.7862 - val_acc: 0.6471\n",
      "Epoch 13/300\n",
      "2295/2295 [==============================] - 5s 2ms/step - loss: 0.7782 - acc: 0.6523 - val_loss: 0.7732 - val_acc: 0.6745\n",
      "Epoch 14/300\n",
      "2295/2295 [==============================] - 5s 2ms/step - loss: 0.7660 - acc: 0.6784 - val_loss: 0.7644 - val_acc: 0.6627\n",
      "Epoch 15/300\n",
      "2295/2295 [==============================] - 4s 2ms/step - loss: 0.7555 - acc: 0.6736 - val_loss: 0.7520 - val_acc: 0.6471\n",
      "Epoch 16/300\n",
      "2295/2295 [==============================] - 4s 2ms/step - loss: 0.7466 - acc: 0.6863 - val_loss: 0.7441 - val_acc: 0.6706\n",
      "Epoch 17/300\n",
      "2295/2295 [==============================] - 5s 2ms/step - loss: 0.7406 - acc: 0.6810 - val_loss: 0.7401 - val_acc: 0.6471\n",
      "Epoch 18/300\n",
      "2295/2295 [==============================] - 4s 2ms/step - loss: 0.7360 - acc: 0.6985 - val_loss: 0.7355 - val_acc: 0.6627\n",
      "Epoch 19/300\n",
      "2295/2295 [==============================] - 4s 2ms/step - loss: 0.7331 - acc: 0.6941 - val_loss: 0.7323 - val_acc: 0.6706\n",
      "Epoch 20/300\n",
      "2295/2295 [==============================] - 4s 2ms/step - loss: 0.7293 - acc: 0.7137 - val_loss: 0.7296 - val_acc: 0.7804\n",
      "Epoch 21/300\n",
      "2295/2295 [==============================] - 4s 2ms/step - loss: 0.7276 - acc: 0.7447 - val_loss: 0.7318 - val_acc: 0.6706\n",
      "Epoch 22/300\n",
      "2295/2295 [==============================] - 5s 2ms/step - loss: 0.7270 - acc: 0.7168 - val_loss: 0.7264 - val_acc: 0.8078\n",
      "Epoch 23/300\n",
      "2295/2295 [==============================] - 5s 2ms/step - loss: 0.7249 - acc: 0.7203 - val_loss: 0.7252 - val_acc: 0.7843\n",
      "Epoch 24/300\n",
      "2295/2295 [==============================] - 5s 2ms/step - loss: 0.7235 - acc: 0.7359 - val_loss: 0.7258 - val_acc: 0.7020\n",
      "Epoch 25/300\n",
      "2295/2295 [==============================] - 5s 2ms/step - loss: 0.7221 - acc: 0.7516 - val_loss: 0.7231 - val_acc: 0.7882\n",
      "Epoch 26/300\n",
      "2295/2295 [==============================] - 5s 2ms/step - loss: 0.7209 - acc: 0.7778 - val_loss: 0.7216 - val_acc: 0.8078\n",
      "Epoch 27/300\n",
      "2295/2295 [==============================] - 4s 2ms/step - loss: 0.7193 - acc: 0.8122 - val_loss: 0.7218 - val_acc: 0.7765\n",
      "Epoch 28/300\n",
      "2295/2295 [==============================] - 5s 2ms/step - loss: 0.7179 - acc: 0.8192 - val_loss: 0.7240 - val_acc: 0.7098\n",
      "Epoch 29/300\n",
      "2295/2295 [==============================] - 5s 2ms/step - loss: 0.7176 - acc: 0.8026 - val_loss: 0.7184 - val_acc: 0.8039\n",
      "Epoch 30/300\n",
      "2295/2295 [==============================] - 5s 2ms/step - loss: 0.7156 - acc: 0.8305 - val_loss: 0.7188 - val_acc: 0.7804\n",
      "Epoch 31/300\n",
      "2295/2295 [==============================] - 5s 2ms/step - loss: 0.7161 - acc: 0.7891 - val_loss: 0.7212 - val_acc: 0.6667\n",
      "Epoch 32/300\n",
      "2295/2295 [==============================] - 4s 2ms/step - loss: 0.7155 - acc: 0.7983 - val_loss: 0.7192 - val_acc: 0.7843\n",
      "Epoch 33/300\n",
      "2295/2295 [==============================] - 4s 2ms/step - loss: 0.7130 - acc: 0.8240 - val_loss: 0.7159 - val_acc: 0.7922\n",
      "Epoch 34/300\n",
      "2295/2295 [==============================] - 5s 2ms/step - loss: 0.7117 - acc: 0.8418 - val_loss: 0.7141 - val_acc: 0.8000\n",
      "Epoch 35/300\n",
      "2295/2295 [==============================] - 5s 2ms/step - loss: 0.7106 - acc: 0.8314 - val_loss: 0.7127 - val_acc: 0.8157\n",
      "Epoch 36/300\n",
      "2295/2295 [==============================] - 5s 2ms/step - loss: 0.7098 - acc: 0.8349 - val_loss: 0.7118 - val_acc: 0.8157\n",
      "Epoch 37/300\n",
      "2295/2295 [==============================] - 4s 2ms/step - loss: 0.7088 - acc: 0.8410 - val_loss: 0.7109 - val_acc: 0.8314\n",
      "Epoch 38/300\n",
      "2295/2295 [==============================] - 4s 2ms/step - loss: 0.7075 - acc: 0.8466 - val_loss: 0.7104 - val_acc: 0.8039\n",
      "Epoch 39/300\n",
      "2295/2295 [==============================] - 5s 2ms/step - loss: 0.7064 - acc: 0.8453 - val_loss: 0.7091 - val_acc: 0.8196\n",
      "Epoch 40/300\n",
      "2295/2295 [==============================] - 4s 2ms/step - loss: 0.7065 - acc: 0.8431 - val_loss: 0.7083 - val_acc: 0.8353\n",
      "Epoch 41/300\n",
      "2295/2295 [==============================] - 4s 2ms/step - loss: 0.7046 - acc: 0.8453 - val_loss: 0.7081 - val_acc: 0.8000\n",
      "Epoch 42/300\n",
      "2295/2295 [==============================] - 4s 2ms/step - loss: 0.7038 - acc: 0.8536 - val_loss: 0.7063 - val_acc: 0.8392\n",
      "Epoch 43/300\n",
      "2295/2295 [==============================] - 4s 2ms/step - loss: 0.7024 - acc: 0.8606 - val_loss: 0.7055 - val_acc: 0.8314\n",
      "Epoch 44/300\n",
      "2295/2295 [==============================] - 5s 2ms/step - loss: 0.7020 - acc: 0.8584 - val_loss: 0.7068 - val_acc: 0.8039\n",
      "Epoch 45/300\n",
      "2295/2295 [==============================] - 4s 2ms/step - loss: 0.7006 - acc: 0.8654 - val_loss: 0.7045 - val_acc: 0.8078\n",
      "Epoch 46/300\n",
      "2295/2295 [==============================] - 4s 2ms/step - loss: 0.6995 - acc: 0.8684 - val_loss: 0.7038 - val_acc: 0.8118\n",
      "Epoch 47/300\n",
      "2295/2295 [==============================] - 4s 2ms/step - loss: 0.6994 - acc: 0.8758 - val_loss: 0.7021 - val_acc: 0.8627\n",
      "Epoch 48/300\n",
      "2295/2295 [==============================] - 5s 2ms/step - loss: 0.6986 - acc: 0.8736 - val_loss: 0.7006 - val_acc: 0.8588\n",
      "Epoch 49/300\n",
      "2295/2295 [==============================] - 5s 2ms/step - loss: 0.6967 - acc: 0.8871 - val_loss: 0.7002 - val_acc: 0.8314\n",
      "Epoch 50/300\n",
      "2295/2295 [==============================] - 5s 2ms/step - loss: 0.6955 - acc: 0.8898 - val_loss: 0.6987 - val_acc: 0.8627\n",
      "Epoch 51/300\n",
      "2295/2295 [==============================] - 5s 2ms/step - loss: 0.6948 - acc: 0.8998 - val_loss: 0.6992 - val_acc: 0.8706\n",
      "Epoch 52/300\n",
      "2295/2295 [==============================] - 5s 2ms/step - loss: 0.6940 - acc: 0.9068 - val_loss: 0.6984 - val_acc: 0.8706\n",
      "Epoch 53/300\n",
      "2295/2295 [==============================] - 5s 2ms/step - loss: 0.6928 - acc: 0.9163 - val_loss: 0.6958 - val_acc: 0.8863\n",
      "Epoch 54/300\n",
      "2295/2295 [==============================] - 5s 2ms/step - loss: 0.6921 - acc: 0.9229 - val_loss: 0.6950 - val_acc: 0.8863\n",
      "Epoch 55/300\n",
      "2295/2295 [==============================] - 5s 2ms/step - loss: 0.6917 - acc: 0.9259 - val_loss: 0.6953 - val_acc: 0.8824\n",
      "Epoch 56/300\n",
      "2295/2295 [==============================] - 5s 2ms/step - loss: 0.6911 - acc: 0.9246 - val_loss: 0.6941 - val_acc: 0.8784\n",
      "Epoch 57/300\n",
      "2295/2295 [==============================] - 5s 2ms/step - loss: 0.6898 - acc: 0.9394 - val_loss: 0.6950 - val_acc: 0.8980\n",
      "Epoch 58/300\n",
      "2295/2295 [==============================] - 5s 2ms/step - loss: 0.6889 - acc: 0.9434 - val_loss: 0.6944 - val_acc: 0.9020\n",
      "Epoch 59/300\n",
      "2295/2295 [==============================] - 5s 2ms/step - loss: 0.6885 - acc: 0.9438 - val_loss: 0.6942 - val_acc: 0.9020\n",
      "Epoch 60/300\n",
      "2295/2295 [==============================] - 5s 2ms/step - loss: 0.6877 - acc: 0.9473 - val_loss: 0.6909 - val_acc: 0.9216\n"
     ]
    },
    {
     "name": "stdout",
     "output_type": "stream",
     "text": [
      "Epoch 61/300\n",
      "2295/2295 [==============================] - 4s 2ms/step - loss: 0.6870 - acc: 0.9473 - val_loss: 0.6925 - val_acc: 0.9255\n",
      "Epoch 62/300\n",
      "2295/2295 [==============================] - 4s 2ms/step - loss: 0.6865 - acc: 0.9503 - val_loss: 0.6907 - val_acc: 0.9255\n",
      "Epoch 63/300\n",
      "2295/2295 [==============================] - 4s 2ms/step - loss: 0.6858 - acc: 0.9516 - val_loss: 0.6894 - val_acc: 0.9255\n",
      "Epoch 64/300\n",
      "2295/2295 [==============================] - 4s 2ms/step - loss: 0.6861 - acc: 0.9460 - val_loss: 0.6900 - val_acc: 0.9255\n",
      "Epoch 65/300\n",
      "2295/2295 [==============================] - 4s 2ms/step - loss: 0.6860 - acc: 0.9473 - val_loss: 0.6895 - val_acc: 0.9255\n",
      "Epoch 66/300\n",
      "2295/2295 [==============================] - 4s 2ms/step - loss: 0.6847 - acc: 0.9516 - val_loss: 0.6883 - val_acc: 0.9216\n",
      "Epoch 67/300\n",
      "2295/2295 [==============================] - 4s 2ms/step - loss: 0.6842 - acc: 0.9508 - val_loss: 0.6880 - val_acc: 0.9216\n",
      "Epoch 68/300\n",
      "2295/2295 [==============================] - 4s 2ms/step - loss: 0.6843 - acc: 0.9495 - val_loss: 0.6886 - val_acc: 0.9255\n",
      "Epoch 69/300\n",
      "2295/2295 [==============================] - 4s 2ms/step - loss: 0.6837 - acc: 0.9538 - val_loss: 0.6876 - val_acc: 0.9216\n",
      "Epoch 70/300\n",
      "2295/2295 [==============================] - 4s 2ms/step - loss: 0.6836 - acc: 0.9503 - val_loss: 0.6868 - val_acc: 0.9294\n",
      "Epoch 71/300\n",
      "2295/2295 [==============================] - 4s 2ms/step - loss: 0.6830 - acc: 0.9521 - val_loss: 0.6891 - val_acc: 0.9255\n",
      "Epoch 72/300\n",
      "2295/2295 [==============================] - 4s 2ms/step - loss: 0.6831 - acc: 0.9538 - val_loss: 0.6901 - val_acc: 0.9294\n",
      "Epoch 73/300\n",
      "2295/2295 [==============================] - 4s 2ms/step - loss: 0.6826 - acc: 0.9521 - val_loss: 0.6862 - val_acc: 0.9255\n",
      "Epoch 74/300\n",
      "2295/2295 [==============================] - 4s 2ms/step - loss: 0.6820 - acc: 0.9525 - val_loss: 0.6858 - val_acc: 0.9294\n",
      "Epoch 75/300\n",
      "2295/2295 [==============================] - 4s 2ms/step - loss: 0.6821 - acc: 0.9534 - val_loss: 0.6859 - val_acc: 0.9294\n",
      "Epoch 76/300\n",
      "2295/2295 [==============================] - 4s 2ms/step - loss: 0.6820 - acc: 0.9508 - val_loss: 0.6855 - val_acc: 0.9255\n",
      "Epoch 77/300\n",
      "2295/2295 [==============================] - 4s 2ms/step - loss: 0.6814 - acc: 0.9542 - val_loss: 0.6858 - val_acc: 0.9294\n",
      "Epoch 78/300\n",
      "2295/2295 [==============================] - 5s 2ms/step - loss: 0.6814 - acc: 0.9521 - val_loss: 0.6850 - val_acc: 0.9333\n",
      "Epoch 79/300\n",
      "2295/2295 [==============================] - 5s 2ms/step - loss: 0.6809 - acc: 0.9534 - val_loss: 0.6844 - val_acc: 0.9294\n",
      "Epoch 80/300\n",
      "2295/2295 [==============================] - 5s 2ms/step - loss: 0.6810 - acc: 0.9529 - val_loss: 0.6849 - val_acc: 0.9294\n",
      "Epoch 81/300\n",
      "2295/2295 [==============================] - 5s 2ms/step - loss: 0.6807 - acc: 0.9516 - val_loss: 0.6853 - val_acc: 0.9294\n",
      "Epoch 82/300\n",
      "2295/2295 [==============================] - 5s 2ms/step - loss: 0.6812 - acc: 0.9547 - val_loss: 0.6838 - val_acc: 0.9294\n",
      "Epoch 83/300\n",
      "2295/2295 [==============================] - 4s 2ms/step - loss: 0.6801 - acc: 0.9564 - val_loss: 0.6837 - val_acc: 0.9294\n",
      "Epoch 84/300\n",
      "2295/2295 [==============================] - 4s 2ms/step - loss: 0.6803 - acc: 0.9551 - val_loss: 0.6837 - val_acc: 0.9333\n",
      "Epoch 85/300\n",
      "2295/2295 [==============================] - 5s 2ms/step - loss: 0.6799 - acc: 0.9564 - val_loss: 0.6843 - val_acc: 0.9294\n",
      "Epoch 86/300\n",
      "2295/2295 [==============================] - 5s 2ms/step - loss: 0.6796 - acc: 0.9577 - val_loss: 0.6830 - val_acc: 0.9294\n",
      "Epoch 87/300\n",
      "2295/2295 [==============================] - 5s 2ms/step - loss: 0.6797 - acc: 0.9560 - val_loss: 0.6832 - val_acc: 0.9373\n",
      "Epoch 88/300\n",
      "2295/2295 [==============================] - 4s 2ms/step - loss: 0.6796 - acc: 0.9564 - val_loss: 0.6832 - val_acc: 0.9333\n",
      "Epoch 89/300\n",
      "2295/2295 [==============================] - 4s 2ms/step - loss: 0.6790 - acc: 0.9564 - val_loss: 0.6832 - val_acc: 0.9294\n",
      "Epoch 90/300\n",
      "2295/2295 [==============================] - 5s 2ms/step - loss: 0.6790 - acc: 0.9577 - val_loss: 0.6833 - val_acc: 0.9294\n",
      "Epoch 91/300\n",
      "2295/2295 [==============================] - 4s 2ms/step - loss: 0.6791 - acc: 0.9556 - val_loss: 0.6825 - val_acc: 0.9373\n",
      "Epoch 92/300\n",
      "2295/2295 [==============================] - 4s 2ms/step - loss: 0.6792 - acc: 0.9556 - val_loss: 0.6822 - val_acc: 0.9333\n",
      "Epoch 93/300\n",
      "2295/2295 [==============================] - 5s 2ms/step - loss: 0.6790 - acc: 0.9573 - val_loss: 0.6819 - val_acc: 0.9373\n",
      "Epoch 94/300\n",
      "2295/2295 [==============================] - 5s 2ms/step - loss: 0.6784 - acc: 0.9577 - val_loss: 0.6817 - val_acc: 0.9333\n",
      "Epoch 95/300\n",
      "2295/2295 [==============================] - 4s 2ms/step - loss: 0.6784 - acc: 0.9595 - val_loss: 0.6816 - val_acc: 0.9333\n",
      "Epoch 96/300\n",
      "2295/2295 [==============================] - 4s 2ms/step - loss: 0.6781 - acc: 0.9586 - val_loss: 0.6821 - val_acc: 0.9333\n",
      "Epoch 97/300\n",
      "2295/2295 [==============================] - 5s 2ms/step - loss: 0.6782 - acc: 0.9595 - val_loss: 0.6811 - val_acc: 0.9412\n",
      "Epoch 98/300\n",
      "2295/2295 [==============================] - 4s 2ms/step - loss: 0.6783 - acc: 0.9595 - val_loss: 0.6814 - val_acc: 0.9373\n",
      "Epoch 99/300\n",
      "2295/2295 [==============================] - 4s 2ms/step - loss: 0.6776 - acc: 0.9582 - val_loss: 0.6849 - val_acc: 0.9294\n",
      "Epoch 100/300\n",
      "2295/2295 [==============================] - 4s 2ms/step - loss: 0.6778 - acc: 0.9603 - val_loss: 0.6835 - val_acc: 0.9333\n",
      "Epoch 101/300\n",
      "2295/2295 [==============================] - 4s 2ms/step - loss: 0.6780 - acc: 0.9569 - val_loss: 0.6821 - val_acc: 0.9294\n",
      "Epoch 102/300\n",
      "2295/2295 [==============================] - 5s 2ms/step - loss: 0.6775 - acc: 0.9599 - val_loss: 0.6819 - val_acc: 0.9294\n",
      "Epoch 103/300\n",
      "2295/2295 [==============================] - 5s 2ms/step - loss: 0.6773 - acc: 0.9595 - val_loss: 0.6803 - val_acc: 0.9412\n",
      "Epoch 104/300\n",
      "2295/2295 [==============================] - 5s 2ms/step - loss: 0.6771 - acc: 0.9603 - val_loss: 0.6803 - val_acc: 0.9373\n",
      "Epoch 105/300\n",
      "2295/2295 [==============================] - 5s 2ms/step - loss: 0.6774 - acc: 0.9612 - val_loss: 0.6815 - val_acc: 0.9373\n",
      "Epoch 106/300\n",
      "2295/2295 [==============================] - 5s 2ms/step - loss: 0.6772 - acc: 0.9634 - val_loss: 0.6813 - val_acc: 0.9373\n",
      "Epoch 107/300\n",
      "2295/2295 [==============================] - 5s 2ms/step - loss: 0.6767 - acc: 0.9634 - val_loss: 0.6805 - val_acc: 0.9373\n",
      "Epoch 108/300\n",
      "2295/2295 [==============================] - 5s 2ms/step - loss: 0.6766 - acc: 0.9625 - val_loss: 0.6801 - val_acc: 0.9373\n",
      "Epoch 109/300\n",
      "2295/2295 [==============================] - 5s 2ms/step - loss: 0.6767 - acc: 0.9625 - val_loss: 0.6800 - val_acc: 0.9373\n",
      "Epoch 110/300\n",
      "2295/2295 [==============================] - 5s 2ms/step - loss: 0.6765 - acc: 0.9617 - val_loss: 0.6801 - val_acc: 0.9373\n",
      "Epoch 111/300\n",
      "2295/2295 [==============================] - 5s 2ms/step - loss: 0.6765 - acc: 0.9621 - val_loss: 0.6790 - val_acc: 0.9490\n",
      "Epoch 112/300\n",
      "2295/2295 [==============================] - 5s 2ms/step - loss: 0.6760 - acc: 0.9634 - val_loss: 0.6796 - val_acc: 0.9373\n",
      "Epoch 113/300\n",
      "2295/2295 [==============================] - 5s 2ms/step - loss: 0.6760 - acc: 0.9656 - val_loss: 0.6801 - val_acc: 0.9412\n",
      "Epoch 114/300\n",
      "2295/2295 [==============================] - 5s 2ms/step - loss: 0.6758 - acc: 0.9651 - val_loss: 0.6808 - val_acc: 0.9373\n",
      "Epoch 115/300\n",
      "2295/2295 [==============================] - 5s 2ms/step - loss: 0.6757 - acc: 0.9664 - val_loss: 0.6784 - val_acc: 0.9529\n",
      "Epoch 116/300\n",
      "2295/2295 [==============================] - 5s 2ms/step - loss: 0.6756 - acc: 0.9660 - val_loss: 0.6794 - val_acc: 0.9412\n",
      "Epoch 117/300\n",
      "2295/2295 [==============================] - 5s 2ms/step - loss: 0.6755 - acc: 0.9712 - val_loss: 0.6811 - val_acc: 0.9294\n",
      "Epoch 118/300\n",
      "2295/2295 [==============================] - 5s 2ms/step - loss: 0.6759 - acc: 0.9691 - val_loss: 0.6788 - val_acc: 0.9725\n",
      "Epoch 119/300\n",
      "2295/2295 [==============================] - 5s 2ms/step - loss: 0.6759 - acc: 0.9682 - val_loss: 0.6791 - val_acc: 0.9412\n",
      "Epoch 120/300\n",
      "2295/2295 [==============================] - 5s 2ms/step - loss: 0.6764 - acc: 0.9678 - val_loss: 0.6779 - val_acc: 0.9569\n",
      "Epoch 121/300\n"
     ]
    },
    {
     "name": "stdout",
     "output_type": "stream",
     "text": [
      "2295/2295 [==============================] - 4s 2ms/step - loss: 0.6752 - acc: 0.9669 - val_loss: 0.6783 - val_acc: 0.9529\n",
      "Epoch 122/300\n",
      "2295/2295 [==============================] - 4s 2ms/step - loss: 0.6748 - acc: 0.9673 - val_loss: 0.6774 - val_acc: 0.9529\n",
      "Epoch 123/300\n",
      "2295/2295 [==============================] - 4s 2ms/step - loss: 0.6754 - acc: 0.9678 - val_loss: 0.6782 - val_acc: 0.9529\n",
      "Epoch 124/300\n",
      "2295/2295 [==============================] - 4s 2ms/step - loss: 0.6750 - acc: 0.9678 - val_loss: 0.6780 - val_acc: 0.9529\n",
      "Epoch 125/300\n",
      "2295/2295 [==============================] - 4s 2ms/step - loss: 0.6751 - acc: 0.9704 - val_loss: 0.6776 - val_acc: 0.9725\n",
      "Epoch 126/300\n",
      "2295/2295 [==============================] - 4s 2ms/step - loss: 0.6746 - acc: 0.9708 - val_loss: 0.6771 - val_acc: 0.9608\n",
      "Epoch 127/300\n",
      "2295/2295 [==============================] - 4s 2ms/step - loss: 0.6747 - acc: 0.9721 - val_loss: 0.6815 - val_acc: 0.9333\n",
      "Epoch 128/300\n",
      "2295/2295 [==============================] - 4s 2ms/step - loss: 0.6747 - acc: 0.9712 - val_loss: 0.6768 - val_acc: 0.9569\n",
      "Epoch 129/300\n",
      "2295/2295 [==============================] - 4s 2ms/step - loss: 0.6741 - acc: 0.9721 - val_loss: 0.6766 - val_acc: 0.9608\n",
      "Epoch 130/300\n",
      "2295/2295 [==============================] - 4s 2ms/step - loss: 0.6740 - acc: 0.9730 - val_loss: 0.6763 - val_acc: 0.9569\n",
      "Epoch 131/300\n",
      "2295/2295 [==============================] - 4s 2ms/step - loss: 0.6740 - acc: 0.9739 - val_loss: 0.6785 - val_acc: 0.9490\n",
      "Epoch 132/300\n",
      "2295/2295 [==============================] - 4s 2ms/step - loss: 0.6736 - acc: 0.9752 - val_loss: 0.6760 - val_acc: 0.9608\n",
      "Epoch 133/300\n",
      "2295/2295 [==============================] - 4s 2ms/step - loss: 0.6735 - acc: 0.9773 - val_loss: 0.6758 - val_acc: 0.9608\n",
      "Epoch 134/300\n",
      "2295/2295 [==============================] - 4s 2ms/step - loss: 0.6738 - acc: 0.9743 - val_loss: 0.6769 - val_acc: 0.9608\n",
      "Epoch 135/300\n",
      "2295/2295 [==============================] - 4s 2ms/step - loss: 0.6739 - acc: 0.9756 - val_loss: 0.6764 - val_acc: 0.9608\n",
      "Epoch 136/300\n",
      "2295/2295 [==============================] - 4s 2ms/step - loss: 0.6734 - acc: 0.9756 - val_loss: 0.6755 - val_acc: 0.9608\n",
      "Epoch 137/300\n",
      "2295/2295 [==============================] - 4s 2ms/step - loss: 0.6735 - acc: 0.9739 - val_loss: 0.6755 - val_acc: 0.9608\n",
      "Epoch 138/300\n",
      "2295/2295 [==============================] - 4s 2ms/step - loss: 0.6734 - acc: 0.9773 - val_loss: 0.6753 - val_acc: 0.9608\n",
      "Epoch 139/300\n",
      "2295/2295 [==============================] - 4s 2ms/step - loss: 0.6732 - acc: 0.9791 - val_loss: 0.6752 - val_acc: 0.9647\n",
      "Epoch 140/300\n",
      "2295/2295 [==============================] - 4s 2ms/step - loss: 0.6734 - acc: 0.9760 - val_loss: 0.6758 - val_acc: 0.9804\n",
      "Epoch 141/300\n",
      "2295/2295 [==============================] - 4s 2ms/step - loss: 0.6731 - acc: 0.9778 - val_loss: 0.6750 - val_acc: 0.9647\n",
      "Epoch 142/300\n",
      "2295/2295 [==============================] - 5s 2ms/step - loss: 0.6727 - acc: 0.9813 - val_loss: 0.6746 - val_acc: 0.9725\n",
      "Epoch 143/300\n",
      "2295/2295 [==============================] - 4s 2ms/step - loss: 0.6730 - acc: 0.9778 - val_loss: 0.6753 - val_acc: 0.9647\n",
      "Epoch 144/300\n",
      "2295/2295 [==============================] - 4s 2ms/step - loss: 0.6726 - acc: 0.9808 - val_loss: 0.6751 - val_acc: 0.9647\n",
      "Epoch 145/300\n",
      "2295/2295 [==============================] - 4s 2ms/step - loss: 0.6723 - acc: 0.9808 - val_loss: 0.6743 - val_acc: 0.9765\n",
      "Epoch 146/300\n",
      "2295/2295 [==============================] - 4s 2ms/step - loss: 0.6724 - acc: 0.9826 - val_loss: 0.6752 - val_acc: 0.9647\n",
      "Epoch 147/300\n",
      "2295/2295 [==============================] - 4s 2ms/step - loss: 0.6720 - acc: 0.9843 - val_loss: 0.6745 - val_acc: 0.9686\n",
      "Epoch 148/300\n",
      "2295/2295 [==============================] - 4s 2ms/step - loss: 0.6725 - acc: 0.9826 - val_loss: 0.6748 - val_acc: 0.9647\n",
      "Epoch 149/300\n",
      "2295/2295 [==============================] - 4s 2ms/step - loss: 0.6724 - acc: 0.9826 - val_loss: 0.6759 - val_acc: 0.9569\n",
      "Epoch 150/300\n",
      "2295/2295 [==============================] - 4s 2ms/step - loss: 0.6718 - acc: 0.9869 - val_loss: 0.6752 - val_acc: 0.9608\n",
      "Epoch 151/300\n",
      "2295/2295 [==============================] - 4s 2ms/step - loss: 0.6727 - acc: 0.9800 - val_loss: 0.6737 - val_acc: 0.9882\n",
      "Epoch 152/300\n",
      "2295/2295 [==============================] - 4s 2ms/step - loss: 0.6718 - acc: 0.9852 - val_loss: 0.6766 - val_acc: 0.9569\n",
      "Epoch 153/300\n",
      "2295/2295 [==============================] - 4s 2ms/step - loss: 0.6720 - acc: 0.9826 - val_loss: 0.6734 - val_acc: 0.9804\n",
      "Epoch 154/300\n",
      "2295/2295 [==============================] - 4s 2ms/step - loss: 0.6717 - acc: 0.9852 - val_loss: 0.6735 - val_acc: 0.9843\n",
      "Epoch 155/300\n",
      "2295/2295 [==============================] - 4s 2ms/step - loss: 0.6717 - acc: 0.9847 - val_loss: 0.6745 - val_acc: 0.9608\n",
      "Epoch 156/300\n",
      "2295/2295 [==============================] - 5s 2ms/step - loss: 0.6714 - acc: 0.9856 - val_loss: 0.6734 - val_acc: 0.9765\n",
      "Epoch 157/300\n",
      "2295/2295 [==============================] - 4s 2ms/step - loss: 0.6714 - acc: 0.9887 - val_loss: 0.6778 - val_acc: 0.9490\n",
      "Epoch 158/300\n",
      "2295/2295 [==============================] - 4s 2ms/step - loss: 0.6713 - acc: 0.9887 - val_loss: 0.6729 - val_acc: 0.9882\n",
      "Epoch 159/300\n",
      "2295/2295 [==============================] - 5s 2ms/step - loss: 0.6712 - acc: 0.9874 - val_loss: 0.6732 - val_acc: 0.9765\n",
      "Epoch 160/300\n",
      "2295/2295 [==============================] - 4s 2ms/step - loss: 0.6712 - acc: 0.9882 - val_loss: 0.6729 - val_acc: 0.9765\n",
      "Epoch 161/300\n",
      "2295/2295 [==============================] - 4s 2ms/step - loss: 0.6712 - acc: 0.9865 - val_loss: 0.6725 - val_acc: 0.9882\n",
      "Epoch 162/300\n",
      "2295/2295 [==============================] - 4s 2ms/step - loss: 0.6709 - acc: 0.9895 - val_loss: 0.6736 - val_acc: 0.9686\n",
      "Epoch 163/300\n",
      "2295/2295 [==============================] - 4s 2ms/step - loss: 0.6708 - acc: 0.9895 - val_loss: 0.6724 - val_acc: 0.9882\n",
      "Epoch 164/300\n",
      "2295/2295 [==============================] - 4s 2ms/step - loss: 0.6709 - acc: 0.9887 - val_loss: 0.6728 - val_acc: 0.9765\n",
      "Epoch 165/300\n",
      "2295/2295 [==============================] - 4s 2ms/step - loss: 0.6713 - acc: 0.9887 - val_loss: 0.6760 - val_acc: 0.9569\n",
      "Epoch 166/300\n",
      "2295/2295 [==============================] - 4s 2ms/step - loss: 0.6711 - acc: 0.9887 - val_loss: 0.6723 - val_acc: 0.9804\n",
      "Epoch 167/300\n",
      "2295/2295 [==============================] - 5s 2ms/step - loss: 0.6707 - acc: 0.9908 - val_loss: 0.6721 - val_acc: 0.9882\n",
      "Epoch 168/300\n",
      "2295/2295 [==============================] - 4s 2ms/step - loss: 0.6707 - acc: 0.9900 - val_loss: 0.6732 - val_acc: 0.9765\n",
      "Epoch 169/300\n",
      "2295/2295 [==============================] - 4s 2ms/step - loss: 0.6704 - acc: 0.9908 - val_loss: 0.6728 - val_acc: 0.9882\n",
      "Epoch 170/300\n",
      "2295/2295 [==============================] - 5s 2ms/step - loss: 0.6709 - acc: 0.9891 - val_loss: 0.6758 - val_acc: 0.9569\n",
      "Epoch 171/300\n",
      "2295/2295 [==============================] - 4s 2ms/step - loss: 0.6704 - acc: 0.9887 - val_loss: 0.6723 - val_acc: 0.9922\n",
      "Epoch 172/300\n",
      "2295/2295 [==============================] - 4s 2ms/step - loss: 0.6705 - acc: 0.9904 - val_loss: 0.6725 - val_acc: 0.9765\n",
      "Epoch 173/300\n",
      "2295/2295 [==============================] - 5s 2ms/step - loss: 0.6703 - acc: 0.9908 - val_loss: 0.6714 - val_acc: 0.9922\n",
      "Epoch 174/300\n",
      "2295/2295 [==============================] - 5s 2ms/step - loss: 0.6701 - acc: 0.9917 - val_loss: 0.6732 - val_acc: 0.9686\n",
      "Epoch 175/300\n",
      "2295/2295 [==============================] - 5s 2ms/step - loss: 0.6701 - acc: 0.9922 - val_loss: 0.6748 - val_acc: 0.9608\n",
      "Epoch 176/300\n",
      "2295/2295 [==============================] - 5s 2ms/step - loss: 0.6705 - acc: 0.9891 - val_loss: 0.6712 - val_acc: 0.9961\n",
      "Epoch 177/300\n",
      "2295/2295 [==============================] - 5s 2ms/step - loss: 0.6700 - acc: 0.9913 - val_loss: 0.6729 - val_acc: 0.9725\n",
      "Epoch 178/300\n",
      "2295/2295 [==============================] - 5s 2ms/step - loss: 0.6700 - acc: 0.9926 - val_loss: 0.6721 - val_acc: 0.9765\n",
      "Epoch 179/300\n",
      "2295/2295 [==============================] - 5s 2ms/step - loss: 0.6702 - acc: 0.9913 - val_loss: 0.6710 - val_acc: 0.9922\n",
      "Epoch 180/300\n",
      "2295/2295 [==============================] - 5s 2ms/step - loss: 0.6700 - acc: 0.9922 - val_loss: 0.6724 - val_acc: 0.9765\n"
     ]
    },
    {
     "name": "stdout",
     "output_type": "stream",
     "text": [
      "Epoch 181/300\n",
      "2295/2295 [==============================] - 4s 2ms/step - loss: 0.6699 - acc: 0.9930 - val_loss: 0.6710 - val_acc: 0.9922\n",
      "Epoch 182/300\n",
      "2295/2295 [==============================] - 4s 2ms/step - loss: 0.6698 - acc: 0.9930 - val_loss: 0.6709 - val_acc: 0.9922\n",
      "Epoch 183/300\n",
      "2295/2295 [==============================] - 4s 2ms/step - loss: 0.6697 - acc: 0.9926 - val_loss: 0.6741 - val_acc: 0.9647\n",
      "Epoch 184/300\n",
      "2295/2295 [==============================] - 4s 2ms/step - loss: 0.6703 - acc: 0.9900 - val_loss: 0.6707 - val_acc: 0.9922\n",
      "Epoch 185/300\n",
      "2295/2295 [==============================] - 4s 2ms/step - loss: 0.6695 - acc: 0.9948 - val_loss: 0.6728 - val_acc: 0.9725\n",
      "Epoch 186/300\n",
      "2295/2295 [==============================] - 4s 2ms/step - loss: 0.6698 - acc: 0.9939 - val_loss: 0.6715 - val_acc: 0.9765\n",
      "Epoch 187/300\n",
      "2295/2295 [==============================] - 4s 2ms/step - loss: 0.6694 - acc: 0.9943 - val_loss: 0.6706 - val_acc: 0.9922\n",
      "Epoch 188/300\n",
      "2295/2295 [==============================] - 4s 2ms/step - loss: 0.6695 - acc: 0.9939 - val_loss: 0.6710 - val_acc: 0.9843\n",
      "Epoch 189/300\n",
      "2295/2295 [==============================] - 4s 2ms/step - loss: 0.6693 - acc: 0.9939 - val_loss: 0.6709 - val_acc: 0.9843\n",
      "Epoch 190/300\n",
      "2295/2295 [==============================] - 4s 2ms/step - loss: 0.6692 - acc: 0.9956 - val_loss: 0.6703 - val_acc: 0.9961\n",
      "Epoch 191/300\n",
      "2295/2295 [==============================] - 4s 2ms/step - loss: 0.6692 - acc: 0.9952 - val_loss: 0.6705 - val_acc: 0.9922\n",
      "Epoch 192/300\n",
      "2295/2295 [==============================] - 4s 2ms/step - loss: 0.6691 - acc: 0.9965 - val_loss: 0.6706 - val_acc: 0.9922\n",
      "Epoch 193/300\n",
      "2295/2295 [==============================] - 4s 2ms/step - loss: 0.6693 - acc: 0.9952 - val_loss: 0.6715 - val_acc: 0.9765\n",
      "Epoch 194/300\n",
      "2295/2295 [==============================] - 4s 2ms/step - loss: 0.6691 - acc: 0.9952 - val_loss: 0.6707 - val_acc: 0.9922\n",
      "Epoch 195/300\n",
      "2295/2295 [==============================] - 4s 2ms/step - loss: 0.6690 - acc: 0.9961 - val_loss: 0.6701 - val_acc: 0.9961\n",
      "Epoch 196/300\n",
      "2295/2295 [==============================] - 4s 2ms/step - loss: 0.6693 - acc: 0.9948 - val_loss: 0.6702 - val_acc: 1.0000\n",
      "Epoch 197/300\n",
      "2295/2295 [==============================] - 4s 2ms/step - loss: 0.6691 - acc: 0.9948 - val_loss: 0.6700 - val_acc: 0.9961\n",
      "Epoch 198/300\n",
      "2295/2295 [==============================] - 4s 2ms/step - loss: 0.6689 - acc: 0.9952 - val_loss: 0.6702 - val_acc: 0.9922\n",
      "Epoch 199/300\n",
      "2295/2295 [==============================] - 4s 2ms/step - loss: 0.6689 - acc: 0.9952 - val_loss: 0.6700 - val_acc: 0.9922\n",
      "Epoch 200/300\n",
      "2295/2295 [==============================] - 4s 2ms/step - loss: 0.6691 - acc: 0.9939 - val_loss: 0.6703 - val_acc: 0.9922\n",
      "Epoch 201/300\n",
      "2295/2295 [==============================] - 4s 2ms/step - loss: 0.6690 - acc: 0.9956 - val_loss: 0.6700 - val_acc: 0.9922\n",
      "Epoch 202/300\n",
      "2295/2295 [==============================] - 4s 2ms/step - loss: 0.6688 - acc: 0.9961 - val_loss: 0.6698 - val_acc: 1.0000\n",
      "Epoch 203/300\n",
      "2295/2295 [==============================] - 4s 2ms/step - loss: 0.6690 - acc: 0.9956 - val_loss: 0.6697 - val_acc: 1.0000\n",
      "Epoch 204/300\n",
      "2295/2295 [==============================] - 4s 2ms/step - loss: 0.6690 - acc: 0.9961 - val_loss: 0.6728 - val_acc: 0.9725\n",
      "Epoch 205/300\n",
      "2295/2295 [==============================] - 4s 2ms/step - loss: 0.6690 - acc: 0.9956 - val_loss: 0.6697 - val_acc: 1.0000\n",
      "Epoch 206/300\n",
      "2295/2295 [==============================] - 4s 2ms/step - loss: 0.6689 - acc: 0.9965 - val_loss: 0.6703 - val_acc: 0.9882\n",
      "Epoch 207/300\n",
      "2295/2295 [==============================] - 4s 2ms/step - loss: 0.6688 - acc: 0.9948 - val_loss: 0.6699 - val_acc: 0.9922\n",
      "Epoch 208/300\n",
      "2295/2295 [==============================] - 4s 2ms/step - loss: 0.6688 - acc: 0.9965 - val_loss: 0.6695 - val_acc: 0.9961\n",
      "Epoch 209/300\n",
      "2295/2295 [==============================] - 5s 2ms/step - loss: 0.6685 - acc: 0.9974 - val_loss: 0.6694 - val_acc: 0.9961\n",
      "Epoch 210/300\n",
      "2295/2295 [==============================] - 5s 2ms/step - loss: 0.6686 - acc: 0.9969 - val_loss: 0.6694 - val_acc: 0.9961\n",
      "Epoch 211/300\n",
      "2295/2295 [==============================] - 5s 2ms/step - loss: 0.6687 - acc: 0.9961 - val_loss: 0.6706 - val_acc: 0.9882\n",
      "Epoch 212/300\n",
      "2295/2295 [==============================] - 5s 2ms/step - loss: 0.6684 - acc: 0.9965 - val_loss: 0.6697 - val_acc: 0.9922\n",
      "Epoch 213/300\n",
      "2295/2295 [==============================] - 5s 2ms/step - loss: 0.6684 - acc: 0.9974 - val_loss: 0.6697 - val_acc: 0.9922\n",
      "Epoch 214/300\n",
      "2295/2295 [==============================] - 4s 2ms/step - loss: 0.6685 - acc: 0.9956 - val_loss: 0.6700 - val_acc: 0.9922\n",
      "Epoch 215/300\n",
      "2295/2295 [==============================] - 5s 2ms/step - loss: 0.6685 - acc: 0.9956 - val_loss: 0.6692 - val_acc: 1.0000\n",
      "Epoch 216/300\n",
      "2295/2295 [==============================] - 5s 2ms/step - loss: 0.6684 - acc: 0.9961 - val_loss: 0.6696 - val_acc: 0.9922\n",
      "Epoch 217/300\n",
      "2295/2295 [==============================] - 5s 2ms/step - loss: 0.6684 - acc: 0.9983 - val_loss: 0.6695 - val_acc: 0.9922\n",
      "Epoch 218/300\n",
      "2295/2295 [==============================] - 5s 2ms/step - loss: 0.6684 - acc: 0.9974 - val_loss: 0.6704 - val_acc: 0.9882\n",
      "Epoch 219/300\n",
      "2295/2295 [==============================] - 5s 2ms/step - loss: 0.6685 - acc: 0.9961 - val_loss: 0.6692 - val_acc: 1.0000\n",
      "Epoch 220/300\n",
      "2295/2295 [==============================] - 5s 2ms/step - loss: 0.6684 - acc: 0.9961 - val_loss: 0.6690 - val_acc: 1.0000\n",
      "Epoch 221/300\n",
      "2295/2295 [==============================] - 5s 2ms/step - loss: 0.6682 - acc: 0.9969 - val_loss: 0.6699 - val_acc: 0.9882\n",
      "Epoch 222/300\n",
      "2295/2295 [==============================] - 5s 2ms/step - loss: 0.6682 - acc: 0.9969 - val_loss: 0.6690 - val_acc: 1.0000\n",
      "Epoch 223/300\n",
      "2295/2295 [==============================] - 5s 2ms/step - loss: 0.6682 - acc: 0.9974 - val_loss: 0.6689 - val_acc: 0.9961\n",
      "Epoch 224/300\n",
      "2295/2295 [==============================] - 5s 2ms/step - loss: 0.6681 - acc: 0.9983 - val_loss: 0.6691 - val_acc: 0.9961\n",
      "Epoch 225/300\n",
      "2295/2295 [==============================] - 5s 2ms/step - loss: 0.6682 - acc: 0.9983 - val_loss: 0.6691 - val_acc: 0.9961\n",
      "Epoch 226/300\n",
      "2295/2295 [==============================] - 5s 2ms/step - loss: 0.6681 - acc: 0.9987 - val_loss: 0.6688 - val_acc: 1.0000\n",
      "Epoch 227/300\n",
      "2295/2295 [==============================] - 5s 2ms/step - loss: 0.6681 - acc: 0.9978 - val_loss: 0.6688 - val_acc: 1.0000\n",
      "Epoch 228/300\n",
      "2295/2295 [==============================] - 5s 2ms/step - loss: 0.6686 - acc: 0.9956 - val_loss: 0.6703 - val_acc: 0.9882\n",
      "Epoch 229/300\n",
      "2295/2295 [==============================] - 5s 2ms/step - loss: 0.6695 - acc: 0.9917 - val_loss: 0.6689 - val_acc: 0.9961\n",
      "Epoch 230/300\n",
      "2295/2295 [==============================] - 5s 2ms/step - loss: 0.6682 - acc: 0.9974 - val_loss: 0.6688 - val_acc: 0.9961\n",
      "Epoch 231/300\n",
      "2295/2295 [==============================] - 5s 2ms/step - loss: 0.6680 - acc: 0.9983 - val_loss: 0.6687 - val_acc: 1.0000\n",
      "Epoch 232/300\n",
      "2295/2295 [==============================] - 5s 2ms/step - loss: 0.6679 - acc: 0.9983 - val_loss: 0.6689 - val_acc: 0.9961\n",
      "Epoch 233/300\n",
      "2295/2295 [==============================] - 5s 2ms/step - loss: 0.6679 - acc: 0.9991 - val_loss: 0.6688 - val_acc: 0.9961\n",
      "Epoch 234/300\n",
      "2295/2295 [==============================] - 5s 2ms/step - loss: 0.6679 - acc: 0.9987 - val_loss: 0.6686 - val_acc: 1.0000\n",
      "Epoch 235/300\n",
      "2295/2295 [==============================] - 5s 2ms/step - loss: 0.6679 - acc: 0.9983 - val_loss: 0.6695 - val_acc: 0.9922\n",
      "Epoch 236/300\n",
      "2295/2295 [==============================] - 5s 2ms/step - loss: 0.6680 - acc: 0.9969 - val_loss: 0.6688 - val_acc: 0.9961\n",
      "Epoch 237/300\n",
      "2295/2295 [==============================] - 5s 2ms/step - loss: 0.6678 - acc: 0.9987 - val_loss: 0.6685 - val_acc: 1.0000\n",
      "Epoch 238/300\n",
      "2295/2295 [==============================] - 5s 2ms/step - loss: 0.6679 - acc: 0.9991 - val_loss: 0.6687 - val_acc: 0.9961\n",
      "Epoch 239/300\n",
      "2295/2295 [==============================] - 5s 2ms/step - loss: 0.6685 - acc: 0.9956 - val_loss: 0.6706 - val_acc: 0.9882\n",
      "Epoch 240/300\n",
      "2295/2295 [==============================] - 5s 2ms/step - loss: 0.6683 - acc: 0.9965 - val_loss: 0.6713 - val_acc: 0.9804\n"
     ]
    },
    {
     "name": "stdout",
     "output_type": "stream",
     "text": [
      "Epoch 241/300\n",
      "2295/2295 [==============================] - 4s 2ms/step - loss: 0.6681 - acc: 0.9965 - val_loss: 0.6691 - val_acc: 0.9961\n",
      "Epoch 242/300\n",
      "2295/2295 [==============================] - 4s 2ms/step - loss: 0.6680 - acc: 0.9974 - val_loss: 0.6685 - val_acc: 0.9961\n",
      "Epoch 243/300\n",
      "2295/2295 [==============================] - 4s 2ms/step - loss: 0.6677 - acc: 0.9996 - val_loss: 0.6684 - val_acc: 1.0000\n",
      "Epoch 244/300\n",
      "2295/2295 [==============================] - 4s 2ms/step - loss: 0.6677 - acc: 0.9987 - val_loss: 0.6684 - val_acc: 1.0000\n",
      "Epoch 245/300\n",
      "2295/2295 [==============================] - 4s 2ms/step - loss: 0.6677 - acc: 0.9987 - val_loss: 0.6687 - val_acc: 0.9961\n",
      "Epoch 246/300\n",
      "2295/2295 [==============================] - 4s 2ms/step - loss: 0.6677 - acc: 0.9996 - val_loss: 0.6687 - val_acc: 0.9961\n",
      "Epoch 247/300\n",
      "2295/2295 [==============================] - 4s 2ms/step - loss: 0.6677 - acc: 0.9987 - val_loss: 0.6684 - val_acc: 1.0000\n",
      "Epoch 248/300\n",
      "2295/2295 [==============================] - 4s 2ms/step - loss: 0.6676 - acc: 0.9987 - val_loss: 0.6684 - val_acc: 1.0000\n",
      "Epoch 249/300\n",
      "2295/2295 [==============================] - 4s 2ms/step - loss: 0.6676 - acc: 0.9991 - val_loss: 0.6685 - val_acc: 0.9961\n",
      "Epoch 250/300\n",
      "2295/2295 [==============================] - 4s 2ms/step - loss: 0.6678 - acc: 0.9983 - val_loss: 0.6685 - val_acc: 0.9961\n",
      "Epoch 251/300\n",
      "2295/2295 [==============================] - 4s 2ms/step - loss: 0.6677 - acc: 0.9983 - val_loss: 0.6687 - val_acc: 0.9922\n",
      "Epoch 252/300\n",
      "2295/2295 [==============================] - 4s 2ms/step - loss: 0.6677 - acc: 0.9987 - val_loss: 0.6688 - val_acc: 0.9961\n",
      "Epoch 253/300\n",
      "2295/2295 [==============================] - 4s 2ms/step - loss: 0.6676 - acc: 0.9983 - val_loss: 0.6683 - val_acc: 1.0000\n",
      "Epoch 254/300\n",
      "2295/2295 [==============================] - 4s 2ms/step - loss: 0.6676 - acc: 0.9978 - val_loss: 0.6683 - val_acc: 1.0000\n",
      "Epoch 255/300\n",
      "2295/2295 [==============================] - 4s 2ms/step - loss: 0.6676 - acc: 0.9991 - val_loss: 0.6688 - val_acc: 0.9961\n",
      "Epoch 256/300\n",
      "2295/2295 [==============================] - 4s 2ms/step - loss: 0.6675 - acc: 0.9996 - val_loss: 0.6682 - val_acc: 1.0000\n",
      "Epoch 257/300\n",
      "2295/2295 [==============================] - 4s 2ms/step - loss: 0.6678 - acc: 0.9983 - val_loss: 0.6681 - val_acc: 1.0000\n",
      "Epoch 258/300\n",
      "2295/2295 [==============================] - 4s 2ms/step - loss: 0.6676 - acc: 0.9983 - val_loss: 0.6683 - val_acc: 0.9961\n",
      "Epoch 259/300\n",
      "2295/2295 [==============================] - 4s 2ms/step - loss: 0.6675 - acc: 0.9991 - val_loss: 0.6684 - val_acc: 0.9961\n",
      "Epoch 260/300\n",
      "2295/2295 [==============================] - 4s 2ms/step - loss: 0.6676 - acc: 0.9983 - val_loss: 0.6686 - val_acc: 0.9961\n",
      "Epoch 261/300\n",
      "2295/2295 [==============================] - 4s 2ms/step - loss: 0.6676 - acc: 0.9983 - val_loss: 0.6682 - val_acc: 1.0000\n",
      "Epoch 262/300\n",
      "2295/2295 [==============================] - 5s 2ms/step - loss: 0.6674 - acc: 0.9996 - val_loss: 0.6688 - val_acc: 0.9961\n",
      "Epoch 263/300\n",
      "2295/2295 [==============================] - 4s 2ms/step - loss: 0.6676 - acc: 0.9991 - val_loss: 0.6685 - val_acc: 0.9961\n",
      "Epoch 264/300\n",
      "2295/2295 [==============================] - 4s 2ms/step - loss: 0.6674 - acc: 0.9991 - val_loss: 0.6680 - val_acc: 1.0000\n",
      "Epoch 265/300\n",
      "2295/2295 [==============================] - 5s 2ms/step - loss: 0.6675 - acc: 0.9996 - val_loss: 0.6681 - val_acc: 1.0000\n",
      "Epoch 266/300\n",
      "2295/2295 [==============================] - 4s 2ms/step - loss: 0.6674 - acc: 0.9991 - val_loss: 0.6681 - val_acc: 1.0000\n",
      "Epoch 267/300\n",
      "2295/2295 [==============================] - 4s 2ms/step - loss: 0.6676 - acc: 0.9987 - val_loss: 0.6682 - val_acc: 0.9961\n",
      "Epoch 268/300\n",
      "2295/2295 [==============================] - 4s 2ms/step - loss: 0.6675 - acc: 0.9983 - val_loss: 0.6682 - val_acc: 0.9961\n",
      "Epoch 269/300\n",
      "2295/2295 [==============================] - 4s 2ms/step - loss: 0.6673 - acc: 0.9996 - val_loss: 0.6680 - val_acc: 1.0000\n",
      "Epoch 270/300\n",
      "2295/2295 [==============================] - 4s 2ms/step - loss: 0.6674 - acc: 0.9991 - val_loss: 0.6681 - val_acc: 1.0000\n",
      "Epoch 271/300\n",
      "2295/2295 [==============================] - 4s 2ms/step - loss: 0.6674 - acc: 0.9996 - val_loss: 0.6689 - val_acc: 0.9961\n",
      "Epoch 272/300\n",
      "2295/2295 [==============================] - 4s 2ms/step - loss: 0.6674 - acc: 0.9991 - val_loss: 0.6681 - val_acc: 0.9961\n",
      "Epoch 273/300\n",
      "2295/2295 [==============================] - 4s 2ms/step - loss: 0.6673 - acc: 0.9996 - val_loss: 0.6680 - val_acc: 1.0000\n",
      "Epoch 274/300\n",
      "2295/2295 [==============================] - 4s 2ms/step - loss: 0.6674 - acc: 0.9996 - val_loss: 0.6681 - val_acc: 0.9922\n",
      "Epoch 275/300\n",
      "2295/2295 [==============================] - 4s 2ms/step - loss: 0.6676 - acc: 0.9983 - val_loss: 0.6694 - val_acc: 0.9922\n",
      "Epoch 276/300\n",
      "2295/2295 [==============================] - 4s 2ms/step - loss: 0.6675 - acc: 0.9996 - val_loss: 0.6679 - val_acc: 1.0000\n",
      "Epoch 277/300\n",
      "2295/2295 [==============================] - 4s 2ms/step - loss: 0.6673 - acc: 0.9996 - val_loss: 0.6679 - val_acc: 1.0000\n",
      "Epoch 278/300\n",
      "2295/2295 [==============================] - 4s 2ms/step - loss: 0.6674 - acc: 0.9991 - val_loss: 0.6679 - val_acc: 1.0000\n",
      "Epoch 279/300\n",
      "2295/2295 [==============================] - 4s 2ms/step - loss: 0.6674 - acc: 0.9987 - val_loss: 0.6679 - val_acc: 1.0000\n",
      "Epoch 280/300\n",
      "2295/2295 [==============================] - 4s 2ms/step - loss: 0.6672 - acc: 0.9996 - val_loss: 0.6679 - val_acc: 1.0000\n",
      "Epoch 281/300\n",
      "2295/2295 [==============================] - 4s 2ms/step - loss: 0.6672 - acc: 0.9991 - val_loss: 0.6681 - val_acc: 0.9961\n",
      "Epoch 282/300\n",
      "2295/2295 [==============================] - 4s 2ms/step - loss: 0.6672 - acc: 0.9996 - val_loss: 0.6680 - val_acc: 1.0000\n",
      "Epoch 283/300\n",
      "2295/2295 [==============================] - 4s 2ms/step - loss: 0.6672 - acc: 0.9996 - val_loss: 0.6681 - val_acc: 0.9961\n",
      "Epoch 284/300\n",
      "2295/2295 [==============================] - 4s 2ms/step - loss: 0.6673 - acc: 0.9996 - val_loss: 0.6679 - val_acc: 1.0000\n",
      "Epoch 285/300\n",
      "2295/2295 [==============================] - 4s 2ms/step - loss: 0.6672 - acc: 0.9996 - val_loss: 0.6681 - val_acc: 0.9961\n",
      "Epoch 286/300\n",
      "2295/2295 [==============================] - 4s 2ms/step - loss: 0.6673 - acc: 0.9991 - val_loss: 0.6682 - val_acc: 0.9961\n",
      "Epoch 287/300\n",
      "2295/2295 [==============================] - 4s 2ms/step - loss: 0.6671 - acc: 0.9996 - val_loss: 0.6680 - val_acc: 0.9961\n",
      "Epoch 288/300\n",
      "2295/2295 [==============================] - 4s 2ms/step - loss: 0.6672 - acc: 0.9996 - val_loss: 0.6684 - val_acc: 0.9961\n",
      "Epoch 289/300\n",
      "2295/2295 [==============================] - 5s 2ms/step - loss: 0.6672 - acc: 0.9996 - val_loss: 0.6681 - val_acc: 0.9961\n",
      "Epoch 290/300\n",
      "2295/2295 [==============================] - 5s 2ms/step - loss: 0.6672 - acc: 0.9996 - val_loss: 0.6679 - val_acc: 1.0000\n",
      "Epoch 291/300\n",
      "2295/2295 [==============================] - 5s 2ms/step - loss: 0.6671 - acc: 0.9996 - val_loss: 0.6679 - val_acc: 1.0000\n",
      "Epoch 292/300\n",
      "2295/2295 [==============================] - 4s 2ms/step - loss: 0.6671 - acc: 0.9996 - val_loss: 0.6679 - val_acc: 1.0000\n",
      "Epoch 293/300\n",
      "2295/2295 [==============================] - 4s 2ms/step - loss: 0.6672 - acc: 1.0000 - val_loss: 0.6678 - val_acc: 1.0000\n",
      "Epoch 294/300\n",
      "2295/2295 [==============================] - 5s 2ms/step - loss: 0.6672 - acc: 0.9996 - val_loss: 0.6683 - val_acc: 0.9961\n",
      "Epoch 295/300\n",
      "2295/2295 [==============================] - 5s 2ms/step - loss: 0.6672 - acc: 0.9996 - val_loss: 0.6682 - val_acc: 0.9961\n",
      "Epoch 296/300\n",
      "2295/2295 [==============================] - 5s 2ms/step - loss: 0.6671 - acc: 0.9996 - val_loss: 0.6680 - val_acc: 0.9922\n",
      "Epoch 297/300\n",
      "2295/2295 [==============================] - 5s 2ms/step - loss: 0.6671 - acc: 0.9996 - val_loss: 0.6678 - val_acc: 1.0000\n",
      "Epoch 298/300\n",
      "2295/2295 [==============================] - 5s 2ms/step - loss: 0.6671 - acc: 0.9996 - val_loss: 0.6677 - val_acc: 1.0000\n",
      "Epoch 299/300\n",
      "2295/2295 [==============================] - 4s 2ms/step - loss: 0.6670 - acc: 1.0000 - val_loss: 0.6678 - val_acc: 1.0000\n",
      "Epoch 300/300\n",
      "2295/2295 [==============================] - 4s 2ms/step - loss: 0.6671 - acc: 0.9996 - val_loss: 0.6677 - val_acc: 1.0000\n"
     ]
    }
   ],
   "source": [
    "history = model.fit(X_train, y_train, batch_size=64, epochs=300, validation_split=0.1)"
   ]
  },
  {
   "cell_type": "code",
   "execution_count": 19,
   "metadata": {
    "ExecuteTime": {
     "end_time": "2018-12-07T06:24:57.320871Z",
     "start_time": "2018-12-07T06:24:56.925848Z"
    }
   },
   "outputs": [
    {
     "name": "stdout",
     "output_type": "stream",
     "text": [
      "450/450 [==============================] - 0s 867us/step\n",
      "LOSS: 0.6678085716565451\n",
      "Accuracy: 0.9977777777777778\n"
     ]
    }
   ],
   "source": [
    "score = model.evaluate(X_test, y_test)\n",
    "print(\"LOSS:\", score[0])\n",
    "print(\"Accuracy:\", score[1])"
   ]
  },
  {
   "cell_type": "code",
   "execution_count": 20,
   "metadata": {
    "ExecuteTime": {
     "end_time": "2018-12-07T06:24:57.517882Z",
     "start_time": "2018-12-07T06:24:57.321871Z"
    }
   },
   "outputs": [
    {
     "data": {
      "image/png": "[encoded data removed]",
      "text/plain": [
       "<Figure size 432x288 with 1 Axes>"
      ]
     },
     "metadata": {
      "needs_background": "light"
     },
     "output_type": "display_data"
    }
   ],
   "source": [
    "loss = history.history['loss']\n",
    "val_loss = history.history['val_loss']\n",
    "epochs = range(1, len(loss) + 1)\n",
    "plt.plot(epochs, loss, 'bo', label='Training loss')\n",
    "plt.plot(epochs, val_loss, 'b', label='Validation loss')\n",
    "plt.title('Training and validation loss')\n",
    "plt.xlabel('Epochs')\n",
    "plt.ylabel('Loss')\n",
    "plt.legend()\n",
    "plt.show()"
   ]
  },
  {
   "cell_type": "code",
   "execution_count": 21,
   "metadata": {
    "ExecuteTime": {
     "end_time": "2018-12-07T06:24:57.670891Z",
     "start_time": "2018-12-07T06:24:57.519882Z"
    }
   },
   "outputs": [
    {
     "data": {
      "image/png": "[encoded data removed]",
      "text/plain": [
       "<Figure size 432x288 with 1 Axes>"
      ]
     },
     "metadata": {
      "needs_background": "light"
     },
     "output_type": "display_data"
    }
   ],
   "source": [
    "acc = history.history['acc']\n",
    "val_acc = history.history['val_acc']\n",
    "plt.plot(epochs, acc, 'bo', label='Training acc')\n",
    "plt.plot(epochs, val_acc, 'b', label='Validation acc')\n",
    "plt.title('Training and validation accuracy')\n",
    "plt.xlabel('Epochs')\n",
    "plt.ylabel('Accuracy')\n",
    "plt.legend()\n",
    "plt.show()"
   ]
  },
  {
   "cell_type": "code",
   "execution_count": null,
   "metadata": {},
   "outputs": [],
   "source": []
  }
 ],
 "metadata": {
  "hide_input": false,
  "kernelspec": {
   "display_name": "Python 3",
   "language": "python",
   "name": "python3"
  },
  "language_info": {
   "codemirror_mode": {
    "name": "ipython",
    "version": 3
   },
   "file_extension": ".py",
   "mimetype": "text/x-python",
   "name": "python",
   "nbconvert_exporter": "python",
   "pygments_lexer": "ipython3",
   "version": "3.6.6"
  },
  "toc": {
   "base_numbering": 1,
   "nav_menu": {},
   "number_sections": true,
   "sideBar": true,
   "skip_h1_title": false,
   "title_cell": "Table of Contents",
   "title_sidebar": "Contents",
   "toc_cell": false,
   "toc_position": {},
   "toc_section_display": true,
   "toc_window_display": false
  }
 },
 "nbformat": 4,
 "nbformat_minor": 2
}
