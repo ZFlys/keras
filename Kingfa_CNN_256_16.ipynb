{
 "cells": [
  {
   "cell_type": "code",
   "execution_count": 1,
   "metadata": {
    "ExecuteTime": {
     "end_time": "2018-12-07T09:17:08.551817Z",
     "start_time": "2018-12-07T09:17:08.009786Z"
    }
   },
   "outputs": [],
   "source": [
    "import os\n",
    "import numpy as np\n",
    "import pandas as pd\n",
    "import pywt\n",
    "import matplotlib.pyplot as plt"
   ]
  },
  {
   "cell_type": "code",
   "execution_count": 2,
   "metadata": {
    "ExecuteTime": {
     "end_time": "2018-12-07T09:17:08.560817Z",
     "start_time": "2018-12-07T09:17:08.553817Z"
    }
   },
   "outputs": [],
   "source": [
    "kingfa_datasets_path = \"./kingfadatasets/\""
   ]
  },
  {
   "cell_type": "code",
   "execution_count": 3,
   "metadata": {
    "ExecuteTime": {
     "end_time": "2018-12-07T09:17:08.569818Z",
     "start_time": "2018-12-07T09:17:08.563817Z"
    }
   },
   "outputs": [],
   "source": [
    "def wpt1D(data, wavelet='db1', mode='symmetric', maxlevel=4):\n",
    "    wp = pywt.WaveletPacket(data=data, wavelet=wavelet, mode=mode, maxlevel=maxlevel)\n",
    "    paths = [node.path for node in wp.get_level(4)]  # 列出所有树节点路径\n",
    "    df_wpt = pd.DataFrame()  # 合并所有四级子节点\n",
    "    for a in paths:\n",
    "        df_wpt[a] = wp[a].data\n",
    "    return df_wpt.values"
   ]
  },
  {
   "cell_type": "code",
   "execution_count": 4,
   "metadata": {
    "ExecuteTime": {
     "end_time": "2018-12-07T09:17:13.511100Z",
     "start_time": "2018-12-07T09:17:08.574818Z"
    }
   },
   "outputs": [],
   "source": [
    "X = np.array(pd.read_csv(kingfa_datasets_path+\"data.csv\", index_col=0))"
   ]
  },
  {
   "cell_type": "code",
   "execution_count": 5,
   "metadata": {
    "ExecuteTime": {
     "end_time": "2018-12-07T09:17:33.560247Z",
     "start_time": "2018-12-07T09:17:13.513100Z"
    }
   },
   "outputs": [],
   "source": [
    "X = np.apply_along_axis(wpt1D, 1, X)"
   ]
  },
  {
   "cell_type": "code",
   "execution_count": 6,
   "metadata": {
    "ExecuteTime": {
     "end_time": "2018-12-07T09:17:33.571248Z",
     "start_time": "2018-12-07T09:17:33.562247Z"
    }
   },
   "outputs": [],
   "source": [
    "y = np.array(pd.read_csv(kingfa_datasets_path+\"target.csv\", index_col=0))"
   ]
  },
  {
   "cell_type": "code",
   "execution_count": 7,
   "metadata": {
    "ExecuteTime": {
     "end_time": "2018-12-07T09:17:33.587249Z",
     "start_time": "2018-12-07T09:17:33.573248Z"
    }
   },
   "outputs": [
    {
     "name": "stdout",
     "output_type": "stream",
     "text": [
      "(3000, 256, 16)\n",
      "(3000, 1)\n"
     ]
    }
   ],
   "source": [
    "print(X.shape)\n",
    "print(y.shape)"
   ]
  },
  {
   "cell_type": "code",
   "execution_count": 8,
   "metadata": {
    "ExecuteTime": {
     "end_time": "2018-12-07T09:17:35.940383Z",
     "start_time": "2018-12-07T09:17:33.591249Z"
    }
   },
   "outputs": [
    {
     "name": "stderr",
     "output_type": "stream",
     "text": [
      "Using TensorFlow backend.\n"
     ]
    }
   ],
   "source": [
    "import keras\n",
    "from sklearn.model_selection import train_test_split\n",
    "from keras.models import Sequential\n",
    "from keras.layers import Dense, Activation, Conv2D, MaxPooling2D, Flatten\n",
    "from keras.optimizers import Adam"
   ]
  },
  {
   "cell_type": "code",
   "execution_count": 9,
   "metadata": {
    "ExecuteTime": {
     "end_time": "2018-12-07T09:17:35.984386Z",
     "start_time": "2018-12-07T09:17:35.942383Z"
    }
   },
   "outputs": [],
   "source": [
    "X_train, X_test, y_train, y_test = train_test_split(X, y, test_size=0.15, random_state=1024)"
   ]
  },
  {
   "cell_type": "code",
   "execution_count": 10,
   "metadata": {
    "ExecuteTime": {
     "end_time": "2018-12-07T09:17:35.990386Z",
     "start_time": "2018-12-07T09:17:35.986386Z"
    }
   },
   "outputs": [],
   "source": [
    "X_train = X_train.reshape(-1, 256, 16, 1)\n",
    "X_test = X_test.reshape(-1, 256, 16, 1)\n",
    "y_train = keras.utils.to_categorical(y_train, 3)\n",
    "y_test = keras.utils.to_categorical(y_test, 3)"
   ]
  },
  {
   "cell_type": "code",
   "execution_count": 11,
   "metadata": {
    "ExecuteTime": {
     "end_time": "2018-12-07T09:17:36.007387Z",
     "start_time": "2018-12-07T09:17:35.992386Z"
    }
   },
   "outputs": [],
   "source": [
    "model = Sequential()"
   ]
  },
  {
   "cell_type": "code",
   "execution_count": 12,
   "metadata": {
    "ExecuteTime": {
     "end_time": "2018-12-07T09:17:36.031388Z",
     "start_time": "2018-12-07T09:17:36.009387Z"
    }
   },
   "outputs": [],
   "source": [
    "model.add(Conv2D(filters=16, kernel_size=(7, 5), input_shape=(256, 16, 1)))\n",
    "model.add(Activation('sigmoid'))\n",
    "model.add(MaxPooling2D(pool_size=(2,2), padding='same'))"
   ]
  },
  {
   "cell_type": "code",
   "execution_count": 13,
   "metadata": {
    "ExecuteTime": {
     "end_time": "2018-12-07T09:17:36.051390Z",
     "start_time": "2018-12-07T09:17:36.033389Z"
    }
   },
   "outputs": [],
   "source": [
    "model.add(Conv2D(filters=32, kernel_size=(5, 3), padding='same'))\n",
    "model.add(Activation('sigmoid'))\n",
    "model.add(MaxPooling2D(pool_size=(2, 2), padding='same'))"
   ]
  },
  {
   "cell_type": "code",
   "execution_count": 14,
   "metadata": {
    "ExecuteTime": {
     "end_time": "2018-12-07T09:17:36.087392Z",
     "start_time": "2018-12-07T09:17:36.052390Z"
    }
   },
   "outputs": [],
   "source": [
    "model.add(Flatten())\n",
    "model.add(Dense(128))\n",
    "model.add(Activation('sigmoid'))\n",
    "model.add(Dense(3))\n",
    "model.add(Activation('softmax'))"
   ]
  },
  {
   "cell_type": "code",
   "execution_count": 15,
   "metadata": {
    "ExecuteTime": {
     "end_time": "2018-12-07T09:17:36.107393Z",
     "start_time": "2018-12-07T09:17:36.088392Z"
    }
   },
   "outputs": [],
   "source": [
    "adam = Adam(lr=1e-4)"
   ]
  },
  {
   "cell_type": "code",
   "execution_count": 16,
   "metadata": {
    "ExecuteTime": {
     "end_time": "2018-12-07T09:17:36.114393Z",
     "start_time": "2018-12-07T09:17:36.108393Z"
    }
   },
   "outputs": [
    {
     "name": "stdout",
     "output_type": "stream",
     "text": [
      "_________________________________________________________________\n",
      "Layer (type)                 Output Shape              Param #   \n",
      "=================================================================\n",
      "conv2d_1 (Conv2D)            (None, 250, 12, 16)       576       \n",
      "_________________________________________________________________\n",
      "activation_1 (Activation)    (None, 250, 12, 16)       0         \n",
      "_________________________________________________________________\n",
      "max_pooling2d_1 (MaxPooling2 (None, 125, 6, 16)        0         \n",
      "_________________________________________________________________\n",
      "conv2d_2 (Conv2D)            (None, 125, 6, 32)        7712      \n",
      "_________________________________________________________________\n",
      "activation_2 (Activation)    (None, 125, 6, 32)        0         \n",
      "_________________________________________________________________\n",
      "max_pooling2d_2 (MaxPooling2 (None, 63, 3, 32)         0         \n",
      "_________________________________________________________________\n",
      "flatten_1 (Flatten)          (None, 6048)              0         \n",
      "_________________________________________________________________\n",
      "dense_1 (Dense)              (None, 128)               774272    \n",
      "_________________________________________________________________\n",
      "activation_3 (Activation)    (None, 128)               0         \n",
      "_________________________________________________________________\n",
      "dense_2 (Dense)              (None, 3)                 387       \n",
      "_________________________________________________________________\n",
      "activation_4 (Activation)    (None, 3)                 0         \n",
      "=================================================================\n",
      "Total params: 782,947\n",
      "Trainable params: 782,947\n",
      "Non-trainable params: 0\n",
      "_________________________________________________________________\n"
     ]
    }
   ],
   "source": [
    "model.summary()"
   ]
  },
  {
   "cell_type": "code",
   "execution_count": 17,
   "metadata": {
    "ExecuteTime": {
     "end_time": "2018-12-07T09:17:36.146395Z",
     "start_time": "2018-12-07T09:17:36.116393Z"
    }
   },
   "outputs": [],
   "source": [
    "model.compile(optimizer=adam, loss='squared_hinge', metrics=['accuracy'])"
   ]
  },
  {
   "cell_type": "code",
   "execution_count": 18,
   "metadata": {
    "ExecuteTime": {
     "end_time": "2018-12-07T09:48:41.244072Z",
     "start_time": "2018-12-07T09:17:36.148395Z"
    }
   },
   "outputs": [
    {
     "name": "stdout",
     "output_type": "stream",
     "text": [
      "Train on 2295 samples, validate on 255 samples\n",
      "Epoch 1/300\n",
      "2295/2295 [==============================] - 6s 3ms/step - loss: 0.8179 - acc: 0.3329 - val_loss: 0.8164 - val_acc: 0.3255\n",
      "Epoch 2/300\n",
      "2295/2295 [==============================] - 6s 3ms/step - loss: 0.8170 - acc: 0.3390 - val_loss: 0.8176 - val_acc: 0.3216\n",
      "Epoch 3/300\n",
      "2295/2295 [==============================] - 6s 3ms/step - loss: 0.8153 - acc: 0.3577 - val_loss: 0.8145 - val_acc: 0.3255\n",
      "Epoch 4/300\n",
      "2295/2295 [==============================] - 7s 3ms/step - loss: 0.8151 - acc: 0.3329 - val_loss: 0.8134 - val_acc: 0.6667\n",
      "Epoch 5/300\n",
      "2295/2295 [==============================] - 6s 3ms/step - loss: 0.8144 - acc: 0.3673 - val_loss: 0.8128 - val_acc: 0.6157\n",
      "Epoch 6/300\n",
      "2295/2295 [==============================] - 6s 3ms/step - loss: 0.8135 - acc: 0.3804 - val_loss: 0.8141 - val_acc: 0.3255\n",
      "Epoch 7/300\n",
      "2295/2295 [==============================] - 6s 3ms/step - loss: 0.8129 - acc: 0.3556 - val_loss: 0.8115 - val_acc: 0.3529\n",
      "Epoch 8/300\n",
      "2295/2295 [==============================] - 6s 3ms/step - loss: 0.8112 - acc: 0.3656 - val_loss: 0.8123 - val_acc: 0.3216\n",
      "Epoch 9/300\n",
      "2295/2295 [==============================] - 6s 3ms/step - loss: 0.8109 - acc: 0.4205 - val_loss: 0.8080 - val_acc: 0.3529\n",
      "Epoch 10/300\n",
      "2295/2295 [==============================] - 6s 3ms/step - loss: 0.8074 - acc: 0.5207 - val_loss: 0.8053 - val_acc: 0.3255\n",
      "Epoch 11/300\n",
      "2295/2295 [==============================] - 6s 3ms/step - loss: 0.8045 - acc: 0.4985 - val_loss: 0.8036 - val_acc: 0.6431\n",
      "Epoch 12/300\n",
      "2295/2295 [==============================] - 6s 3ms/step - loss: 0.7980 - acc: 0.5634 - val_loss: 0.7964 - val_acc: 0.6235\n",
      "Epoch 13/300\n",
      "2295/2295 [==============================] - 6s 3ms/step - loss: 0.7905 - acc: 0.6436 - val_loss: 0.7877 - val_acc: 0.6471\n",
      "Epoch 14/300\n",
      "2295/2295 [==============================] - 6s 3ms/step - loss: 0.7815 - acc: 0.6715 - val_loss: 0.7807 - val_acc: 0.6078\n",
      "Epoch 15/300\n",
      "2295/2295 [==============================] - 6s 3ms/step - loss: 0.7724 - acc: 0.6671 - val_loss: 0.7663 - val_acc: 0.6745\n",
      "Epoch 16/300\n",
      "2295/2295 [==============================] - 6s 3ms/step - loss: 0.7617 - acc: 0.6906 - val_loss: 0.7562 - val_acc: 0.6745\n",
      "Epoch 17/300\n",
      "2295/2295 [==============================] - 6s 3ms/step - loss: 0.7554 - acc: 0.6771 - val_loss: 0.7489 - val_acc: 0.6745\n",
      "Epoch 18/300\n",
      "2295/2295 [==============================] - 6s 3ms/step - loss: 0.7479 - acc: 0.6736 - val_loss: 0.7420 - val_acc: 0.6745\n",
      "Epoch 19/300\n",
      "2295/2295 [==============================] - 6s 3ms/step - loss: 0.7429 - acc: 0.6889 - val_loss: 0.7384 - val_acc: 0.7804\n",
      "Epoch 20/300\n",
      "2295/2295 [==============================] - 6s 3ms/step - loss: 0.7364 - acc: 0.6993 - val_loss: 0.7339 - val_acc: 0.6745\n",
      "Epoch 21/300\n",
      "2295/2295 [==============================] - 6s 3ms/step - loss: 0.7329 - acc: 0.6924 - val_loss: 0.7312 - val_acc: 0.8039\n",
      "Epoch 22/300\n",
      "2295/2295 [==============================] - 6s 3ms/step - loss: 0.7302 - acc: 0.7007 - val_loss: 0.7315 - val_acc: 0.6471\n",
      "Epoch 23/300\n",
      "2295/2295 [==============================] - 6s 3ms/step - loss: 0.7286 - acc: 0.6906 - val_loss: 0.7296 - val_acc: 0.6745\n",
      "Epoch 24/300\n",
      "2295/2295 [==============================] - 6s 3ms/step - loss: 0.7275 - acc: 0.7002 - val_loss: 0.7293 - val_acc: 0.6471\n",
      "Epoch 25/300\n",
      "2295/2295 [==============================] - 6s 3ms/step - loss: 0.7259 - acc: 0.7224 - val_loss: 0.7265 - val_acc: 0.6471\n",
      "Epoch 26/300\n",
      "2295/2295 [==============================] - 6s 3ms/step - loss: 0.7265 - acc: 0.6832 - val_loss: 0.7273 - val_acc: 0.6471\n",
      "Epoch 27/300\n",
      "2295/2295 [==============================] - 6s 3ms/step - loss: 0.7237 - acc: 0.7124 - val_loss: 0.7238 - val_acc: 0.6745\n",
      "Epoch 28/300\n",
      "2295/2295 [==============================] - 6s 3ms/step - loss: 0.7228 - acc: 0.7320 - val_loss: 0.7226 - val_acc: 0.8000\n",
      "Epoch 29/300\n",
      "2295/2295 [==============================] - 6s 3ms/step - loss: 0.7213 - acc: 0.7712 - val_loss: 0.7232 - val_acc: 0.6745\n",
      "Epoch 30/300\n",
      "2295/2295 [==============================] - 6s 3ms/step - loss: 0.7220 - acc: 0.7198 - val_loss: 0.7212 - val_acc: 0.6941\n",
      "Epoch 31/300\n",
      "2295/2295 [==============================] - 6s 3ms/step - loss: 0.7195 - acc: 0.7830 - val_loss: 0.7203 - val_acc: 0.7961\n",
      "Epoch 32/300\n",
      "2295/2295 [==============================] - 6s 3ms/step - loss: 0.7221 - acc: 0.7020 - val_loss: 0.7208 - val_acc: 0.6784\n",
      "Epoch 33/300\n",
      "2295/2295 [==============================] - 6s 3ms/step - loss: 0.7179 - acc: 0.7821 - val_loss: 0.7178 - val_acc: 0.8078\n",
      "Epoch 34/300\n",
      "2295/2295 [==============================] - 6s 3ms/step - loss: 0.7165 - acc: 0.8179 - val_loss: 0.7177 - val_acc: 0.8196\n",
      "Epoch 35/300\n",
      "2295/2295 [==============================] - 6s 3ms/step - loss: 0.7161 - acc: 0.7865 - val_loss: 0.7155 - val_acc: 0.8157\n",
      "Epoch 36/300\n",
      "2295/2295 [==============================] - 6s 3ms/step - loss: 0.7171 - acc: 0.7503 - val_loss: 0.7224 - val_acc: 0.6471\n",
      "Epoch 37/300\n",
      "2295/2295 [==============================] - 6s 3ms/step - loss: 0.7152 - acc: 0.7865 - val_loss: 0.7177 - val_acc: 0.7490\n",
      "Epoch 38/300\n",
      "2295/2295 [==============================] - 6s 3ms/step - loss: 0.7129 - acc: 0.8244 - val_loss: 0.7195 - val_acc: 0.6667\n",
      "Epoch 39/300\n",
      "2295/2295 [==============================] - 6s 3ms/step - loss: 0.7123 - acc: 0.8266 - val_loss: 0.7124 - val_acc: 0.8000\n",
      "Epoch 40/300\n",
      "2295/2295 [==============================] - 6s 3ms/step - loss: 0.7108 - acc: 0.8466 - val_loss: 0.7119 - val_acc: 0.8275\n",
      "Epoch 41/300\n",
      "2295/2295 [==============================] - 6s 3ms/step - loss: 0.7111 - acc: 0.8131 - val_loss: 0.7129 - val_acc: 0.8275\n",
      "Epoch 42/300\n",
      "2295/2295 [==============================] - 6s 3ms/step - loss: 0.7102 - acc: 0.8248 - val_loss: 0.7101 - val_acc: 0.8392\n",
      "Epoch 43/300\n",
      "2295/2295 [==============================] - 6s 3ms/step - loss: 0.7073 - acc: 0.8523 - val_loss: 0.7153 - val_acc: 0.7804\n",
      "Epoch 44/300\n",
      "2295/2295 [==============================] - 6s 3ms/step - loss: 0.7066 - acc: 0.8484 - val_loss: 0.7073 - val_acc: 0.8510\n",
      "Epoch 45/300\n",
      "2295/2295 [==============================] - 6s 3ms/step - loss: 0.7051 - acc: 0.8658 - val_loss: 0.7061 - val_acc: 0.8471\n",
      "Epoch 46/300\n",
      "2295/2295 [==============================] - 6s 3ms/step - loss: 0.7041 - acc: 0.8597 - val_loss: 0.7043 - val_acc: 0.8353\n",
      "Epoch 47/300\n",
      "2295/2295 [==============================] - 6s 3ms/step - loss: 0.7013 - acc: 0.8919 - val_loss: 0.7042 - val_acc: 0.8588\n",
      "Epoch 48/300\n",
      "2295/2295 [==============================] - 6s 3ms/step - loss: 0.7010 - acc: 0.8780 - val_loss: 0.7025 - val_acc: 0.8588\n",
      "Epoch 49/300\n",
      "2295/2295 [==============================] - 6s 3ms/step - loss: 0.7005 - acc: 0.8793 - val_loss: 0.7006 - val_acc: 0.8471\n",
      "Epoch 50/300\n",
      "2295/2295 [==============================] - 6s 3ms/step - loss: 0.6985 - acc: 0.8928 - val_loss: 0.6991 - val_acc: 0.8745\n",
      "Epoch 51/300\n",
      "2295/2295 [==============================] - 6s 3ms/step - loss: 0.6977 - acc: 0.8963 - val_loss: 0.6984 - val_acc: 0.8627\n",
      "Epoch 52/300\n",
      "2295/2295 [==============================] - 6s 3ms/step - loss: 0.6976 - acc: 0.8967 - val_loss: 0.6989 - val_acc: 0.8667\n",
      "Epoch 53/300\n",
      "2295/2295 [==============================] - 6s 3ms/step - loss: 0.6959 - acc: 0.9081 - val_loss: 0.6994 - val_acc: 0.8706\n",
      "Epoch 54/300\n",
      "2295/2295 [==============================] - 6s 3ms/step - loss: 0.6946 - acc: 0.9137 - val_loss: 0.6953 - val_acc: 0.9059\n",
      "Epoch 55/300\n",
      "2295/2295 [==============================] - 6s 3ms/step - loss: 0.6930 - acc: 0.9320 - val_loss: 0.6944 - val_acc: 0.9098\n",
      "Epoch 56/300\n",
      "2295/2295 [==============================] - 6s 3ms/step - loss: 0.6931 - acc: 0.9203 - val_loss: 0.6947 - val_acc: 0.9059\n",
      "Epoch 57/300\n",
      "2295/2295 [==============================] - 6s 3ms/step - loss: 0.6916 - acc: 0.9346 - val_loss: 0.6933 - val_acc: 0.9294\n",
      "Epoch 58/300\n",
      "2295/2295 [==============================] - 6s 3ms/step - loss: 0.6912 - acc: 0.9325 - val_loss: 0.6924 - val_acc: 0.9176\n",
      "Epoch 59/300\n",
      "2295/2295 [==============================] - 6s 3ms/step - loss: 0.6904 - acc: 0.9329 - val_loss: 0.6922 - val_acc: 0.9255\n",
      "Epoch 60/300\n",
      "2295/2295 [==============================] - 6s 3ms/step - loss: 0.6897 - acc: 0.9377 - val_loss: 0.6915 - val_acc: 0.9294\n"
     ]
    },
    {
     "name": "stdout",
     "output_type": "stream",
     "text": [
      "Epoch 61/300\n",
      "2295/2295 [==============================] - 6s 3ms/step - loss: 0.6888 - acc: 0.9407 - val_loss: 0.6901 - val_acc: 0.9333\n",
      "Epoch 62/300\n",
      "2295/2295 [==============================] - 6s 3ms/step - loss: 0.6879 - acc: 0.9425 - val_loss: 0.6913 - val_acc: 0.9255\n",
      "Epoch 63/300\n",
      "2295/2295 [==============================] - 6s 3ms/step - loss: 0.6877 - acc: 0.9451 - val_loss: 0.6890 - val_acc: 0.9451\n",
      "Epoch 64/300\n",
      "2295/2295 [==============================] - 6s 3ms/step - loss: 0.6871 - acc: 0.9447 - val_loss: 0.6883 - val_acc: 0.9294\n",
      "Epoch 65/300\n",
      "2295/2295 [==============================] - 6s 3ms/step - loss: 0.6862 - acc: 0.9451 - val_loss: 0.6880 - val_acc: 0.9333\n",
      "Epoch 66/300\n",
      "2295/2295 [==============================] - 6s 3ms/step - loss: 0.6861 - acc: 0.9512 - val_loss: 0.6873 - val_acc: 0.9333\n",
      "Epoch 67/300\n",
      "2295/2295 [==============================] - 6s 3ms/step - loss: 0.6851 - acc: 0.9508 - val_loss: 0.6898 - val_acc: 0.9255\n",
      "Epoch 68/300\n",
      "2295/2295 [==============================] - 6s 3ms/step - loss: 0.6856 - acc: 0.9451 - val_loss: 0.6897 - val_acc: 0.9255\n",
      "Epoch 69/300\n",
      "2295/2295 [==============================] - 6s 3ms/step - loss: 0.6852 - acc: 0.9442 - val_loss: 0.6872 - val_acc: 0.9412\n",
      "Epoch 70/300\n",
      "2295/2295 [==============================] - 6s 3ms/step - loss: 0.6844 - acc: 0.9495 - val_loss: 0.6858 - val_acc: 0.9412\n",
      "Epoch 71/300\n",
      "2295/2295 [==============================] - 6s 3ms/step - loss: 0.6836 - acc: 0.9490 - val_loss: 0.6859 - val_acc: 0.9333\n",
      "Epoch 72/300\n",
      "2295/2295 [==============================] - 6s 3ms/step - loss: 0.6837 - acc: 0.9495 - val_loss: 0.6851 - val_acc: 0.9412\n",
      "Epoch 73/300\n",
      "2295/2295 [==============================] - 6s 3ms/step - loss: 0.6828 - acc: 0.9538 - val_loss: 0.6905 - val_acc: 0.9255\n",
      "Epoch 74/300\n",
      "2295/2295 [==============================] - 6s 3ms/step - loss: 0.6838 - acc: 0.9508 - val_loss: 0.6845 - val_acc: 0.9451\n",
      "Epoch 75/300\n",
      "2295/2295 [==============================] - 6s 3ms/step - loss: 0.6826 - acc: 0.9534 - val_loss: 0.6841 - val_acc: 0.9373\n",
      "Epoch 76/300\n",
      "2295/2295 [==============================] - 6s 3ms/step - loss: 0.6818 - acc: 0.9521 - val_loss: 0.6838 - val_acc: 0.9373\n",
      "Epoch 77/300\n",
      "2295/2295 [==============================] - 6s 3ms/step - loss: 0.6822 - acc: 0.9534 - val_loss: 0.6841 - val_acc: 0.9529\n",
      "Epoch 78/300\n",
      "2295/2295 [==============================] - 6s 3ms/step - loss: 0.6815 - acc: 0.9556 - val_loss: 0.6861 - val_acc: 0.9294\n",
      "Epoch 79/300\n",
      "2295/2295 [==============================] - 6s 3ms/step - loss: 0.6809 - acc: 0.9525 - val_loss: 0.6837 - val_acc: 0.9333\n",
      "Epoch 80/300\n",
      "2295/2295 [==============================] - 6s 3ms/step - loss: 0.6809 - acc: 0.9525 - val_loss: 0.6832 - val_acc: 0.9373\n",
      "Epoch 81/300\n",
      "2295/2295 [==============================] - 6s 3ms/step - loss: 0.6802 - acc: 0.9564 - val_loss: 0.6843 - val_acc: 0.9490\n",
      "Epoch 82/300\n",
      "2295/2295 [==============================] - 6s 3ms/step - loss: 0.6805 - acc: 0.9542 - val_loss: 0.6834 - val_acc: 0.9333\n",
      "Epoch 83/300\n",
      "2295/2295 [==============================] - 6s 3ms/step - loss: 0.6799 - acc: 0.9582 - val_loss: 0.6822 - val_acc: 0.9451\n",
      "Epoch 84/300\n",
      "2295/2295 [==============================] - 6s 3ms/step - loss: 0.6802 - acc: 0.9569 - val_loss: 0.6825 - val_acc: 0.9412\n",
      "Epoch 85/300\n",
      "2295/2295 [==============================] - 6s 3ms/step - loss: 0.6798 - acc: 0.9564 - val_loss: 0.6886 - val_acc: 0.9255\n",
      "Epoch 86/300\n",
      "2295/2295 [==============================] - 6s 3ms/step - loss: 0.6805 - acc: 0.9551 - val_loss: 0.6820 - val_acc: 0.9412\n",
      "Epoch 87/300\n",
      "2295/2295 [==============================] - 6s 3ms/step - loss: 0.6800 - acc: 0.9564 - val_loss: 0.6816 - val_acc: 0.9451\n",
      "Epoch 88/300\n",
      "2295/2295 [==============================] - 6s 3ms/step - loss: 0.6794 - acc: 0.9586 - val_loss: 0.6847 - val_acc: 0.9294\n",
      "Epoch 89/300\n",
      "2295/2295 [==============================] - 6s 3ms/step - loss: 0.6799 - acc: 0.9577 - val_loss: 0.6813 - val_acc: 0.9451\n",
      "Epoch 90/300\n",
      "2295/2295 [==============================] - 6s 3ms/step - loss: 0.6788 - acc: 0.9590 - val_loss: 0.6812 - val_acc: 0.9451\n",
      "Epoch 91/300\n",
      "2295/2295 [==============================] - 6s 3ms/step - loss: 0.6791 - acc: 0.9573 - val_loss: 0.6807 - val_acc: 0.9529\n",
      "Epoch 92/300\n",
      "2295/2295 [==============================] - 6s 3ms/step - loss: 0.6790 - acc: 0.9612 - val_loss: 0.6828 - val_acc: 0.9333\n",
      "Epoch 93/300\n",
      "2295/2295 [==============================] - 6s 3ms/step - loss: 0.6787 - acc: 0.9595 - val_loss: 0.6806 - val_acc: 0.9569\n",
      "Epoch 94/300\n",
      "2295/2295 [==============================] - 6s 3ms/step - loss: 0.6786 - acc: 0.9621 - val_loss: 0.6808 - val_acc: 0.9608\n",
      "Epoch 95/300\n",
      "2295/2295 [==============================] - 6s 3ms/step - loss: 0.6783 - acc: 0.9638 - val_loss: 0.6811 - val_acc: 0.9412\n",
      "Epoch 96/300\n",
      "2295/2295 [==============================] - 6s 3ms/step - loss: 0.6781 - acc: 0.9612 - val_loss: 0.6803 - val_acc: 0.9451\n",
      "Epoch 97/300\n",
      "2295/2295 [==============================] - 6s 3ms/step - loss: 0.6778 - acc: 0.9638 - val_loss: 0.6800 - val_acc: 0.9451\n",
      "Epoch 98/300\n",
      "2295/2295 [==============================] - 6s 3ms/step - loss: 0.6772 - acc: 0.9656 - val_loss: 0.6828 - val_acc: 0.9333\n",
      "Epoch 99/300\n",
      "2295/2295 [==============================] - 6s 3ms/step - loss: 0.6777 - acc: 0.9630 - val_loss: 0.6801 - val_acc: 0.9451\n",
      "Epoch 100/300\n",
      "2295/2295 [==============================] - 6s 3ms/step - loss: 0.6770 - acc: 0.9669 - val_loss: 0.6820 - val_acc: 0.9333\n",
      "Epoch 101/300\n",
      "2295/2295 [==============================] - 6s 3ms/step - loss: 0.6767 - acc: 0.9664 - val_loss: 0.6804 - val_acc: 0.9451\n",
      "Epoch 102/300\n",
      "2295/2295 [==============================] - 6s 3ms/step - loss: 0.6768 - acc: 0.9691 - val_loss: 0.6792 - val_acc: 0.9529\n",
      "Epoch 103/300\n",
      "2295/2295 [==============================] - 6s 3ms/step - loss: 0.6765 - acc: 0.9682 - val_loss: 0.6792 - val_acc: 0.9529\n",
      "Epoch 104/300\n",
      "2295/2295 [==============================] - 6s 3ms/step - loss: 0.6772 - acc: 0.9651 - val_loss: 0.6789 - val_acc: 0.9647\n",
      "Epoch 105/300\n",
      "2295/2295 [==============================] - 6s 3ms/step - loss: 0.6765 - acc: 0.9686 - val_loss: 0.6788 - val_acc: 0.9529\n",
      "Epoch 106/300\n",
      "2295/2295 [==============================] - 6s 3ms/step - loss: 0.6762 - acc: 0.9686 - val_loss: 0.6785 - val_acc: 0.9529\n",
      "Epoch 107/300\n",
      "2295/2295 [==============================] - 6s 3ms/step - loss: 0.6759 - acc: 0.9695 - val_loss: 0.6787 - val_acc: 0.9529\n",
      "Epoch 108/300\n",
      "2295/2295 [==============================] - 6s 3ms/step - loss: 0.6768 - acc: 0.9669 - val_loss: 0.6802 - val_acc: 0.9451\n",
      "Epoch 109/300\n",
      "2295/2295 [==============================] - 6s 3ms/step - loss: 0.6760 - acc: 0.9699 - val_loss: 0.6780 - val_acc: 0.9608\n",
      "Epoch 110/300\n",
      "2295/2295 [==============================] - 6s 3ms/step - loss: 0.6759 - acc: 0.9686 - val_loss: 0.6783 - val_acc: 0.9529\n",
      "Epoch 111/300\n",
      "2295/2295 [==============================] - 6s 3ms/step - loss: 0.6754 - acc: 0.9721 - val_loss: 0.6785 - val_acc: 0.9529\n",
      "Epoch 112/300\n",
      "2295/2295 [==============================] - 6s 3ms/step - loss: 0.6757 - acc: 0.9730 - val_loss: 0.6842 - val_acc: 0.9294\n",
      "Epoch 113/300\n",
      "2295/2295 [==============================] - 6s 3ms/step - loss: 0.6759 - acc: 0.9721 - val_loss: 0.6804 - val_acc: 0.9451\n",
      "Epoch 114/300\n",
      "2295/2295 [==============================] - 6s 3ms/step - loss: 0.6752 - acc: 0.9721 - val_loss: 0.6775 - val_acc: 0.9686\n",
      "Epoch 115/300\n",
      "2295/2295 [==============================] - 6s 3ms/step - loss: 0.6752 - acc: 0.9708 - val_loss: 0.6804 - val_acc: 0.9412\n",
      "Epoch 116/300\n",
      "2295/2295 [==============================] - 6s 3ms/step - loss: 0.6752 - acc: 0.9708 - val_loss: 0.6775 - val_acc: 0.9529\n",
      "Epoch 117/300\n",
      "2295/2295 [==============================] - 6s 3ms/step - loss: 0.6749 - acc: 0.9739 - val_loss: 0.6774 - val_acc: 0.9529\n",
      "Epoch 118/300\n",
      "2295/2295 [==============================] - 6s 3ms/step - loss: 0.6752 - acc: 0.9712 - val_loss: 0.6770 - val_acc: 0.9608\n",
      "Epoch 119/300\n",
      "2295/2295 [==============================] - 6s 3ms/step - loss: 0.6745 - acc: 0.9734 - val_loss: 0.6771 - val_acc: 0.9529\n",
      "Epoch 120/300\n",
      "2295/2295 [==============================] - 6s 3ms/step - loss: 0.6744 - acc: 0.9752 - val_loss: 0.6777 - val_acc: 0.9529\n",
      "Epoch 121/300\n"
     ]
    },
    {
     "name": "stdout",
     "output_type": "stream",
     "text": [
      "2295/2295 [==============================] - 6s 3ms/step - loss: 0.6744 - acc: 0.9765 - val_loss: 0.6778 - val_acc: 0.9529\n",
      "Epoch 122/300\n",
      "2295/2295 [==============================] - 6s 3ms/step - loss: 0.6743 - acc: 0.9760 - val_loss: 0.6775 - val_acc: 0.9529\n",
      "Epoch 123/300\n",
      "2295/2295 [==============================] - 6s 3ms/step - loss: 0.6747 - acc: 0.9730 - val_loss: 0.6772 - val_acc: 0.9529\n",
      "Epoch 124/300\n",
      "2295/2295 [==============================] - 6s 3ms/step - loss: 0.6741 - acc: 0.9756 - val_loss: 0.6766 - val_acc: 0.9569\n",
      "Epoch 125/300\n",
      "2295/2295 [==============================] - 6s 3ms/step - loss: 0.6741 - acc: 0.9760 - val_loss: 0.6790 - val_acc: 0.9490\n",
      "Epoch 126/300\n",
      "2295/2295 [==============================] - 6s 3ms/step - loss: 0.6742 - acc: 0.9756 - val_loss: 0.6768 - val_acc: 0.9529\n",
      "Epoch 127/300\n",
      "2295/2295 [==============================] - 6s 3ms/step - loss: 0.6753 - acc: 0.9717 - val_loss: 0.6766 - val_acc: 0.9686\n",
      "Epoch 128/300\n",
      "2295/2295 [==============================] - 6s 3ms/step - loss: 0.6748 - acc: 0.9747 - val_loss: 0.6852 - val_acc: 0.9294\n",
      "Epoch 129/300\n",
      "2295/2295 [==============================] - 6s 3ms/step - loss: 0.6742 - acc: 0.9747 - val_loss: 0.6791 - val_acc: 0.9490\n",
      "Epoch 130/300\n",
      "2295/2295 [==============================] - 6s 3ms/step - loss: 0.6739 - acc: 0.9778 - val_loss: 0.6799 - val_acc: 0.9451\n",
      "Epoch 131/300\n",
      "2295/2295 [==============================] - 6s 3ms/step - loss: 0.6735 - acc: 0.9773 - val_loss: 0.6757 - val_acc: 0.9647\n",
      "Epoch 132/300\n",
      "2295/2295 [==============================] - 6s 3ms/step - loss: 0.6733 - acc: 0.9778 - val_loss: 0.6765 - val_acc: 0.9529\n",
      "Epoch 133/300\n",
      "2295/2295 [==============================] - 6s 3ms/step - loss: 0.6732 - acc: 0.9791 - val_loss: 0.6757 - val_acc: 0.9608\n",
      "Epoch 134/300\n",
      "2295/2295 [==============================] - 6s 3ms/step - loss: 0.6733 - acc: 0.9760 - val_loss: 0.6771 - val_acc: 0.9529\n",
      "Epoch 135/300\n",
      "2295/2295 [==============================] - 6s 3ms/step - loss: 0.6731 - acc: 0.9800 - val_loss: 0.6769 - val_acc: 0.9529\n",
      "Epoch 136/300\n",
      "2295/2295 [==============================] - 6s 3ms/step - loss: 0.6729 - acc: 0.9786 - val_loss: 0.6751 - val_acc: 0.9725\n",
      "Epoch 137/300\n",
      "2295/2295 [==============================] - 6s 3ms/step - loss: 0.6733 - acc: 0.9778 - val_loss: 0.6750 - val_acc: 0.9725\n",
      "Epoch 138/300\n",
      "2295/2295 [==============================] - 6s 3ms/step - loss: 0.6734 - acc: 0.9786 - val_loss: 0.6763 - val_acc: 0.9529\n",
      "Epoch 139/300\n",
      "2295/2295 [==============================] - 6s 3ms/step - loss: 0.6728 - acc: 0.9795 - val_loss: 0.6757 - val_acc: 0.9569\n",
      "Epoch 140/300\n",
      "2295/2295 [==============================] - 6s 3ms/step - loss: 0.6728 - acc: 0.9800 - val_loss: 0.6777 - val_acc: 0.9490\n",
      "Epoch 141/300\n",
      "2295/2295 [==============================] - 6s 3ms/step - loss: 0.6731 - acc: 0.9769 - val_loss: 0.6754 - val_acc: 0.9608\n",
      "Epoch 142/300\n",
      "2295/2295 [==============================] - 6s 3ms/step - loss: 0.6728 - acc: 0.9808 - val_loss: 0.6768 - val_acc: 0.9529\n",
      "Epoch 143/300\n",
      "2295/2295 [==============================] - 6s 3ms/step - loss: 0.6731 - acc: 0.9808 - val_loss: 0.6745 - val_acc: 0.9725\n",
      "Epoch 144/300\n",
      "2295/2295 [==============================] - 6s 3ms/step - loss: 0.6724 - acc: 0.9826 - val_loss: 0.6750 - val_acc: 0.9647\n",
      "Epoch 145/300\n",
      "2295/2295 [==============================] - 6s 3ms/step - loss: 0.6723 - acc: 0.9821 - val_loss: 0.6743 - val_acc: 0.9725\n",
      "Epoch 146/300\n",
      "2295/2295 [==============================] - 6s 3ms/step - loss: 0.6723 - acc: 0.9804 - val_loss: 0.6761 - val_acc: 0.9529\n",
      "Epoch 147/300\n",
      "2295/2295 [==============================] - 6s 3ms/step - loss: 0.6723 - acc: 0.9826 - val_loss: 0.6751 - val_acc: 0.9608\n",
      "Epoch 148/300\n",
      "2295/2295 [==============================] - 6s 3ms/step - loss: 0.6718 - acc: 0.9839 - val_loss: 0.6742 - val_acc: 0.9686\n",
      "Epoch 149/300\n",
      "2295/2295 [==============================] - 6s 3ms/step - loss: 0.6721 - acc: 0.9821 - val_loss: 0.6744 - val_acc: 0.9647\n",
      "Epoch 150/300\n",
      "2295/2295 [==============================] - 6s 3ms/step - loss: 0.6722 - acc: 0.9826 - val_loss: 0.6740 - val_acc: 0.9686\n",
      "Epoch 151/300\n",
      "2295/2295 [==============================] - 6s 3ms/step - loss: 0.6716 - acc: 0.9839 - val_loss: 0.6743 - val_acc: 0.9647\n",
      "Epoch 152/300\n",
      "2295/2295 [==============================] - 6s 3ms/step - loss: 0.6717 - acc: 0.9843 - val_loss: 0.6760 - val_acc: 0.9529\n",
      "Epoch 153/300\n",
      "2295/2295 [==============================] - 6s 3ms/step - loss: 0.6715 - acc: 0.9847 - val_loss: 0.6738 - val_acc: 0.9686\n",
      "Epoch 154/300\n",
      "2295/2295 [==============================] - 6s 3ms/step - loss: 0.6716 - acc: 0.9856 - val_loss: 0.6735 - val_acc: 0.9843\n",
      "Epoch 155/300\n",
      "2295/2295 [==============================] - 6s 3ms/step - loss: 0.6718 - acc: 0.9861 - val_loss: 0.6755 - val_acc: 0.9569\n",
      "Epoch 156/300\n",
      "2295/2295 [==============================] - 6s 3ms/step - loss: 0.6712 - acc: 0.9861 - val_loss: 0.6749 - val_acc: 0.9608\n",
      "Epoch 157/300\n",
      "2295/2295 [==============================] - 6s 3ms/step - loss: 0.6712 - acc: 0.9856 - val_loss: 0.6733 - val_acc: 0.9843\n",
      "Epoch 158/300\n",
      "2295/2295 [==============================] - 6s 3ms/step - loss: 0.6714 - acc: 0.9843 - val_loss: 0.6745 - val_acc: 0.9961\n",
      "Epoch 159/300\n",
      "2295/2295 [==============================] - 6s 3ms/step - loss: 0.6715 - acc: 0.9843 - val_loss: 0.6744 - val_acc: 0.9647\n",
      "Epoch 160/300\n",
      "2295/2295 [==============================] - 6s 3ms/step - loss: 0.6717 - acc: 0.9847 - val_loss: 0.6755 - val_acc: 0.9569\n",
      "Epoch 161/300\n",
      "2295/2295 [==============================] - 6s 3ms/step - loss: 0.6728 - acc: 0.9813 - val_loss: 0.6804 - val_acc: 0.9490\n",
      "Epoch 162/300\n",
      "2295/2295 [==============================] - 6s 3ms/step - loss: 0.6716 - acc: 0.9830 - val_loss: 0.6733 - val_acc: 0.9686\n",
      "Epoch 163/300\n",
      "2295/2295 [==============================] - 6s 3ms/step - loss: 0.6708 - acc: 0.9878 - val_loss: 0.6743 - val_acc: 0.9647\n",
      "Epoch 164/300\n",
      "2295/2295 [==============================] - 6s 3ms/step - loss: 0.6708 - acc: 0.9878 - val_loss: 0.6747 - val_acc: 0.9608\n",
      "Epoch 165/300\n",
      "2295/2295 [==============================] - 6s 3ms/step - loss: 0.6714 - acc: 0.9874 - val_loss: 0.6732 - val_acc: 0.9686\n",
      "Epoch 166/300\n",
      "2295/2295 [==============================] - 6s 3ms/step - loss: 0.6710 - acc: 0.9895 - val_loss: 0.6735 - val_acc: 0.9686\n",
      "Epoch 167/300\n",
      "2295/2295 [==============================] - 6s 3ms/step - loss: 0.6707 - acc: 0.9904 - val_loss: 0.6757 - val_acc: 0.9529\n",
      "Epoch 168/300\n",
      "2295/2295 [==============================] - 6s 3ms/step - loss: 0.6708 - acc: 0.9882 - val_loss: 0.6726 - val_acc: 0.9882\n",
      "Epoch 169/300\n",
      "2295/2295 [==============================] - 6s 3ms/step - loss: 0.6711 - acc: 0.9900 - val_loss: 0.6725 - val_acc: 0.9882\n",
      "Epoch 170/300\n",
      "2295/2295 [==============================] - 6s 3ms/step - loss: 0.6707 - acc: 0.9865 - val_loss: 0.6733 - val_acc: 0.9647\n",
      "Epoch 171/300\n",
      "2295/2295 [==============================] - 6s 3ms/step - loss: 0.6702 - acc: 0.9904 - val_loss: 0.6727 - val_acc: 0.9686\n",
      "Epoch 172/300\n",
      "2295/2295 [==============================] - 6s 3ms/step - loss: 0.6702 - acc: 0.9913 - val_loss: 0.6729 - val_acc: 0.9686\n",
      "Epoch 173/300\n",
      "2295/2295 [==============================] - 6s 3ms/step - loss: 0.6700 - acc: 0.9926 - val_loss: 0.6733 - val_acc: 0.9647\n",
      "Epoch 174/300\n",
      "2295/2295 [==============================] - 6s 3ms/step - loss: 0.6700 - acc: 0.9917 - val_loss: 0.6726 - val_acc: 0.9686\n",
      "Epoch 175/300\n",
      "2295/2295 [==============================] - 6s 3ms/step - loss: 0.6700 - acc: 0.9926 - val_loss: 0.6725 - val_acc: 0.9686\n",
      "Epoch 176/300\n",
      "2295/2295 [==============================] - 6s 3ms/step - loss: 0.6702 - acc: 0.9904 - val_loss: 0.6720 - val_acc: 0.9882\n",
      "Epoch 177/300\n",
      "2295/2295 [==============================] - 6s 3ms/step - loss: 0.6700 - acc: 0.9913 - val_loss: 0.6733 - val_acc: 0.9647\n",
      "Epoch 178/300\n",
      "2295/2295 [==============================] - 6s 3ms/step - loss: 0.6706 - acc: 0.9878 - val_loss: 0.6720 - val_acc: 0.9843\n",
      "Epoch 179/300\n",
      "2295/2295 [==============================] - 6s 3ms/step - loss: 0.6699 - acc: 0.9913 - val_loss: 0.6723 - val_acc: 0.9725\n",
      "Epoch 180/300\n",
      "2295/2295 [==============================] - 6s 3ms/step - loss: 0.6701 - acc: 0.9922 - val_loss: 0.6773 - val_acc: 0.9490\n"
     ]
    },
    {
     "name": "stdout",
     "output_type": "stream",
     "text": [
      "Epoch 181/300\n",
      "2295/2295 [==============================] - 6s 3ms/step - loss: 0.6699 - acc: 0.9922 - val_loss: 0.6732 - val_acc: 0.9647\n",
      "Epoch 182/300\n",
      "2295/2295 [==============================] - 7s 3ms/step - loss: 0.6698 - acc: 0.9926 - val_loss: 0.6726 - val_acc: 0.9686\n",
      "Epoch 183/300\n",
      "2295/2295 [==============================] - 7s 3ms/step - loss: 0.6696 - acc: 0.9930 - val_loss: 0.6716 - val_acc: 0.9882\n",
      "Epoch 184/300\n",
      "2295/2295 [==============================] - 7s 3ms/step - loss: 0.6696 - acc: 0.9926 - val_loss: 0.6721 - val_acc: 0.9765\n",
      "Epoch 185/300\n",
      "2295/2295 [==============================] - 6s 3ms/step - loss: 0.6698 - acc: 0.9952 - val_loss: 0.6789 - val_acc: 0.9490\n",
      "Epoch 186/300\n",
      "2295/2295 [==============================] - 6s 3ms/step - loss: 0.6700 - acc: 0.9913 - val_loss: 0.6726 - val_acc: 0.9686\n",
      "Epoch 187/300\n",
      "2295/2295 [==============================] - 6s 3ms/step - loss: 0.6694 - acc: 0.9930 - val_loss: 0.6716 - val_acc: 0.9843\n",
      "Epoch 188/300\n",
      "2295/2295 [==============================] - 6s 3ms/step - loss: 0.6696 - acc: 0.9930 - val_loss: 0.6737 - val_acc: 0.9647\n",
      "Epoch 189/300\n",
      "2295/2295 [==============================] - 6s 3ms/step - loss: 0.6694 - acc: 0.9956 - val_loss: 0.6722 - val_acc: 0.9725\n",
      "Epoch 190/300\n",
      "2295/2295 [==============================] - 7s 3ms/step - loss: 0.6695 - acc: 0.9939 - val_loss: 0.6721 - val_acc: 0.9725\n",
      "Epoch 191/300\n",
      "2295/2295 [==============================] - 6s 3ms/step - loss: 0.6694 - acc: 0.9935 - val_loss: 0.6728 - val_acc: 0.9686\n",
      "Epoch 192/300\n",
      "2295/2295 [==============================] - 6s 3ms/step - loss: 0.6693 - acc: 0.9952 - val_loss: 0.6723 - val_acc: 0.9686\n",
      "Epoch 193/300\n",
      "2295/2295 [==============================] - 6s 3ms/step - loss: 0.6693 - acc: 0.9926 - val_loss: 0.6713 - val_acc: 0.9961\n",
      "Epoch 194/300\n",
      "2295/2295 [==============================] - 6s 3ms/step - loss: 0.6692 - acc: 0.9956 - val_loss: 0.6723 - val_acc: 0.9686\n",
      "Epoch 195/300\n",
      "2295/2295 [==============================] - 6s 3ms/step - loss: 0.6691 - acc: 0.9939 - val_loss: 0.6714 - val_acc: 0.9843\n",
      "Epoch 196/300\n",
      "2295/2295 [==============================] - 6s 3ms/step - loss: 0.6697 - acc: 0.9930 - val_loss: 0.6710 - val_acc: 0.9843\n",
      "Epoch 197/300\n",
      "2295/2295 [==============================] - 6s 3ms/step - loss: 0.6694 - acc: 0.9943 - val_loss: 0.6741 - val_acc: 0.9647\n",
      "Epoch 198/300\n",
      "2295/2295 [==============================] - 6s 3ms/step - loss: 0.6692 - acc: 0.9956 - val_loss: 0.6724 - val_acc: 0.9686\n",
      "Epoch 199/300\n",
      "2295/2295 [==============================] - 6s 3ms/step - loss: 0.6690 - acc: 0.9939 - val_loss: 0.6711 - val_acc: 0.9843\n",
      "Epoch 200/300\n",
      "2295/2295 [==============================] - 6s 3ms/step - loss: 0.6689 - acc: 0.9969 - val_loss: 0.6728 - val_acc: 0.9647\n",
      "Epoch 201/300\n",
      "2295/2295 [==============================] - 6s 3ms/step - loss: 0.6690 - acc: 0.9939 - val_loss: 0.6730 - val_acc: 0.9647\n",
      "Epoch 202/300\n",
      "2295/2295 [==============================] - 6s 3ms/step - loss: 0.6691 - acc: 0.9935 - val_loss: 0.6720 - val_acc: 0.9725\n",
      "Epoch 203/300\n",
      "2295/2295 [==============================] - 6s 3ms/step - loss: 0.6689 - acc: 0.9956 - val_loss: 0.6718 - val_acc: 0.9765\n",
      "Epoch 204/300\n",
      "2295/2295 [==============================] - 6s 3ms/step - loss: 0.6689 - acc: 0.9956 - val_loss: 0.6711 - val_acc: 0.9843\n",
      "Epoch 205/300\n",
      "2295/2295 [==============================] - 7s 3ms/step - loss: 0.6687 - acc: 0.9965 - val_loss: 0.6704 - val_acc: 0.9961\n",
      "Epoch 206/300\n",
      "2295/2295 [==============================] - 7s 3ms/step - loss: 0.6687 - acc: 0.9965 - val_loss: 0.6705 - val_acc: 0.9922\n",
      "Epoch 207/300\n",
      "2295/2295 [==============================] - 6s 3ms/step - loss: 0.6689 - acc: 0.9952 - val_loss: 0.6708 - val_acc: 0.9843\n",
      "Epoch 208/300\n",
      "2295/2295 [==============================] - 6s 3ms/step - loss: 0.6685 - acc: 0.9965 - val_loss: 0.6710 - val_acc: 0.9843\n",
      "Epoch 209/300\n",
      "2295/2295 [==============================] - 6s 3ms/step - loss: 0.6686 - acc: 0.9978 - val_loss: 0.6722 - val_acc: 0.9686\n",
      "Epoch 210/300\n",
      "2295/2295 [==============================] - 6s 3ms/step - loss: 0.6686 - acc: 0.9961 - val_loss: 0.6724 - val_acc: 0.9686\n",
      "Epoch 211/300\n",
      "2295/2295 [==============================] - 7s 3ms/step - loss: 0.6686 - acc: 0.9956 - val_loss: 0.6702 - val_acc: 0.9961\n",
      "Epoch 212/300\n",
      "2295/2295 [==============================] - 6s 3ms/step - loss: 0.6686 - acc: 0.9965 - val_loss: 0.6703 - val_acc: 0.9882\n",
      "Epoch 213/300\n",
      "2295/2295 [==============================] - 6s 3ms/step - loss: 0.6685 - acc: 0.9961 - val_loss: 0.6703 - val_acc: 0.9882\n",
      "Epoch 214/300\n",
      "2295/2295 [==============================] - 6s 3ms/step - loss: 0.6687 - acc: 0.9965 - val_loss: 0.6734 - val_acc: 0.9647\n",
      "Epoch 215/300\n",
      "2295/2295 [==============================] - 6s 3ms/step - loss: 0.6684 - acc: 0.9969 - val_loss: 0.6701 - val_acc: 0.9961\n",
      "Epoch 216/300\n",
      "2295/2295 [==============================] - 6s 3ms/step - loss: 0.6687 - acc: 0.9961 - val_loss: 0.6729 - val_acc: 0.9647\n",
      "Epoch 217/300\n",
      "2295/2295 [==============================] - 6s 3ms/step - loss: 0.6686 - acc: 0.9969 - val_loss: 0.6705 - val_acc: 0.9843\n",
      "Epoch 218/300\n",
      "2295/2295 [==============================] - 6s 3ms/step - loss: 0.6684 - acc: 0.9961 - val_loss: 0.6719 - val_acc: 0.9725\n",
      "Epoch 219/300\n",
      "2295/2295 [==============================] - 7s 3ms/step - loss: 0.6683 - acc: 0.9965 - val_loss: 0.6704 - val_acc: 0.9843\n",
      "Epoch 220/300\n",
      "2295/2295 [==============================] - 7s 3ms/step - loss: 0.6683 - acc: 0.9965 - val_loss: 0.6715 - val_acc: 0.9765\n",
      "Epoch 221/300\n",
      "2295/2295 [==============================] - 7s 3ms/step - loss: 0.6682 - acc: 0.9987 - val_loss: 0.6710 - val_acc: 0.9843\n",
      "Epoch 222/300\n",
      "2295/2295 [==============================] - 7s 3ms/step - loss: 0.6683 - acc: 0.9969 - val_loss: 0.6699 - val_acc: 0.9882\n",
      "Epoch 223/300\n",
      "2295/2295 [==============================] - 7s 3ms/step - loss: 0.6682 - acc: 0.9983 - val_loss: 0.6704 - val_acc: 0.9843\n",
      "Epoch 224/300\n",
      "2295/2295 [==============================] - 7s 3ms/step - loss: 0.6682 - acc: 0.9991 - val_loss: 0.6699 - val_acc: 1.0000\n",
      "Epoch 225/300\n",
      "2295/2295 [==============================] - 7s 3ms/step - loss: 0.6682 - acc: 0.9983 - val_loss: 0.6697 - val_acc: 0.9961\n",
      "Epoch 226/300\n",
      "2295/2295 [==============================] - 7s 3ms/step - loss: 0.6683 - acc: 0.9978 - val_loss: 0.6738 - val_acc: 0.9647\n",
      "Epoch 227/300\n",
      "2295/2295 [==============================] - 7s 3ms/step - loss: 0.6683 - acc: 0.9961 - val_loss: 0.6708 - val_acc: 0.9843\n",
      "Epoch 228/300\n",
      "2295/2295 [==============================] - 7s 3ms/step - loss: 0.6682 - acc: 0.9983 - val_loss: 0.6718 - val_acc: 0.9765\n",
      "Epoch 229/300\n",
      "2295/2295 [==============================] - 7s 3ms/step - loss: 0.6680 - acc: 0.9987 - val_loss: 0.6714 - val_acc: 0.9804\n",
      "Epoch 230/300\n",
      "2295/2295 [==============================] - 6s 3ms/step - loss: 0.6680 - acc: 0.9978 - val_loss: 0.6700 - val_acc: 0.9843\n",
      "Epoch 231/300\n",
      "2295/2295 [==============================] - 6s 3ms/step - loss: 0.6679 - acc: 0.9987 - val_loss: 0.6714 - val_acc: 0.9804\n",
      "Epoch 232/300\n",
      "2295/2295 [==============================] - 6s 3ms/step - loss: 0.6682 - acc: 0.9978 - val_loss: 0.6749 - val_acc: 0.9529\n",
      "Epoch 233/300\n",
      "2295/2295 [==============================] - 6s 3ms/step - loss: 0.6682 - acc: 0.9974 - val_loss: 0.6698 - val_acc: 0.9882\n",
      "Epoch 234/300\n",
      "2295/2295 [==============================] - 6s 3ms/step - loss: 0.6680 - acc: 0.9991 - val_loss: 0.6714 - val_acc: 0.9804\n",
      "Epoch 235/300\n",
      "2295/2295 [==============================] - 6s 3ms/step - loss: 0.6680 - acc: 0.9978 - val_loss: 0.6693 - val_acc: 0.9961\n",
      "Epoch 236/300\n",
      "2295/2295 [==============================] - 6s 3ms/step - loss: 0.6681 - acc: 0.9987 - val_loss: 0.6700 - val_acc: 0.9843\n",
      "Epoch 237/300\n",
      "2295/2295 [==============================] - 6s 3ms/step - loss: 0.6678 - acc: 0.9987 - val_loss: 0.6700 - val_acc: 0.9843\n",
      "Epoch 238/300\n",
      "2295/2295 [==============================] - 6s 3ms/step - loss: 0.6679 - acc: 0.9983 - val_loss: 0.6710 - val_acc: 0.9843\n",
      "Epoch 239/300\n",
      "2295/2295 [==============================] - 6s 3ms/step - loss: 0.6677 - acc: 0.9996 - val_loss: 0.6722 - val_acc: 0.9725\n",
      "Epoch 240/300\n",
      "2295/2295 [==============================] - 7s 3ms/step - loss: 0.6678 - acc: 0.9987 - val_loss: 0.6716 - val_acc: 0.9804\n"
     ]
    },
    {
     "name": "stdout",
     "output_type": "stream",
     "text": [
      "Epoch 241/300\n",
      "2295/2295 [==============================] - 6s 3ms/step - loss: 0.6679 - acc: 0.9987 - val_loss: 0.6699 - val_acc: 0.9843\n",
      "Epoch 242/300\n",
      "2295/2295 [==============================] - 6s 3ms/step - loss: 0.6676 - acc: 0.9987 - val_loss: 0.6699 - val_acc: 0.9843\n",
      "Epoch 243/300\n",
      "2295/2295 [==============================] - 6s 3ms/step - loss: 0.6677 - acc: 0.9991 - val_loss: 0.6701 - val_acc: 0.9843\n",
      "Epoch 244/300\n",
      "2295/2295 [==============================] - 6s 3ms/step - loss: 0.6679 - acc: 0.9996 - val_loss: 0.6726 - val_acc: 0.9686\n",
      "Epoch 245/300\n",
      "2295/2295 [==============================] - 6s 3ms/step - loss: 0.6680 - acc: 0.9978 - val_loss: 0.6699 - val_acc: 0.9843\n",
      "Epoch 246/300\n",
      "2295/2295 [==============================] - 6s 3ms/step - loss: 0.6677 - acc: 0.9991 - val_loss: 0.6699 - val_acc: 0.9843\n",
      "Epoch 247/300\n",
      "2295/2295 [==============================] - 6s 3ms/step - loss: 0.6678 - acc: 0.9983 - val_loss: 0.6702 - val_acc: 0.9843\n",
      "Epoch 248/300\n",
      "2295/2295 [==============================] - 6s 3ms/step - loss: 0.6676 - acc: 0.9991 - val_loss: 0.6697 - val_acc: 0.9843\n",
      "Epoch 249/300\n",
      "2295/2295 [==============================] - 6s 3ms/step - loss: 0.6676 - acc: 0.9991 - val_loss: 0.6706 - val_acc: 0.9843\n",
      "Epoch 250/300\n",
      "2295/2295 [==============================] - 6s 3ms/step - loss: 0.6676 - acc: 0.9991 - val_loss: 0.6690 - val_acc: 1.0000\n",
      "Epoch 251/300\n",
      "2295/2295 [==============================] - 6s 3ms/step - loss: 0.6678 - acc: 0.9983 - val_loss: 0.6689 - val_acc: 1.0000\n",
      "Epoch 252/300\n",
      "2295/2295 [==============================] - 6s 3ms/step - loss: 0.6678 - acc: 0.9978 - val_loss: 0.6690 - val_acc: 0.9922\n",
      "Epoch 253/300\n",
      "2295/2295 [==============================] - 6s 3ms/step - loss: 0.6678 - acc: 0.9983 - val_loss: 0.6695 - val_acc: 0.9882\n",
      "Epoch 254/300\n",
      "2295/2295 [==============================] - 6s 3ms/step - loss: 0.6679 - acc: 0.9974 - val_loss: 0.6689 - val_acc: 0.9961\n",
      "Epoch 255/300\n",
      "2295/2295 [==============================] - 6s 3ms/step - loss: 0.6675 - acc: 0.9996 - val_loss: 0.6700 - val_acc: 0.9843\n",
      "Epoch 256/300\n",
      "2295/2295 [==============================] - 6s 3ms/step - loss: 0.6675 - acc: 0.9991 - val_loss: 0.6694 - val_acc: 0.9882\n",
      "Epoch 257/300\n",
      "2295/2295 [==============================] - 6s 3ms/step - loss: 0.6675 - acc: 0.9991 - val_loss: 0.6715 - val_acc: 0.9804\n",
      "Epoch 258/300\n",
      "2295/2295 [==============================] - 6s 3ms/step - loss: 0.6676 - acc: 0.9987 - val_loss: 0.6688 - val_acc: 0.9961\n",
      "Epoch 259/300\n",
      "2295/2295 [==============================] - 6s 3ms/step - loss: 0.6678 - acc: 0.9983 - val_loss: 0.6712 - val_acc: 0.9843\n",
      "Epoch 260/300\n",
      "2295/2295 [==============================] - 6s 3ms/step - loss: 0.6675 - acc: 0.9996 - val_loss: 0.6704 - val_acc: 0.9843\n",
      "Epoch 261/300\n",
      "2295/2295 [==============================] - 6s 3ms/step - loss: 0.6676 - acc: 0.9991 - val_loss: 0.6688 - val_acc: 0.9922\n",
      "Epoch 262/300\n",
      "2295/2295 [==============================] - 6s 3ms/step - loss: 0.6676 - acc: 0.9996 - val_loss: 0.6691 - val_acc: 0.9922\n",
      "Epoch 263/300\n",
      "2295/2295 [==============================] - 6s 3ms/step - loss: 0.6675 - acc: 0.9987 - val_loss: 0.6701 - val_acc: 0.9843\n",
      "Epoch 264/300\n",
      "2295/2295 [==============================] - 6s 3ms/step - loss: 0.6674 - acc: 0.9996 - val_loss: 0.6686 - val_acc: 1.0000\n",
      "Epoch 265/300\n",
      "2295/2295 [==============================] - 6s 3ms/step - loss: 0.6676 - acc: 0.9987 - val_loss: 0.6687 - val_acc: 0.9961\n",
      "Epoch 266/300\n",
      "2295/2295 [==============================] - 6s 3ms/step - loss: 0.6674 - acc: 0.9996 - val_loss: 0.6699 - val_acc: 0.9843\n",
      "Epoch 267/300\n",
      "2295/2295 [==============================] - 6s 3ms/step - loss: 0.6674 - acc: 0.9996 - val_loss: 0.6692 - val_acc: 0.9882\n",
      "Epoch 268/300\n",
      "2295/2295 [==============================] - 6s 3ms/step - loss: 0.6673 - acc: 0.9996 - val_loss: 0.6688 - val_acc: 0.9922\n",
      "Epoch 269/300\n",
      "2295/2295 [==============================] - 6s 3ms/step - loss: 0.6674 - acc: 0.9996 - val_loss: 0.6693 - val_acc: 0.9882\n",
      "Epoch 270/300\n",
      "2295/2295 [==============================] - 6s 3ms/step - loss: 0.6677 - acc: 0.9996 - val_loss: 0.6697 - val_acc: 0.9843\n",
      "Epoch 271/300\n",
      "2295/2295 [==============================] - 6s 3ms/step - loss: 0.6672 - acc: 0.9996 - val_loss: 0.6696 - val_acc: 0.9843\n",
      "Epoch 272/300\n",
      "2295/2295 [==============================] - 6s 3ms/step - loss: 0.6675 - acc: 0.9987 - val_loss: 0.6688 - val_acc: 0.9922\n",
      "Epoch 273/300\n",
      "2295/2295 [==============================] - 6s 3ms/step - loss: 0.6674 - acc: 0.9996 - val_loss: 0.6709 - val_acc: 0.9843\n",
      "Epoch 274/300\n",
      "2295/2295 [==============================] - 6s 3ms/step - loss: 0.6673 - acc: 0.9996 - val_loss: 0.6687 - val_acc: 0.9922\n",
      "Epoch 275/300\n",
      "2295/2295 [==============================] - 6s 3ms/step - loss: 0.6673 - acc: 0.9991 - val_loss: 0.6694 - val_acc: 0.9882\n",
      "Epoch 276/300\n",
      "2295/2295 [==============================] - 6s 3ms/step - loss: 0.6673 - acc: 0.9996 - val_loss: 0.6710 - val_acc: 0.9843\n",
      "Epoch 277/300\n",
      "2295/2295 [==============================] - 6s 3ms/step - loss: 0.6673 - acc: 0.9996 - val_loss: 0.6690 - val_acc: 0.9922\n",
      "Epoch 278/300\n",
      "2295/2295 [==============================] - 6s 3ms/step - loss: 0.6672 - acc: 0.9996 - val_loss: 0.6694 - val_acc: 0.9882\n",
      "Epoch 279/300\n",
      "2295/2295 [==============================] - 6s 3ms/step - loss: 0.6672 - acc: 0.9996 - val_loss: 0.6697 - val_acc: 0.9843\n",
      "Epoch 280/300\n",
      "2295/2295 [==============================] - 6s 3ms/step - loss: 0.6673 - acc: 0.9991 - val_loss: 0.6693 - val_acc: 0.9882\n",
      "Epoch 281/300\n",
      "2295/2295 [==============================] - 6s 3ms/step - loss: 0.6673 - acc: 1.0000 - val_loss: 0.6791 - val_acc: 0.9490\n",
      "Epoch 282/300\n",
      "2295/2295 [==============================] - 6s 3ms/step - loss: 0.6688 - acc: 0.9935 - val_loss: 0.6695 - val_acc: 0.9843\n",
      "Epoch 283/300\n",
      "2295/2295 [==============================] - 6s 3ms/step - loss: 0.6672 - acc: 0.9996 - val_loss: 0.6683 - val_acc: 1.0000\n",
      "Epoch 284/300\n",
      "2295/2295 [==============================] - 6s 3ms/step - loss: 0.6673 - acc: 0.9991 - val_loss: 0.6699 - val_acc: 0.9843\n",
      "Epoch 285/300\n",
      "2295/2295 [==============================] - 6s 3ms/step - loss: 0.6672 - acc: 1.0000 - val_loss: 0.6686 - val_acc: 0.9922\n",
      "Epoch 286/300\n",
      "2295/2295 [==============================] - 6s 3ms/step - loss: 0.6672 - acc: 1.0000 - val_loss: 0.6684 - val_acc: 1.0000\n",
      "Epoch 287/300\n",
      "2295/2295 [==============================] - 6s 3ms/step - loss: 0.6671 - acc: 0.9996 - val_loss: 0.6690 - val_acc: 0.9882\n",
      "Epoch 288/300\n",
      "2295/2295 [==============================] - 6s 3ms/step - loss: 0.6672 - acc: 0.9996 - val_loss: 0.6688 - val_acc: 0.9922\n",
      "Epoch 289/300\n",
      "2295/2295 [==============================] - 6s 3ms/step - loss: 0.6671 - acc: 0.9996 - val_loss: 0.6683 - val_acc: 1.0000\n",
      "Epoch 290/300\n",
      "2295/2295 [==============================] - 6s 3ms/step - loss: 0.6672 - acc: 1.0000 - val_loss: 0.6691 - val_acc: 0.9882\n",
      "Epoch 291/300\n",
      "2295/2295 [==============================] - 6s 3ms/step - loss: 0.6672 - acc: 0.9996 - val_loss: 0.6689 - val_acc: 0.9922\n",
      "Epoch 292/300\n",
      "2295/2295 [==============================] - 6s 3ms/step - loss: 0.6671 - acc: 0.9996 - val_loss: 0.6689 - val_acc: 0.9922\n",
      "Epoch 293/300\n",
      "2295/2295 [==============================] - 7s 3ms/step - loss: 0.6672 - acc: 0.9996 - val_loss: 0.6682 - val_acc: 1.0000\n",
      "Epoch 294/300\n",
      "2295/2295 [==============================] - 6s 3ms/step - loss: 0.6671 - acc: 1.0000 - val_loss: 0.6683 - val_acc: 0.9961\n",
      "Epoch 295/300\n",
      "2295/2295 [==============================] - 6s 3ms/step - loss: 0.6672 - acc: 0.9996 - val_loss: 0.6682 - val_acc: 1.0000\n",
      "Epoch 296/300\n",
      "2295/2295 [==============================] - 6s 3ms/step - loss: 0.6673 - acc: 1.0000 - val_loss: 0.6684 - val_acc: 1.0000\n",
      "Epoch 297/300\n",
      "2295/2295 [==============================] - 6s 3ms/step - loss: 0.6672 - acc: 0.9996 - val_loss: 0.6689 - val_acc: 0.9922TA: 4s - los - ETA: 0s - loss: 0.6672 - acc: 0\n",
      "Epoch 298/300\n",
      "2295/2295 [==============================] - 6s 3ms/step - loss: 0.6670 - acc: 1.0000 - val_loss: 0.6687 - val_acc: 0.9922\n",
      "Epoch 299/300\n",
      "2295/2295 [==============================] - 6s 3ms/step - loss: 0.6670 - acc: 1.0000 - val_loss: 0.6683 - val_acc: 0.9961\n",
      "Epoch 300/300\n"
     ]
    },
    {
     "name": "stdout",
     "output_type": "stream",
     "text": [
      "2295/2295 [==============================] - 6s 3ms/step - loss: 0.6670 - acc: 0.9996 - val_loss: 0.6689 - val_acc: 0.9922\n"
     ]
    }
   ],
   "source": [
    "history = model.fit(X_train, y_train, batch_size=64, epochs=300, validation_split=0.1)"
   ]
  },
  {
   "cell_type": "code",
   "execution_count": 19,
   "metadata": {
    "ExecuteTime": {
     "end_time": "2018-12-07T09:48:41.724100Z",
     "start_time": "2018-12-07T09:48:41.246073Z"
    }
   },
   "outputs": [
    {
     "name": "stdout",
     "output_type": "stream",
     "text": [
      "450/450 [==============================] - 0s 1ms/step\n",
      "LOSS: 0.6681227034992642\n",
      "Accuracy: 1.0\n"
     ]
    }
   ],
   "source": [
    "score = model.evaluate(X_test, y_test)\n",
    "print(\"LOSS:\", score[0])\n",
    "print(\"Accuracy:\", score[1])"
   ]
  },
  {
   "cell_type": "code",
   "execution_count": 20,
   "metadata": {
    "ExecuteTime": {
     "end_time": "2018-12-07T09:48:41.892110Z",
     "start_time": "2018-12-07T09:48:41.726100Z"
    }
   },
   "outputs": [
    {
     "data": {
      "image/png": "[encoded data removed]",
      "text/plain": [
       "<Figure size 432x288 with 1 Axes>"
      ]
     },
     "metadata": {
      "needs_background": "light"
     },
     "output_type": "display_data"
    }
   ],
   "source": [
    "loss = history.history['loss']\n",
    "val_loss = history.history['val_loss']\n",
    "epochs = range(1, len(loss) + 1)\n",
    "plt.plot(epochs, loss, 'bo', label='Training loss')\n",
    "plt.plot(epochs, val_loss, 'b', label='Validation loss')\n",
    "plt.title('Training and validation loss')\n",
    "plt.xlabel('Epochs')\n",
    "plt.ylabel('Loss')\n",
    "plt.legend()\n",
    "plt.show()"
   ]
  },
  {
   "cell_type": "code",
   "execution_count": 21,
   "metadata": {
    "ExecuteTime": {
     "end_time": "2018-12-07T09:48:42.032118Z",
     "start_time": "2018-12-07T09:48:41.895110Z"
    }
   },
   "outputs": [
    {
     "data": {
      "image/png": "[encoded data removed]",
      "text/plain": [
       "<Figure size 432x288 with 1 Axes>"
      ]
     },
     "metadata": {
      "needs_background": "light"
     },
     "output_type": "display_data"
    }
   ],
   "source": [
    "acc = history.history['acc']\n",
    "val_acc = history.history['val_acc']\n",
    "plt.plot(epochs, acc, 'bo', label='Training acc')\n",
    "plt.plot(epochs, val_acc, 'b', label='Validation acc')\n",
    "plt.title('Training and validation accuracy')\n",
    "plt.xlabel('Epochs')\n",
    "plt.ylabel('Accuracy')\n",
    "plt.legend()\n",
    "plt.show()"
   ]
  },
  {
   "cell_type": "code",
   "execution_count": null,
   "metadata": {},
   "outputs": [],
   "source": []
  }
 ],
 "metadata": {
  "hide_input": false,
  "kernelspec": {
   "display_name": "Python 3",
   "language": "python",
   "name": "python3"
  },
  "language_info": {
   "codemirror_mode": {
    "name": "ipython",
    "version": 3
   },
   "file_extension": ".py",
   "mimetype": "text/x-python",
   "name": "python",
   "nbconvert_exporter": "python",
   "pygments_lexer": "ipython3",
   "version": "3.6.6"
  },
  "toc": {
   "base_numbering": 1.0,
   "nav_menu": {},
   "number_sections": true,
   "sideBar": true,
   "skip_h1_title": false,
   "title_cell": "Table of Contents",
   "title_sidebar": "Contents",
   "toc_cell": false,
   "toc_position": {},
   "toc_section_display": true,
   "toc_window_display": false
  }
 },
 "nbformat": 4,
 "nbformat_minor": 2
}
